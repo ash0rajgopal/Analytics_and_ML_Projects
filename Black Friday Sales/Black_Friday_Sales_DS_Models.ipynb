{
 "cells": [
  {
   "cell_type": "markdown",
   "metadata": {
    "colab_type": "text",
    "id": "k8ObAqvHun08"
   },
   "source": [
    "### Introduction :\n",
    "\n",
    "Black Friday is an informal name for the Friday following Thanksgiving Day in the United States, which is celebrated on the fourth Thursday of November. The day after Thanksgiving has been regarded as the beginning of America's Christmas shopping season since 1952, although the term \"Black Friday\" didn't become widely used until more recent decades.\n",
    "Many stores offer highly promoted sales on Black Friday and open very early, such as at midnight, or may even start their sales at some time on Thanksgiving. Black Friday is not an official holiday, but California and some other states observe \"The Day After Thanksgiving\" as a holiday for state government employees, sometimes in lieu of another federal holiday, such as Columbus Day. Many non-retail employees and schools have both Thanksgiving and the following Friday off, which, along with the following regular weekend, makes it a four-day weekend, thereby increasing the number of potential shoppers.\n",
    "Black Friday has routinely been the busiest shopping day of the year in the United States since 2005, although news reports, which at that time were inaccurate, have described it as the busiest shopping day of the year for a much longer period of time. Similar stories resurface year upon year at this time, portraying hysteria and shortage of stock, creating a state of positive feedback.\n",
    "\n",
    "### About the Dataset :\n",
    "\n",
    "The dataset here is a sample of the transactions made in a retail store. The store wants to know get an idea about customer purchase behaviour against different products.\n",
    "\n",
    "### Problem Statement :\n",
    "\n",
    "A retail company wants to understand the customer purchase behaviour (specifically, purchase amount) against various products of different categories. They have shared purchase summary of various customers for selected high-volume products from last month.\n",
    "The data set also contains customer demographics (age, gender, marital status, city category, years stayed in current city), product details (product id and product category) and purchase amount per transaction.\n",
    "The store has a loyalty program and wants to provide offers on products during non-sale period on certain categories of interest. Based on the Black day sales data, recommend the top 100 products it must prioritize for loyalty rewards to customers? Please give a business and statistical reasoning. \n",
    "They want to build a model to predict the purchase amount of customer against various products which will help them create personalized offer for customers against different products.\n"
   ]
  },
  {
   "cell_type": "code",
   "execution_count": 1,
   "metadata": {
    "colab": {},
    "colab_type": "code",
    "id": "6dXS7k_dun09"
   },
   "outputs": [],
   "source": [
    "# Warnings\n",
    "import warnings\n",
    "warnings.filterwarnings('ignore')"
   ]
  },
  {
   "cell_type": "code",
   "execution_count": 2,
   "metadata": {
    "colab": {},
    "colab_type": "code",
    "id": "UtuPviT7un1A"
   },
   "outputs": [],
   "source": [
    "import numpy as np\n",
    "import pandas as pd\n",
    "import matplotlib as mpl\n",
    "import matplotlib.pyplot as plt\n",
    "import seaborn as sns\n",
    "%matplotlib inline"
   ]
  },
  {
   "cell_type": "code",
   "execution_count": 3,
   "metadata": {
    "colab": {
     "base_uri": "https://localhost:8080/",
     "height": 124
    },
    "colab_type": "code",
    "id": "5d0pRwoJuq_U",
    "outputId": "e50e2791-0e58-42d5-eda9-3b51ae9d8599"
   },
   "outputs": [],
   "source": [
    "#from google.colab import drive\n",
    "#drive.mount('/content/drive')"
   ]
  },
  {
   "cell_type": "code",
   "execution_count": 4,
   "metadata": {
    "colab": {
     "base_uri": "https://localhost:8080/",
     "height": 356
    },
    "colab_type": "code",
    "id": "j56IU12fun1F",
    "outputId": "95cb9914-8e81-4724-e59e-f3c462b8ea78"
   },
   "outputs": [
    {
     "data": {
      "text/html": [
       "<div>\n",
       "<style scoped>\n",
       "    .dataframe tbody tr th:only-of-type {\n",
       "        vertical-align: middle;\n",
       "    }\n",
       "\n",
       "    .dataframe tbody tr th {\n",
       "        vertical-align: top;\n",
       "    }\n",
       "\n",
       "    .dataframe thead th {\n",
       "        text-align: right;\n",
       "    }\n",
       "</style>\n",
       "<table border=\"1\" class=\"dataframe\">\n",
       "  <thead>\n",
       "    <tr style=\"text-align: right;\">\n",
       "      <th></th>\n",
       "      <th>User_ID</th>\n",
       "      <th>Product_ID</th>\n",
       "      <th>Gender</th>\n",
       "      <th>Age</th>\n",
       "      <th>Occupation</th>\n",
       "      <th>City_Category</th>\n",
       "      <th>Stay_In_Current_City_Years</th>\n",
       "      <th>Marital_Status</th>\n",
       "      <th>Product_Category_1</th>\n",
       "      <th>Product_Category_2</th>\n",
       "      <th>Product_Category_3</th>\n",
       "      <th>Purchase</th>\n",
       "    </tr>\n",
       "  </thead>\n",
       "  <tbody>\n",
       "    <tr>\n",
       "      <th>0</th>\n",
       "      <td>1000001</td>\n",
       "      <td>P00069042</td>\n",
       "      <td>F</td>\n",
       "      <td>0-17</td>\n",
       "      <td>10</td>\n",
       "      <td>A</td>\n",
       "      <td>2</td>\n",
       "      <td>0</td>\n",
       "      <td>3</td>\n",
       "      <td>NaN</td>\n",
       "      <td>NaN</td>\n",
       "      <td>8370</td>\n",
       "    </tr>\n",
       "    <tr>\n",
       "      <th>1</th>\n",
       "      <td>1000001</td>\n",
       "      <td>P00248942</td>\n",
       "      <td>F</td>\n",
       "      <td>0-17</td>\n",
       "      <td>10</td>\n",
       "      <td>A</td>\n",
       "      <td>2</td>\n",
       "      <td>0</td>\n",
       "      <td>1</td>\n",
       "      <td>6.0</td>\n",
       "      <td>14.0</td>\n",
       "      <td>15200</td>\n",
       "    </tr>\n",
       "    <tr>\n",
       "      <th>2</th>\n",
       "      <td>1000001</td>\n",
       "      <td>P00087842</td>\n",
       "      <td>F</td>\n",
       "      <td>0-17</td>\n",
       "      <td>10</td>\n",
       "      <td>A</td>\n",
       "      <td>2</td>\n",
       "      <td>0</td>\n",
       "      <td>12</td>\n",
       "      <td>NaN</td>\n",
       "      <td>NaN</td>\n",
       "      <td>1422</td>\n",
       "    </tr>\n",
       "    <tr>\n",
       "      <th>3</th>\n",
       "      <td>1000001</td>\n",
       "      <td>P00085442</td>\n",
       "      <td>F</td>\n",
       "      <td>0-17</td>\n",
       "      <td>10</td>\n",
       "      <td>A</td>\n",
       "      <td>2</td>\n",
       "      <td>0</td>\n",
       "      <td>12</td>\n",
       "      <td>14.0</td>\n",
       "      <td>NaN</td>\n",
       "      <td>1057</td>\n",
       "    </tr>\n",
       "    <tr>\n",
       "      <th>4</th>\n",
       "      <td>1000002</td>\n",
       "      <td>P00285442</td>\n",
       "      <td>M</td>\n",
       "      <td>55+</td>\n",
       "      <td>16</td>\n",
       "      <td>C</td>\n",
       "      <td>4+</td>\n",
       "      <td>0</td>\n",
       "      <td>8</td>\n",
       "      <td>NaN</td>\n",
       "      <td>NaN</td>\n",
       "      <td>7969</td>\n",
       "    </tr>\n",
       "  </tbody>\n",
       "</table>\n",
       "</div>"
      ],
      "text/plain": [
       "   User_ID Product_ID Gender   Age  Occupation City_Category  \\\n",
       "0  1000001  P00069042      F  0-17          10             A   \n",
       "1  1000001  P00248942      F  0-17          10             A   \n",
       "2  1000001  P00087842      F  0-17          10             A   \n",
       "3  1000001  P00085442      F  0-17          10             A   \n",
       "4  1000002  P00285442      M   55+          16             C   \n",
       "\n",
       "  Stay_In_Current_City_Years  Marital_Status  Product_Category_1  \\\n",
       "0                          2               0                   3   \n",
       "1                          2               0                   1   \n",
       "2                          2               0                  12   \n",
       "3                          2               0                  12   \n",
       "4                         4+               0                   8   \n",
       "\n",
       "   Product_Category_2  Product_Category_3  Purchase  \n",
       "0                 NaN                 NaN      8370  \n",
       "1                 6.0                14.0     15200  \n",
       "2                 NaN                 NaN      1422  \n",
       "3                14.0                 NaN      1057  \n",
       "4                 NaN                 NaN      7969  "
      ]
     },
     "execution_count": 4,
     "metadata": {},
     "output_type": "execute_result"
    }
   ],
   "source": [
    "#df = pd.read_csv('/content/drive/My Drive/Datasets/BlackFriday.csv')\n",
    "#df.head(10)\n",
    "df = pd.read_csv('BlackFriday.csv')\n",
    "df.head()"
   ]
  },
  {
   "cell_type": "code",
   "execution_count": 5,
   "metadata": {
    "colab": {
     "base_uri": "https://localhost:8080/",
     "height": 34
    },
    "colab_type": "code",
    "id": "5J3aJyavun1I",
    "outputId": "fc50a659-a100-478a-bf56-2b588cb557d2"
   },
   "outputs": [
    {
     "data": {
      "text/plain": [
       "(537577, 12)"
      ]
     },
     "execution_count": 5,
     "metadata": {},
     "output_type": "execute_result"
    }
   ],
   "source": [
    "df.shape"
   ]
  },
  {
   "cell_type": "markdown",
   "metadata": {
    "colab_type": "text",
    "id": "6o3l0IH4un1K"
   },
   "source": [
    "The dataset contains 7 numerical (integer and float) and 5 categorical variables.\n"
   ]
  },
  {
   "cell_type": "code",
   "execution_count": null,
   "metadata": {
    "colab": {},
    "colab_type": "code",
    "id": "gjaQYCxZiv4l"
   },
   "outputs": [],
   "source": []
  },
  {
   "cell_type": "code",
   "execution_count": 6,
   "metadata": {
    "colab": {
     "base_uri": "https://localhost:8080/",
     "height": 312
    },
    "colab_type": "code",
    "id": "vm8U3Y1Aun1L",
    "outputId": "28a66d9d-6172-4601-bbac-c4bc4cc3ebca"
   },
   "outputs": [
    {
     "name": "stdout",
     "output_type": "stream",
     "text": [
      "<class 'pandas.core.frame.DataFrame'>\n",
      "RangeIndex: 537577 entries, 0 to 537576\n",
      "Data columns (total 12 columns):\n",
      "User_ID                       537577 non-null int64\n",
      "Product_ID                    537577 non-null object\n",
      "Gender                        537577 non-null object\n",
      "Age                           537577 non-null object\n",
      "Occupation                    537577 non-null int64\n",
      "City_Category                 537577 non-null object\n",
      "Stay_In_Current_City_Years    537577 non-null object\n",
      "Marital_Status                537577 non-null int64\n",
      "Product_Category_1            537577 non-null int64\n",
      "Product_Category_2            370591 non-null float64\n",
      "Product_Category_3            164278 non-null float64\n",
      "Purchase                      537577 non-null int64\n",
      "dtypes: float64(2), int64(5), object(5)\n",
      "memory usage: 49.2+ MB\n"
     ]
    }
   ],
   "source": [
    "df.info()"
   ]
  },
  {
   "cell_type": "code",
   "execution_count": 7,
   "metadata": {
    "colab": {
     "base_uri": "https://localhost:8080/",
     "height": 242
    },
    "colab_type": "code",
    "id": "UjjPEHiJun1O",
    "outputId": "da1733c8-2c0a-46d5-cdff-51c76787806a"
   },
   "outputs": [
    {
     "data": {
      "text/plain": [
       "User_ID                            0\n",
       "Product_ID                         0\n",
       "Gender                             0\n",
       "Age                                0\n",
       "Occupation                         0\n",
       "City_Category                      0\n",
       "Stay_In_Current_City_Years         0\n",
       "Marital_Status                     0\n",
       "Product_Category_1                 0\n",
       "Product_Category_2            166986\n",
       "Product_Category_3            373299\n",
       "Purchase                           0\n",
       "dtype: int64"
      ]
     },
     "execution_count": 7,
     "metadata": {},
     "output_type": "execute_result"
    }
   ],
   "source": [
    "df.isnull().sum()"
   ]
  },
  {
   "cell_type": "code",
   "execution_count": 8,
   "metadata": {
    "colab": {
     "base_uri": "https://localhost:8080/",
     "height": 242
    },
    "colab_type": "code",
    "id": "Mf0hxMzhun1S",
    "outputId": "19774ff4-ace1-4fd9-9bd1-9ccbaf11591e"
   },
   "outputs": [
    {
     "data": {
      "text/plain": [
       "User_ID                       0.000000\n",
       "Product_ID                    0.000000\n",
       "Gender                        0.000000\n",
       "Age                           0.000000\n",
       "Occupation                    0.000000\n",
       "City_Category                 0.000000\n",
       "Stay_In_Current_City_Years    0.000000\n",
       "Marital_Status                0.000000\n",
       "Product_Category_1            0.000000\n",
       "Product_Category_2            0.310627\n",
       "Product_Category_3            0.694410\n",
       "Purchase                      0.000000\n",
       "dtype: float64"
      ]
     },
     "execution_count": 8,
     "metadata": {},
     "output_type": "execute_result"
    }
   ],
   "source": [
    "df.isnull().sum()/df.shape[0]"
   ]
  },
  {
   "cell_type": "code",
   "execution_count": 9,
   "metadata": {
    "colab": {
     "base_uri": "https://localhost:8080/",
     "height": 49
    },
    "colab_type": "code",
    "id": "MHLuTD5SvgkO",
    "outputId": "d6e75956-0ef0-4c56-b207-051deb976442"
   },
   "outputs": [
    {
     "data": {
      "text/html": [
       "<div>\n",
       "<style scoped>\n",
       "    .dataframe tbody tr th:only-of-type {\n",
       "        vertical-align: middle;\n",
       "    }\n",
       "\n",
       "    .dataframe tbody tr th {\n",
       "        vertical-align: top;\n",
       "    }\n",
       "\n",
       "    .dataframe thead th {\n",
       "        text-align: right;\n",
       "    }\n",
       "</style>\n",
       "<table border=\"1\" class=\"dataframe\">\n",
       "  <thead>\n",
       "    <tr style=\"text-align: right;\">\n",
       "      <th></th>\n",
       "      <th>User_ID</th>\n",
       "      <th>Product_ID</th>\n",
       "      <th>Gender</th>\n",
       "      <th>Age</th>\n",
       "      <th>Occupation</th>\n",
       "      <th>City_Category</th>\n",
       "      <th>Stay_In_Current_City_Years</th>\n",
       "      <th>Marital_Status</th>\n",
       "      <th>Product_Category_1</th>\n",
       "      <th>Product_Category_2</th>\n",
       "      <th>Product_Category_3</th>\n",
       "      <th>Purchase</th>\n",
       "    </tr>\n",
       "  </thead>\n",
       "  <tbody>\n",
       "  </tbody>\n",
       "</table>\n",
       "</div>"
      ],
      "text/plain": [
       "Empty DataFrame\n",
       "Columns: [User_ID, Product_ID, Gender, Age, Occupation, City_Category, Stay_In_Current_City_Years, Marital_Status, Product_Category_1, Product_Category_2, Product_Category_3, Purchase]\n",
       "Index: []"
      ]
     },
     "execution_count": 9,
     "metadata": {},
     "output_type": "execute_result"
    }
   ],
   "source": [
    "df[df.duplicated()]"
   ]
  },
  {
   "cell_type": "markdown",
   "metadata": {
    "colab_type": "text",
    "id": "LEVb0u68un1U"
   },
   "source": [
    "#### There are null values in Product_category_2, Product_Category_3"
   ]
  },
  {
   "cell_type": "code",
   "execution_count": 10,
   "metadata": {
    "colab": {
     "base_uri": "https://localhost:8080/",
     "height": 294
    },
    "colab_type": "code",
    "id": "hsF4zy7mun1V",
    "outputId": "3da29a07-601a-4045-bb63-49925c2291be"
   },
   "outputs": [
    {
     "data": {
      "text/html": [
       "<div>\n",
       "<style scoped>\n",
       "    .dataframe tbody tr th:only-of-type {\n",
       "        vertical-align: middle;\n",
       "    }\n",
       "\n",
       "    .dataframe tbody tr th {\n",
       "        vertical-align: top;\n",
       "    }\n",
       "\n",
       "    .dataframe thead th {\n",
       "        text-align: right;\n",
       "    }\n",
       "</style>\n",
       "<table border=\"1\" class=\"dataframe\">\n",
       "  <thead>\n",
       "    <tr style=\"text-align: right;\">\n",
       "      <th></th>\n",
       "      <th>Occupation</th>\n",
       "      <th>Marital_Status</th>\n",
       "      <th>Product_Category_1</th>\n",
       "      <th>Product_Category_2</th>\n",
       "      <th>Product_Category_3</th>\n",
       "      <th>Purchase</th>\n",
       "    </tr>\n",
       "  </thead>\n",
       "  <tbody>\n",
       "    <tr>\n",
       "      <th>count</th>\n",
       "      <td>537577.00000</td>\n",
       "      <td>537577.000000</td>\n",
       "      <td>537577.000000</td>\n",
       "      <td>370591.000000</td>\n",
       "      <td>164278.000000</td>\n",
       "      <td>537577.000000</td>\n",
       "    </tr>\n",
       "    <tr>\n",
       "      <th>mean</th>\n",
       "      <td>8.08271</td>\n",
       "      <td>0.408797</td>\n",
       "      <td>5.295546</td>\n",
       "      <td>9.842144</td>\n",
       "      <td>12.669840</td>\n",
       "      <td>9333.859853</td>\n",
       "    </tr>\n",
       "    <tr>\n",
       "      <th>std</th>\n",
       "      <td>6.52412</td>\n",
       "      <td>0.491612</td>\n",
       "      <td>3.750701</td>\n",
       "      <td>5.087259</td>\n",
       "      <td>4.124341</td>\n",
       "      <td>4981.022133</td>\n",
       "    </tr>\n",
       "    <tr>\n",
       "      <th>min</th>\n",
       "      <td>0.00000</td>\n",
       "      <td>0.000000</td>\n",
       "      <td>1.000000</td>\n",
       "      <td>2.000000</td>\n",
       "      <td>3.000000</td>\n",
       "      <td>185.000000</td>\n",
       "    </tr>\n",
       "    <tr>\n",
       "      <th>25%</th>\n",
       "      <td>2.00000</td>\n",
       "      <td>0.000000</td>\n",
       "      <td>1.000000</td>\n",
       "      <td>5.000000</td>\n",
       "      <td>9.000000</td>\n",
       "      <td>5866.000000</td>\n",
       "    </tr>\n",
       "    <tr>\n",
       "      <th>50%</th>\n",
       "      <td>7.00000</td>\n",
       "      <td>0.000000</td>\n",
       "      <td>5.000000</td>\n",
       "      <td>9.000000</td>\n",
       "      <td>14.000000</td>\n",
       "      <td>8062.000000</td>\n",
       "    </tr>\n",
       "    <tr>\n",
       "      <th>75%</th>\n",
       "      <td>14.00000</td>\n",
       "      <td>1.000000</td>\n",
       "      <td>8.000000</td>\n",
       "      <td>15.000000</td>\n",
       "      <td>16.000000</td>\n",
       "      <td>12073.000000</td>\n",
       "    </tr>\n",
       "    <tr>\n",
       "      <th>max</th>\n",
       "      <td>20.00000</td>\n",
       "      <td>1.000000</td>\n",
       "      <td>18.000000</td>\n",
       "      <td>18.000000</td>\n",
       "      <td>18.000000</td>\n",
       "      <td>23961.000000</td>\n",
       "    </tr>\n",
       "  </tbody>\n",
       "</table>\n",
       "</div>"
      ],
      "text/plain": [
       "         Occupation  Marital_Status  Product_Category_1  Product_Category_2  \\\n",
       "count  537577.00000   537577.000000       537577.000000       370591.000000   \n",
       "mean        8.08271        0.408797            5.295546            9.842144   \n",
       "std         6.52412        0.491612            3.750701            5.087259   \n",
       "min         0.00000        0.000000            1.000000            2.000000   \n",
       "25%         2.00000        0.000000            1.000000            5.000000   \n",
       "50%         7.00000        0.000000            5.000000            9.000000   \n",
       "75%        14.00000        1.000000            8.000000           15.000000   \n",
       "max        20.00000        1.000000           18.000000           18.000000   \n",
       "\n",
       "       Product_Category_3       Purchase  \n",
       "count       164278.000000  537577.000000  \n",
       "mean            12.669840    9333.859853  \n",
       "std              4.124341    4981.022133  \n",
       "min              3.000000     185.000000  \n",
       "25%              9.000000    5866.000000  \n",
       "50%             14.000000    8062.000000  \n",
       "75%             16.000000   12073.000000  \n",
       "max             18.000000   23961.000000  "
      ]
     },
     "execution_count": 10,
     "metadata": {},
     "output_type": "execute_result"
    }
   ],
   "source": [
    "df.describe().drop('User_ID',axis=1)"
   ]
  },
  {
   "cell_type": "markdown",
   "metadata": {
    "colab_type": "text",
    "id": "M5d_D-bB1cik"
   },
   "source": [
    "#### Imputing Product_Category_2 and Product_Category_3 with 0."
   ]
  },
  {
   "cell_type": "code",
   "execution_count": 11,
   "metadata": {
    "colab": {
     "base_uri": "https://localhost:8080/",
     "height": 312
    },
    "colab_type": "code",
    "id": "GiGViFyQun1Y",
    "outputId": "4c53ae47-4900-4ee4-b9f0-a476a5c1ca56"
   },
   "outputs": [
    {
     "name": "stdout",
     "output_type": "stream",
     "text": [
      "<class 'pandas.core.frame.DataFrame'>\n",
      "RangeIndex: 537577 entries, 0 to 537576\n",
      "Data columns (total 12 columns):\n",
      "User_ID                       537577 non-null int64\n",
      "Product_ID                    537577 non-null object\n",
      "Gender                        537577 non-null object\n",
      "Age                           537577 non-null object\n",
      "Occupation                    537577 non-null int64\n",
      "City_Category                 537577 non-null object\n",
      "Stay_In_Current_City_Years    537577 non-null object\n",
      "Marital_Status                537577 non-null int64\n",
      "Product_Category_1            537577 non-null int64\n",
      "Product_Category_2            537577 non-null float64\n",
      "Product_Category_3            537577 non-null float64\n",
      "Purchase                      537577 non-null int64\n",
      "dtypes: float64(2), int64(5), object(5)\n",
      "memory usage: 49.2+ MB\n"
     ]
    }
   ],
   "source": [
    "#Imputing Product_Category_2 and Product_Category_3 with 0.\n",
    "\n",
    "df['Product_Category_2'].fillna(0,inplace=True)\n",
    "df['Product_Category_3'].fillna(0,inplace=True)\n",
    "df.info()"
   ]
  },
  {
   "cell_type": "code",
   "execution_count": 12,
   "metadata": {
    "colab": {
     "base_uri": "https://localhost:8080/",
     "height": 312
    },
    "colab_type": "code",
    "id": "mKDC2TJhrFTo",
    "outputId": "86632685-5cbb-4b79-9460-d06bb82a7659"
   },
   "outputs": [
    {
     "name": "stdout",
     "output_type": "stream",
     "text": [
      "<class 'pandas.core.frame.DataFrame'>\n",
      "RangeIndex: 537577 entries, 0 to 537576\n",
      "Data columns (total 12 columns):\n",
      "User_ID                       537577 non-null int64\n",
      "Product_ID                    537577 non-null object\n",
      "Gender                        537577 non-null object\n",
      "Age                           537577 non-null object\n",
      "Occupation                    537577 non-null int64\n",
      "City_Category                 537577 non-null object\n",
      "Stay_In_Current_City_Years    537577 non-null object\n",
      "Marital_Status                537577 non-null int64\n",
      "Product_Category_1            537577 non-null int64\n",
      "Product_Category_2            537577 non-null float64\n",
      "Product_Category_3            537577 non-null float64\n",
      "Purchase                      537577 non-null int64\n",
      "dtypes: float64(2), int64(5), object(5)\n",
      "memory usage: 49.2+ MB\n"
     ]
    }
   ],
   "source": [
    "df.info()"
   ]
  },
  {
   "cell_type": "code",
   "execution_count": 13,
   "metadata": {
    "colab": {
     "base_uri": "https://localhost:8080/",
     "height": 121
    },
    "colab_type": "code",
    "id": "kacg_x2-un1b",
    "outputId": "b45cf8f8-5524-4406-f96f-bb499043f834"
   },
   "outputs": [
    {
     "name": "stdout",
     "output_type": "stream",
     "text": [
      "No. of customers : 5891\n",
      "No. of products : 3623\n",
      "Age Groups: ['0-17' '55+' '26-35' '46-50' '51-55' '36-45' '18-25']\n",
      "Occupation : [0, 1, 2, 3, 4, 5, 6, 7, 8, 9, 10, 11, 12, 13, 14, 15, 16, 17, 18, 19, 20]\n",
      "No. of occupations : 21\n",
      "No. of years stayed in current city : ['2' '4+' '3' '1' '0']\n"
     ]
    }
   ],
   "source": [
    "print('No. of customers :', df['User_ID'].nunique())\n",
    "print('No. of products :', df['Product_ID'].nunique())\n",
    "print('Age Groups:', df['Age'].unique())\n",
    "print('Occupation :', sorted(df['Occupation'].unique()))\n",
    "print('No. of occupations :', df['Occupation'].nunique())\n",
    "print('No. of years stayed in current city :', df['Stay_In_Current_City_Years'].unique())"
   ]
  },
  {
   "cell_type": "markdown",
   "metadata": {
    "colab_type": "text",
    "id": "ARyW0FGvun1d"
   },
   "source": [
    "There are special characters, like (+) in the columns 'Age' and 'Stay_In_Current_City_Years', which need to be removed."
   ]
  },
  {
   "cell_type": "code",
   "execution_count": 14,
   "metadata": {
    "colab": {},
    "colab_type": "code",
    "id": "wSno62MDun1f"
   },
   "outputs": [],
   "source": [
    "df['Age']=(df['Age'].str.strip('+'))\n",
    "df['Stay_In_Current_City_Years']=(df['Stay_In_Current_City_Years'].str.strip('+').astype('float64'))"
   ]
  },
  {
   "cell_type": "markdown",
   "metadata": {
    "colab_type": "text",
    "id": "vAxPAAnv1C9e"
   },
   "source": [
    "#### No Outliers"
   ]
  },
  {
   "cell_type": "code",
   "execution_count": 15,
   "metadata": {
    "colab": {
     "base_uri": "https://localhost:8080/",
     "height": 612
    },
    "colab_type": "code",
    "id": "oKpvxhoWEy1n",
    "outputId": "7bd5b9aa-d332-4eaf-99b6-b7b43b126ef2"
   },
   "outputs": [
    {
     "data": {
      "text/plain": [
       "<matplotlib.axes._subplots.AxesSubplot at 0xba956b3eb8>"
      ]
     },
     "execution_count": 15,
     "metadata": {},
     "output_type": "execute_result"
    },
    {
     "data": {
      "image/png": "[encoded data removed]",
      "text/plain": [
       "<Figure size 1080x720 with 1 Axes>"
      ]
     },
     "metadata": {
      "needs_background": "light"
     },
     "output_type": "display_data"
    }
   ],
   "source": [
    "df.drop(['User_ID','Purchase','Marital_Status'],axis=1).boxplot(vert=False,figsize=(15,10))"
   ]
  },
  {
   "cell_type": "code",
   "execution_count": 16,
   "metadata": {
    "colab": {},
    "colab_type": "code",
    "id": "G-_bI0bfnp02"
   },
   "outputs": [],
   "source": [
    "#sns.pairplot(df.drop(['User_ID','Product_ID'],axis=1),diag_kind='kde')"
   ]
  },
  {
   "cell_type": "markdown",
   "metadata": {
    "colab_type": "text",
    "id": "AbB1lZpRun2d"
   },
   "source": [
    "#### Distribution of the target variable - Purchase"
   ]
  },
  {
   "cell_type": "code",
   "execution_count": 17,
   "metadata": {
    "colab": {
     "base_uri": "https://localhost:8080/",
     "height": 404
    },
    "colab_type": "code",
    "id": "jsAw1CDzun2d",
    "outputId": "ea6a0fd4-7ff2-4001-aa7f-b71b357becc6"
   },
   "outputs": [
    {
     "data": {
      "image/png": "[encoded data removed]",
      "text/plain": [
       "<Figure size 792x432 with 1 Axes>"
      ]
     },
     "metadata": {
      "needs_background": "light"
     },
     "output_type": "display_data"
    }
   ],
   "source": [
    "plt.figure(figsize=(11,6))\n",
    "\n",
    "sns.distplot(df.Purchase, bins = 25)\n",
    "\n",
    "plt.xlabel('Amount spent in Purchase')\n",
    "plt.ylabel('Number of Buyers')\n",
    "plt.title('Purchase amount Distribution')\n",
    "\n",
    "plt.show()"
   ]
  },
  {
   "cell_type": "code",
   "execution_count": 18,
   "metadata": {
    "colab": {
     "base_uri": "https://localhost:8080/",
     "height": 486
    },
    "colab_type": "code",
    "id": "G8E8_KzpIAne",
    "outputId": "abe147a5-6e0e-4db5-e87e-a441e7591cf8"
   },
   "outputs": [
    {
     "data": {
      "image/png": "[encoded data removed]",
      "text/plain": [
       "<Figure size 864x576 with 1 Axes>"
      ]
     },
     "metadata": {
      "needs_background": "light"
     },
     "output_type": "display_data"
    }
   ],
   "source": [
    "df['Purchase'].plot(kind='box',vert=False, figsize=(12,8))\n",
    "plt.show()"
   ]
  },
  {
   "cell_type": "code",
   "execution_count": 19,
   "metadata": {
    "colab": {},
    "colab_type": "code",
    "id": "ozNhheGI-S1U"
   },
   "outputs": [],
   "source": [
    "import copy\n",
    "df2 = copy.deepcopy(df)"
   ]
  },
  {
   "cell_type": "markdown",
   "metadata": {
    "colab_type": "text",
    "id": "pxq6rSBa-eY1"
   },
   "source": [
    "#### Transforming Age Column"
   ]
  },
  {
   "cell_type": "code",
   "execution_count": 20,
   "metadata": {
    "colab": {
     "base_uri": "https://localhost:8080/",
     "height": 156
    },
    "colab_type": "code",
    "id": "Hao6GQkm-024",
    "outputId": "83af28f1-3521-41a0-f420-d69d170a8035"
   },
   "outputs": [
    {
     "data": {
      "text/plain": [
       "26-35    214690\n",
       "36-45    107499\n",
       "18-25     97634\n",
       "46-50     44526\n",
       "51-55     37618\n",
       "55        20903\n",
       "0-17      14707\n",
       "Name: Age, dtype: int64"
      ]
     },
     "execution_count": 20,
     "metadata": {},
     "output_type": "execute_result"
    }
   ],
   "source": [
    "df2['Age'].value_counts()"
   ]
  },
  {
   "cell_type": "code",
   "execution_count": 21,
   "metadata": {
    "colab": {
     "base_uri": "https://localhost:8080/",
     "height": 138
    },
    "colab_type": "code",
    "id": "mSm1OOXp_XbM",
    "outputId": "0ff10933-c1d9-43fd-b46f-e9bbc67287a2"
   },
   "outputs": [
    {
     "data": {
      "text/plain": [
       "26-35    214690\n",
       "36-45    107499\n",
       "18-25     97634\n",
       "46-50     44526\n",
       "51-55     37618\n",
       "55        20903\n",
       "Name: Age, dtype: int64"
      ]
     },
     "execution_count": 21,
     "metadata": {},
     "output_type": "execute_result"
    }
   ],
   "source": [
    "df2[df2['Age']!='0-17']['Age'].value_counts()"
   ]
  },
  {
   "cell_type": "code",
   "execution_count": 22,
   "metadata": {
    "colab": {
     "base_uri": "https://localhost:8080/",
     "height": 156
    },
    "colab_type": "code",
    "id": "OFmBptrO9r-F",
    "outputId": "f49726cb-22e0-4a16-94d3-3544ec8f10cb"
   },
   "outputs": [
    {
     "data": {
      "text/plain": [
       "2    214690\n",
       "3    107499\n",
       "1     97634\n",
       "4     44526\n",
       "5     37618\n",
       "6     20903\n",
       "0     14707\n",
       "Name: Age, dtype: int64"
      ]
     },
     "execution_count": 22,
     "metadata": {},
     "output_type": "execute_result"
    }
   ],
   "source": [
    "# Giving Age numerical values\n",
    "\n",
    "age_dict = {'0-17':0, '18-25':1, '26-35':2, '36-45':3, '46-50':4, '51-55':5, '55':6}\n",
    "df2['Age'] = df2['Age'].apply(lambda x : age_dict[x])\n",
    "df2['Age'].value_counts()"
   ]
  },
  {
   "cell_type": "code",
   "execution_count": 23,
   "metadata": {
    "colab": {
     "base_uri": "https://localhost:8080/",
     "height": 312
    },
    "colab_type": "code",
    "id": "CECJNr8UA0C3",
    "outputId": "be697ef7-c846-427e-8ad2-606ef6f37ec7"
   },
   "outputs": [
    {
     "name": "stdout",
     "output_type": "stream",
     "text": [
      "<class 'pandas.core.frame.DataFrame'>\n",
      "RangeIndex: 537577 entries, 0 to 537576\n",
      "Data columns (total 12 columns):\n",
      "User_ID                       537577 non-null int64\n",
      "Product_ID                    537577 non-null object\n",
      "Gender                        537577 non-null object\n",
      "Age                           537577 non-null int64\n",
      "Occupation                    537577 non-null int64\n",
      "City_Category                 537577 non-null object\n",
      "Stay_In_Current_City_Years    537577 non-null float64\n",
      "Marital_Status                537577 non-null int64\n",
      "Product_Category_1            537577 non-null int64\n",
      "Product_Category_2            537577 non-null float64\n",
      "Product_Category_3            537577 non-null float64\n",
      "Purchase                      537577 non-null int64\n",
      "dtypes: float64(3), int64(6), object(3)\n",
      "memory usage: 49.2+ MB\n"
     ]
    }
   ],
   "source": [
    "df2.info()"
   ]
  },
  {
   "cell_type": "code",
   "execution_count": 24,
   "metadata": {
    "colab": {
     "base_uri": "https://localhost:8080/",
     "height": 202
    },
    "colab_type": "code",
    "id": "d5mVdWISmrh7",
    "outputId": "5f01ebd3-5bac-467e-f94b-b257dd56c5f0"
   },
   "outputs": [
    {
     "data": {
      "text/html": [
       "<div>\n",
       "<style scoped>\n",
       "    .dataframe tbody tr th:only-of-type {\n",
       "        vertical-align: middle;\n",
       "    }\n",
       "\n",
       "    .dataframe tbody tr th {\n",
       "        vertical-align: top;\n",
       "    }\n",
       "\n",
       "    .dataframe thead th {\n",
       "        text-align: right;\n",
       "    }\n",
       "</style>\n",
       "<table border=\"1\" class=\"dataframe\">\n",
       "  <thead>\n",
       "    <tr style=\"text-align: right;\">\n",
       "      <th></th>\n",
       "      <th>User_ID</th>\n",
       "      <th>Product_ID</th>\n",
       "      <th>Gender</th>\n",
       "      <th>Age</th>\n",
       "      <th>Occupation</th>\n",
       "      <th>City_Category</th>\n",
       "      <th>Stay_In_Current_City_Years</th>\n",
       "      <th>Marital_Status</th>\n",
       "      <th>Product_Category_1</th>\n",
       "      <th>Product_Category_2</th>\n",
       "      <th>Product_Category_3</th>\n",
       "      <th>Purchase</th>\n",
       "    </tr>\n",
       "  </thead>\n",
       "  <tbody>\n",
       "    <tr>\n",
       "      <th>0</th>\n",
       "      <td>1000001</td>\n",
       "      <td>P00069042</td>\n",
       "      <td>F</td>\n",
       "      <td>0</td>\n",
       "      <td>10</td>\n",
       "      <td>A</td>\n",
       "      <td>2.0</td>\n",
       "      <td>0</td>\n",
       "      <td>3</td>\n",
       "      <td>0.0</td>\n",
       "      <td>0.0</td>\n",
       "      <td>8370</td>\n",
       "    </tr>\n",
       "    <tr>\n",
       "      <th>1</th>\n",
       "      <td>1000001</td>\n",
       "      <td>P00248942</td>\n",
       "      <td>F</td>\n",
       "      <td>0</td>\n",
       "      <td>10</td>\n",
       "      <td>A</td>\n",
       "      <td>2.0</td>\n",
       "      <td>0</td>\n",
       "      <td>1</td>\n",
       "      <td>6.0</td>\n",
       "      <td>14.0</td>\n",
       "      <td>15200</td>\n",
       "    </tr>\n",
       "    <tr>\n",
       "      <th>2</th>\n",
       "      <td>1000001</td>\n",
       "      <td>P00087842</td>\n",
       "      <td>F</td>\n",
       "      <td>0</td>\n",
       "      <td>10</td>\n",
       "      <td>A</td>\n",
       "      <td>2.0</td>\n",
       "      <td>0</td>\n",
       "      <td>12</td>\n",
       "      <td>0.0</td>\n",
       "      <td>0.0</td>\n",
       "      <td>1422</td>\n",
       "    </tr>\n",
       "    <tr>\n",
       "      <th>3</th>\n",
       "      <td>1000001</td>\n",
       "      <td>P00085442</td>\n",
       "      <td>F</td>\n",
       "      <td>0</td>\n",
       "      <td>10</td>\n",
       "      <td>A</td>\n",
       "      <td>2.0</td>\n",
       "      <td>0</td>\n",
       "      <td>12</td>\n",
       "      <td>14.0</td>\n",
       "      <td>0.0</td>\n",
       "      <td>1057</td>\n",
       "    </tr>\n",
       "    <tr>\n",
       "      <th>4</th>\n",
       "      <td>1000002</td>\n",
       "      <td>P00285442</td>\n",
       "      <td>M</td>\n",
       "      <td>6</td>\n",
       "      <td>16</td>\n",
       "      <td>C</td>\n",
       "      <td>4.0</td>\n",
       "      <td>0</td>\n",
       "      <td>8</td>\n",
       "      <td>0.0</td>\n",
       "      <td>0.0</td>\n",
       "      <td>7969</td>\n",
       "    </tr>\n",
       "  </tbody>\n",
       "</table>\n",
       "</div>"
      ],
      "text/plain": [
       "   User_ID Product_ID Gender  Age  Occupation City_Category  \\\n",
       "0  1000001  P00069042      F    0          10             A   \n",
       "1  1000001  P00248942      F    0          10             A   \n",
       "2  1000001  P00087842      F    0          10             A   \n",
       "3  1000001  P00085442      F    0          10             A   \n",
       "4  1000002  P00285442      M    6          16             C   \n",
       "\n",
       "   Stay_In_Current_City_Years  Marital_Status  Product_Category_1  \\\n",
       "0                         2.0               0                   3   \n",
       "1                         2.0               0                   1   \n",
       "2                         2.0               0                  12   \n",
       "3                         2.0               0                  12   \n",
       "4                         4.0               0                   8   \n",
       "\n",
       "   Product_Category_2  Product_Category_3  Purchase  \n",
       "0                 0.0                 0.0      8370  \n",
       "1                 6.0                14.0     15200  \n",
       "2                 0.0                 0.0      1422  \n",
       "3                14.0                 0.0      1057  \n",
       "4                 0.0                 0.0      7969  "
      ]
     },
     "execution_count": 24,
     "metadata": {},
     "output_type": "execute_result"
    }
   ],
   "source": [
    "df2.head()"
   ]
  },
  {
   "cell_type": "markdown",
   "metadata": {
    "colab_type": "text",
    "id": "3WjgW4_CC8YB"
   },
   "source": [
    "### Linear Regression"
   ]
  },
  {
   "cell_type": "code",
   "execution_count": 25,
   "metadata": {
    "colab": {
     "base_uri": "https://localhost:8080/",
     "height": 202
    },
    "colab_type": "code",
    "id": "8E5eZRHODZVk",
    "outputId": "e26d5e12-1cdd-41d5-929f-6a01d2ee5e22"
   },
   "outputs": [
    {
     "data": {
      "text/html": [
       "<div>\n",
       "<style scoped>\n",
       "    .dataframe tbody tr th:only-of-type {\n",
       "        vertical-align: middle;\n",
       "    }\n",
       "\n",
       "    .dataframe tbody tr th {\n",
       "        vertical-align: top;\n",
       "    }\n",
       "\n",
       "    .dataframe thead th {\n",
       "        text-align: right;\n",
       "    }\n",
       "</style>\n",
       "<table border=\"1\" class=\"dataframe\">\n",
       "  <thead>\n",
       "    <tr style=\"text-align: right;\">\n",
       "      <th></th>\n",
       "      <th>User_ID</th>\n",
       "      <th>Product_ID</th>\n",
       "      <th>Gender</th>\n",
       "      <th>Age</th>\n",
       "      <th>Occupation</th>\n",
       "      <th>City_Category</th>\n",
       "      <th>Stay_In_Current_City_Years</th>\n",
       "      <th>Marital_Status</th>\n",
       "      <th>Product_Category_1</th>\n",
       "      <th>Product_Category_2</th>\n",
       "      <th>Product_Category_3</th>\n",
       "      <th>Purchase</th>\n",
       "    </tr>\n",
       "  </thead>\n",
       "  <tbody>\n",
       "    <tr>\n",
       "      <th>0</th>\n",
       "      <td>1000001</td>\n",
       "      <td>P00069042</td>\n",
       "      <td>F</td>\n",
       "      <td>0</td>\n",
       "      <td>10</td>\n",
       "      <td>A</td>\n",
       "      <td>2.0</td>\n",
       "      <td>0</td>\n",
       "      <td>3</td>\n",
       "      <td>0.0</td>\n",
       "      <td>0.0</td>\n",
       "      <td>8370</td>\n",
       "    </tr>\n",
       "    <tr>\n",
       "      <th>1</th>\n",
       "      <td>1000001</td>\n",
       "      <td>P00248942</td>\n",
       "      <td>F</td>\n",
       "      <td>0</td>\n",
       "      <td>10</td>\n",
       "      <td>A</td>\n",
       "      <td>2.0</td>\n",
       "      <td>0</td>\n",
       "      <td>1</td>\n",
       "      <td>6.0</td>\n",
       "      <td>14.0</td>\n",
       "      <td>15200</td>\n",
       "    </tr>\n",
       "    <tr>\n",
       "      <th>2</th>\n",
       "      <td>1000001</td>\n",
       "      <td>P00087842</td>\n",
       "      <td>F</td>\n",
       "      <td>0</td>\n",
       "      <td>10</td>\n",
       "      <td>A</td>\n",
       "      <td>2.0</td>\n",
       "      <td>0</td>\n",
       "      <td>12</td>\n",
       "      <td>0.0</td>\n",
       "      <td>0.0</td>\n",
       "      <td>1422</td>\n",
       "    </tr>\n",
       "    <tr>\n",
       "      <th>3</th>\n",
       "      <td>1000001</td>\n",
       "      <td>P00085442</td>\n",
       "      <td>F</td>\n",
       "      <td>0</td>\n",
       "      <td>10</td>\n",
       "      <td>A</td>\n",
       "      <td>2.0</td>\n",
       "      <td>0</td>\n",
       "      <td>12</td>\n",
       "      <td>14.0</td>\n",
       "      <td>0.0</td>\n",
       "      <td>1057</td>\n",
       "    </tr>\n",
       "    <tr>\n",
       "      <th>4</th>\n",
       "      <td>1000002</td>\n",
       "      <td>P00285442</td>\n",
       "      <td>M</td>\n",
       "      <td>6</td>\n",
       "      <td>16</td>\n",
       "      <td>C</td>\n",
       "      <td>4.0</td>\n",
       "      <td>0</td>\n",
       "      <td>8</td>\n",
       "      <td>0.0</td>\n",
       "      <td>0.0</td>\n",
       "      <td>7969</td>\n",
       "    </tr>\n",
       "  </tbody>\n",
       "</table>\n",
       "</div>"
      ],
      "text/plain": [
       "   User_ID Product_ID Gender  Age  Occupation City_Category  \\\n",
       "0  1000001  P00069042      F    0          10             A   \n",
       "1  1000001  P00248942      F    0          10             A   \n",
       "2  1000001  P00087842      F    0          10             A   \n",
       "3  1000001  P00085442      F    0          10             A   \n",
       "4  1000002  P00285442      M    6          16             C   \n",
       "\n",
       "   Stay_In_Current_City_Years  Marital_Status  Product_Category_1  \\\n",
       "0                         2.0               0                   3   \n",
       "1                         2.0               0                   1   \n",
       "2                         2.0               0                  12   \n",
       "3                         2.0               0                  12   \n",
       "4                         4.0               0                   8   \n",
       "\n",
       "   Product_Category_2  Product_Category_3  Purchase  \n",
       "0                 0.0                 0.0      8370  \n",
       "1                 6.0                14.0     15200  \n",
       "2                 0.0                 0.0      1422  \n",
       "3                14.0                 0.0      1057  \n",
       "4                 0.0                 0.0      7969  "
      ]
     },
     "execution_count": 25,
     "metadata": {},
     "output_type": "execute_result"
    }
   ],
   "source": [
    "df2.head()"
   ]
  },
  {
   "cell_type": "code",
   "execution_count": 26,
   "metadata": {
    "colab": {},
    "colab_type": "code",
    "id": "VIpuJ7vvC7As"
   },
   "outputs": [],
   "source": [
    "def map_gender(gender):\n",
    "    if gender == 'M':\n",
    "        return 1\n",
    "    else:\n",
    "        return 0\n",
    "      \n",
    "df2['Gender'] = df2['Gender'].apply(map_gender)"
   ]
  },
  {
   "cell_type": "code",
   "execution_count": 27,
   "metadata": {
    "colab": {},
    "colab_type": "code",
    "id": "U5MO6a5zDKfL"
   },
   "outputs": [],
   "source": [
    "def map_city_categories(city_category):\n",
    "    if city_category == 'A':\n",
    "        return 2\n",
    "    elif city_category == 'B':\n",
    "        return 1\n",
    "    else:\n",
    "        return 0\n",
    "      \n",
    "df2['City_Category'] = df2['City_Category'].apply(map_city_categories)"
   ]
  },
  {
   "cell_type": "code",
   "execution_count": 28,
   "metadata": {
    "colab": {
     "base_uri": "https://localhost:8080/",
     "height": 202
    },
    "colab_type": "code",
    "id": "ynPkErixAw9g",
    "outputId": "9cff6837-78f7-4fc3-b806-330d4acf9992"
   },
   "outputs": [
    {
     "data": {
      "text/html": [
       "<div>\n",
       "<style scoped>\n",
       "    .dataframe tbody tr th:only-of-type {\n",
       "        vertical-align: middle;\n",
       "    }\n",
       "\n",
       "    .dataframe tbody tr th {\n",
       "        vertical-align: top;\n",
       "    }\n",
       "\n",
       "    .dataframe thead th {\n",
       "        text-align: right;\n",
       "    }\n",
       "</style>\n",
       "<table border=\"1\" class=\"dataframe\">\n",
       "  <thead>\n",
       "    <tr style=\"text-align: right;\">\n",
       "      <th></th>\n",
       "      <th>User_ID</th>\n",
       "      <th>Product_ID</th>\n",
       "      <th>Gender</th>\n",
       "      <th>Age</th>\n",
       "      <th>Occupation</th>\n",
       "      <th>City_Category</th>\n",
       "      <th>Stay_In_Current_City_Years</th>\n",
       "      <th>Marital_Status</th>\n",
       "      <th>Product_Category_1</th>\n",
       "      <th>Product_Category_2</th>\n",
       "      <th>Product_Category_3</th>\n",
       "      <th>Purchase</th>\n",
       "    </tr>\n",
       "  </thead>\n",
       "  <tbody>\n",
       "    <tr>\n",
       "      <th>0</th>\n",
       "      <td>1000001</td>\n",
       "      <td>P00069042</td>\n",
       "      <td>0</td>\n",
       "      <td>0</td>\n",
       "      <td>10</td>\n",
       "      <td>2</td>\n",
       "      <td>2.0</td>\n",
       "      <td>0</td>\n",
       "      <td>3</td>\n",
       "      <td>0.0</td>\n",
       "      <td>0.0</td>\n",
       "      <td>8370</td>\n",
       "    </tr>\n",
       "    <tr>\n",
       "      <th>1</th>\n",
       "      <td>1000001</td>\n",
       "      <td>P00248942</td>\n",
       "      <td>0</td>\n",
       "      <td>0</td>\n",
       "      <td>10</td>\n",
       "      <td>2</td>\n",
       "      <td>2.0</td>\n",
       "      <td>0</td>\n",
       "      <td>1</td>\n",
       "      <td>6.0</td>\n",
       "      <td>14.0</td>\n",
       "      <td>15200</td>\n",
       "    </tr>\n",
       "    <tr>\n",
       "      <th>2</th>\n",
       "      <td>1000001</td>\n",
       "      <td>P00087842</td>\n",
       "      <td>0</td>\n",
       "      <td>0</td>\n",
       "      <td>10</td>\n",
       "      <td>2</td>\n",
       "      <td>2.0</td>\n",
       "      <td>0</td>\n",
       "      <td>12</td>\n",
       "      <td>0.0</td>\n",
       "      <td>0.0</td>\n",
       "      <td>1422</td>\n",
       "    </tr>\n",
       "    <tr>\n",
       "      <th>3</th>\n",
       "      <td>1000001</td>\n",
       "      <td>P00085442</td>\n",
       "      <td>0</td>\n",
       "      <td>0</td>\n",
       "      <td>10</td>\n",
       "      <td>2</td>\n",
       "      <td>2.0</td>\n",
       "      <td>0</td>\n",
       "      <td>12</td>\n",
       "      <td>14.0</td>\n",
       "      <td>0.0</td>\n",
       "      <td>1057</td>\n",
       "    </tr>\n",
       "    <tr>\n",
       "      <th>4</th>\n",
       "      <td>1000002</td>\n",
       "      <td>P00285442</td>\n",
       "      <td>1</td>\n",
       "      <td>6</td>\n",
       "      <td>16</td>\n",
       "      <td>0</td>\n",
       "      <td>4.0</td>\n",
       "      <td>0</td>\n",
       "      <td>8</td>\n",
       "      <td>0.0</td>\n",
       "      <td>0.0</td>\n",
       "      <td>7969</td>\n",
       "    </tr>\n",
       "  </tbody>\n",
       "</table>\n",
       "</div>"
      ],
      "text/plain": [
       "   User_ID Product_ID  Gender  Age  Occupation  City_Category  \\\n",
       "0  1000001  P00069042       0    0          10              2   \n",
       "1  1000001  P00248942       0    0          10              2   \n",
       "2  1000001  P00087842       0    0          10              2   \n",
       "3  1000001  P00085442       0    0          10              2   \n",
       "4  1000002  P00285442       1    6          16              0   \n",
       "\n",
       "   Stay_In_Current_City_Years  Marital_Status  Product_Category_1  \\\n",
       "0                         2.0               0                   3   \n",
       "1                         2.0               0                   1   \n",
       "2                         2.0               0                  12   \n",
       "3                         2.0               0                  12   \n",
       "4                         4.0               0                   8   \n",
       "\n",
       "   Product_Category_2  Product_Category_3  Purchase  \n",
       "0                 0.0                 0.0      8370  \n",
       "1                 6.0                14.0     15200  \n",
       "2                 0.0                 0.0      1422  \n",
       "3                14.0                 0.0      1057  \n",
       "4                 0.0                 0.0      7969  "
      ]
     },
     "execution_count": 28,
     "metadata": {},
     "output_type": "execute_result"
    }
   ],
   "source": [
    "import copy\n",
    "df3 = copy.deepcopy(df2)\n",
    "df3.head()"
   ]
  },
  {
   "cell_type": "code",
   "execution_count": 29,
   "metadata": {
    "colab": {
     "base_uri": "https://localhost:8080/",
     "height": 202
    },
    "colab_type": "code",
    "id": "45N_qQGbLhxX",
    "outputId": "f26cd584-8e87-4908-8d17-c014d9b4c0a7"
   },
   "outputs": [
    {
     "data": {
      "text/html": [
       "<div>\n",
       "<style scoped>\n",
       "    .dataframe tbody tr th:only-of-type {\n",
       "        vertical-align: middle;\n",
       "    }\n",
       "\n",
       "    .dataframe tbody tr th {\n",
       "        vertical-align: top;\n",
       "    }\n",
       "\n",
       "    .dataframe thead th {\n",
       "        text-align: right;\n",
       "    }\n",
       "</style>\n",
       "<table border=\"1\" class=\"dataframe\">\n",
       "  <thead>\n",
       "    <tr style=\"text-align: right;\">\n",
       "      <th></th>\n",
       "      <th>User_ID</th>\n",
       "      <th>Product_ID</th>\n",
       "      <th>Gender</th>\n",
       "      <th>Age</th>\n",
       "      <th>Occupation</th>\n",
       "      <th>City_Category</th>\n",
       "      <th>Stay_In_Current_City_Years</th>\n",
       "      <th>Marital_Status</th>\n",
       "      <th>Product_Category_1</th>\n",
       "      <th>Product_Category_2</th>\n",
       "      <th>Product_Category_3</th>\n",
       "      <th>Purchase</th>\n",
       "      <th>Total_Purchase_Amount</th>\n",
       "    </tr>\n",
       "  </thead>\n",
       "  <tbody>\n",
       "    <tr>\n",
       "      <th>0</th>\n",
       "      <td>1000001</td>\n",
       "      <td>P00069042</td>\n",
       "      <td>0</td>\n",
       "      <td>0</td>\n",
       "      <td>10</td>\n",
       "      <td>2</td>\n",
       "      <td>2.0</td>\n",
       "      <td>0</td>\n",
       "      <td>34</td>\n",
       "      <td>0.0</td>\n",
       "      <td>0.0</td>\n",
       "      <td>8370</td>\n",
       "      <td>333481</td>\n",
       "    </tr>\n",
       "    <tr>\n",
       "      <th>1</th>\n",
       "      <td>1000001</td>\n",
       "      <td>P00248942</td>\n",
       "      <td>0</td>\n",
       "      <td>0</td>\n",
       "      <td>10</td>\n",
       "      <td>2</td>\n",
       "      <td>2.0</td>\n",
       "      <td>0</td>\n",
       "      <td>34</td>\n",
       "      <td>6.0</td>\n",
       "      <td>14.0</td>\n",
       "      <td>15200</td>\n",
       "      <td>333481</td>\n",
       "    </tr>\n",
       "    <tr>\n",
       "      <th>2</th>\n",
       "      <td>1000001</td>\n",
       "      <td>P00087842</td>\n",
       "      <td>0</td>\n",
       "      <td>0</td>\n",
       "      <td>10</td>\n",
       "      <td>2</td>\n",
       "      <td>2.0</td>\n",
       "      <td>0</td>\n",
       "      <td>34</td>\n",
       "      <td>0.0</td>\n",
       "      <td>0.0</td>\n",
       "      <td>1422</td>\n",
       "      <td>333481</td>\n",
       "    </tr>\n",
       "    <tr>\n",
       "      <th>3</th>\n",
       "      <td>1000001</td>\n",
       "      <td>P00085442</td>\n",
       "      <td>0</td>\n",
       "      <td>0</td>\n",
       "      <td>10</td>\n",
       "      <td>2</td>\n",
       "      <td>2.0</td>\n",
       "      <td>0</td>\n",
       "      <td>34</td>\n",
       "      <td>14.0</td>\n",
       "      <td>0.0</td>\n",
       "      <td>1057</td>\n",
       "      <td>333481</td>\n",
       "    </tr>\n",
       "    <tr>\n",
       "      <th>4</th>\n",
       "      <td>1000002</td>\n",
       "      <td>P00285442</td>\n",
       "      <td>1</td>\n",
       "      <td>6</td>\n",
       "      <td>16</td>\n",
       "      <td>0</td>\n",
       "      <td>4.0</td>\n",
       "      <td>0</td>\n",
       "      <td>76</td>\n",
       "      <td>0.0</td>\n",
       "      <td>0.0</td>\n",
       "      <td>7969</td>\n",
       "      <td>810353</td>\n",
       "    </tr>\n",
       "  </tbody>\n",
       "</table>\n",
       "</div>"
      ],
      "text/plain": [
       "   User_ID Product_ID  Gender  Age  Occupation  City_Category  \\\n",
       "0  1000001  P00069042       0    0          10              2   \n",
       "1  1000001  P00248942       0    0          10              2   \n",
       "2  1000001  P00087842       0    0          10              2   \n",
       "3  1000001  P00085442       0    0          10              2   \n",
       "4  1000002  P00285442       1    6          16              0   \n",
       "\n",
       "   Stay_In_Current_City_Years  Marital_Status  Product_Category_1  \\\n",
       "0                         2.0               0                  34   \n",
       "1                         2.0               0                  34   \n",
       "2                         2.0               0                  34   \n",
       "3                         2.0               0                  34   \n",
       "4                         4.0               0                  76   \n",
       "\n",
       "   Product_Category_2  Product_Category_3  Purchase  Total_Purchase_Amount  \n",
       "0                 0.0                 0.0      8370                 333481  \n",
       "1                 6.0                14.0     15200                 333481  \n",
       "2                 0.0                 0.0      1422                 333481  \n",
       "3                14.0                 0.0      1057                 333481  \n",
       "4                 0.0                 0.0      7969                 810353  "
      ]
     },
     "execution_count": 29,
     "metadata": {},
     "output_type": "execute_result"
    }
   ],
   "source": [
    "df3['Total_Purchase_Amount']=df3.groupby('User_ID').Purchase.transform('sum')\n",
    "\n",
    "df3['Product_Category_1']=df3.groupby('User_ID').Product_Category_1.transform('count')\n",
    "\n",
    "\n",
    "df3.head()"
   ]
  },
  {
   "cell_type": "code",
   "execution_count": 30,
   "metadata": {
    "colab": {
     "base_uri": "https://localhost:8080/",
     "height": 202
    },
    "colab_type": "code",
    "id": "0Vq4hTTKT_8o",
    "outputId": "11393339-8ff2-4243-89be-7864141fe57d"
   },
   "outputs": [
    {
     "data": {
      "text/html": [
       "<div>\n",
       "<style scoped>\n",
       "    .dataframe tbody tr th:only-of-type {\n",
       "        vertical-align: middle;\n",
       "    }\n",
       "\n",
       "    .dataframe tbody tr th {\n",
       "        vertical-align: top;\n",
       "    }\n",
       "\n",
       "    .dataframe thead th {\n",
       "        text-align: right;\n",
       "    }\n",
       "</style>\n",
       "<table border=\"1\" class=\"dataframe\">\n",
       "  <thead>\n",
       "    <tr style=\"text-align: right;\">\n",
       "      <th></th>\n",
       "      <th>User_ID</th>\n",
       "      <th>Product_Category_2</th>\n",
       "      <th>Product_Category_3</th>\n",
       "    </tr>\n",
       "  </thead>\n",
       "  <tbody>\n",
       "    <tr>\n",
       "      <th>0</th>\n",
       "      <td>1000001</td>\n",
       "      <td>21.0</td>\n",
       "      <td>14.0</td>\n",
       "    </tr>\n",
       "    <tr>\n",
       "      <th>1</th>\n",
       "      <td>1000002</td>\n",
       "      <td>54.0</td>\n",
       "      <td>26.0</td>\n",
       "    </tr>\n",
       "    <tr>\n",
       "      <th>2</th>\n",
       "      <td>1000003</td>\n",
       "      <td>23.0</td>\n",
       "      <td>13.0</td>\n",
       "    </tr>\n",
       "    <tr>\n",
       "      <th>3</th>\n",
       "      <td>1000004</td>\n",
       "      <td>12.0</td>\n",
       "      <td>9.0</td>\n",
       "    </tr>\n",
       "    <tr>\n",
       "      <th>4</th>\n",
       "      <td>1000005</td>\n",
       "      <td>58.0</td>\n",
       "      <td>16.0</td>\n",
       "    </tr>\n",
       "  </tbody>\n",
       "</table>\n",
       "</div>"
      ],
      "text/plain": [
       "   User_ID  Product_Category_2  Product_Category_3\n",
       "0  1000001                21.0                14.0\n",
       "1  1000002                54.0                26.0\n",
       "2  1000003                23.0                13.0\n",
       "3  1000004                12.0                 9.0\n",
       "4  1000005                58.0                16.0"
      ]
     },
     "execution_count": 30,
     "metadata": {},
     "output_type": "execute_result"
    }
   ],
   "source": [
    "aggregations = {\n",
    "    'Product_Category_2': lambda x:x.astype(bool).sum(),\n",
    "    'Product_Category_3': lambda x:x.astype(bool).sum()\n",
    "}\n",
    "df4 = df3.groupby('User_ID').agg(aggregations)\n",
    "df4 = df4.reset_index()\n",
    "df4.head()"
   ]
  },
  {
   "cell_type": "code",
   "execution_count": 31,
   "metadata": {
    "colab": {
     "base_uri": "https://localhost:8080/",
     "height": 202
    },
    "colab_type": "code",
    "id": "hnSW-VR2bQVx",
    "outputId": "dc5b1e86-0b27-4c68-9c7f-d18161e0fe90"
   },
   "outputs": [
    {
     "data": {
      "text/html": [
       "<div>\n",
       "<style scoped>\n",
       "    .dataframe tbody tr th:only-of-type {\n",
       "        vertical-align: middle;\n",
       "    }\n",
       "\n",
       "    .dataframe tbody tr th {\n",
       "        vertical-align: top;\n",
       "    }\n",
       "\n",
       "    .dataframe thead th {\n",
       "        text-align: right;\n",
       "    }\n",
       "</style>\n",
       "<table border=\"1\" class=\"dataframe\">\n",
       "  <thead>\n",
       "    <tr style=\"text-align: right;\">\n",
       "      <th></th>\n",
       "      <th>User_ID</th>\n",
       "      <th>Gender</th>\n",
       "      <th>Age</th>\n",
       "      <th>Occupation</th>\n",
       "      <th>City_Category</th>\n",
       "      <th>Stay_In_Current_City_Years</th>\n",
       "      <th>Marital_Status</th>\n",
       "      <th>Product_Category_1</th>\n",
       "      <th>Total_Purchase_Amount</th>\n",
       "    </tr>\n",
       "  </thead>\n",
       "  <tbody>\n",
       "    <tr>\n",
       "      <th>0</th>\n",
       "      <td>1000001</td>\n",
       "      <td>0</td>\n",
       "      <td>0</td>\n",
       "      <td>10</td>\n",
       "      <td>2</td>\n",
       "      <td>2.0</td>\n",
       "      <td>0</td>\n",
       "      <td>34</td>\n",
       "      <td>333481</td>\n",
       "    </tr>\n",
       "    <tr>\n",
       "      <th>1</th>\n",
       "      <td>1000001</td>\n",
       "      <td>0</td>\n",
       "      <td>0</td>\n",
       "      <td>10</td>\n",
       "      <td>2</td>\n",
       "      <td>2.0</td>\n",
       "      <td>0</td>\n",
       "      <td>34</td>\n",
       "      <td>333481</td>\n",
       "    </tr>\n",
       "    <tr>\n",
       "      <th>2</th>\n",
       "      <td>1000001</td>\n",
       "      <td>0</td>\n",
       "      <td>0</td>\n",
       "      <td>10</td>\n",
       "      <td>2</td>\n",
       "      <td>2.0</td>\n",
       "      <td>0</td>\n",
       "      <td>34</td>\n",
       "      <td>333481</td>\n",
       "    </tr>\n",
       "    <tr>\n",
       "      <th>3</th>\n",
       "      <td>1000001</td>\n",
       "      <td>0</td>\n",
       "      <td>0</td>\n",
       "      <td>10</td>\n",
       "      <td>2</td>\n",
       "      <td>2.0</td>\n",
       "      <td>0</td>\n",
       "      <td>34</td>\n",
       "      <td>333481</td>\n",
       "    </tr>\n",
       "    <tr>\n",
       "      <th>4</th>\n",
       "      <td>1000002</td>\n",
       "      <td>1</td>\n",
       "      <td>6</td>\n",
       "      <td>16</td>\n",
       "      <td>0</td>\n",
       "      <td>4.0</td>\n",
       "      <td>0</td>\n",
       "      <td>76</td>\n",
       "      <td>810353</td>\n",
       "    </tr>\n",
       "  </tbody>\n",
       "</table>\n",
       "</div>"
      ],
      "text/plain": [
       "   User_ID  Gender  Age  Occupation  City_Category  \\\n",
       "0  1000001       0    0          10              2   \n",
       "1  1000001       0    0          10              2   \n",
       "2  1000001       0    0          10              2   \n",
       "3  1000001       0    0          10              2   \n",
       "4  1000002       1    6          16              0   \n",
       "\n",
       "   Stay_In_Current_City_Years  Marital_Status  Product_Category_1  \\\n",
       "0                         2.0               0                  34   \n",
       "1                         2.0               0                  34   \n",
       "2                         2.0               0                  34   \n",
       "3                         2.0               0                  34   \n",
       "4                         4.0               0                  76   \n",
       "\n",
       "   Total_Purchase_Amount  \n",
       "0                 333481  \n",
       "1                 333481  \n",
       "2                 333481  \n",
       "3                 333481  \n",
       "4                 810353  "
      ]
     },
     "execution_count": 31,
     "metadata": {},
     "output_type": "execute_result"
    }
   ],
   "source": [
    "df3.drop(['Product_ID','Product_Category_2', 'Product_Category_3', 'Purchase'],axis=1,inplace=True)\n",
    "df3.head()"
   ]
  },
  {
   "cell_type": "code",
   "execution_count": 32,
   "metadata": {
    "colab": {
     "base_uri": "https://localhost:8080/",
     "height": 202
    },
    "colab_type": "code",
    "id": "drJUYeZ-tljw",
    "outputId": "d313dcd7-f920-4b07-d522-db0fc985dafd"
   },
   "outputs": [
    {
     "data": {
      "text/html": [
       "<div>\n",
       "<style scoped>\n",
       "    .dataframe tbody tr th:only-of-type {\n",
       "        vertical-align: middle;\n",
       "    }\n",
       "\n",
       "    .dataframe tbody tr th {\n",
       "        vertical-align: top;\n",
       "    }\n",
       "\n",
       "    .dataframe thead th {\n",
       "        text-align: right;\n",
       "    }\n",
       "</style>\n",
       "<table border=\"1\" class=\"dataframe\">\n",
       "  <thead>\n",
       "    <tr style=\"text-align: right;\">\n",
       "      <th></th>\n",
       "      <th>User_ID</th>\n",
       "      <th>Gender</th>\n",
       "      <th>Age</th>\n",
       "      <th>Occupation</th>\n",
       "      <th>City_Category</th>\n",
       "      <th>Stay_In_Current_City_Years</th>\n",
       "      <th>Marital_Status</th>\n",
       "      <th>Product_Category_1</th>\n",
       "      <th>Total_Purchase_Amount</th>\n",
       "    </tr>\n",
       "  </thead>\n",
       "  <tbody>\n",
       "    <tr>\n",
       "      <th>0</th>\n",
       "      <td>1000001</td>\n",
       "      <td>0</td>\n",
       "      <td>0</td>\n",
       "      <td>10</td>\n",
       "      <td>2</td>\n",
       "      <td>2.0</td>\n",
       "      <td>0</td>\n",
       "      <td>34</td>\n",
       "      <td>333481</td>\n",
       "    </tr>\n",
       "    <tr>\n",
       "      <th>4</th>\n",
       "      <td>1000002</td>\n",
       "      <td>1</td>\n",
       "      <td>6</td>\n",
       "      <td>16</td>\n",
       "      <td>0</td>\n",
       "      <td>4.0</td>\n",
       "      <td>0</td>\n",
       "      <td>76</td>\n",
       "      <td>810353</td>\n",
       "    </tr>\n",
       "    <tr>\n",
       "      <th>5</th>\n",
       "      <td>1000003</td>\n",
       "      <td>1</td>\n",
       "      <td>2</td>\n",
       "      <td>15</td>\n",
       "      <td>2</td>\n",
       "      <td>3.0</td>\n",
       "      <td>0</td>\n",
       "      <td>29</td>\n",
       "      <td>341635</td>\n",
       "    </tr>\n",
       "    <tr>\n",
       "      <th>6</th>\n",
       "      <td>1000004</td>\n",
       "      <td>1</td>\n",
       "      <td>4</td>\n",
       "      <td>7</td>\n",
       "      <td>1</td>\n",
       "      <td>2.0</td>\n",
       "      <td>1</td>\n",
       "      <td>13</td>\n",
       "      <td>205987</td>\n",
       "    </tr>\n",
       "    <tr>\n",
       "      <th>9</th>\n",
       "      <td>1000005</td>\n",
       "      <td>1</td>\n",
       "      <td>2</td>\n",
       "      <td>20</td>\n",
       "      <td>2</td>\n",
       "      <td>1.0</td>\n",
       "      <td>1</td>\n",
       "      <td>106</td>\n",
       "      <td>821001</td>\n",
       "    </tr>\n",
       "  </tbody>\n",
       "</table>\n",
       "</div>"
      ],
      "text/plain": [
       "   User_ID  Gender  Age  Occupation  City_Category  \\\n",
       "0  1000001       0    0          10              2   \n",
       "4  1000002       1    6          16              0   \n",
       "5  1000003       1    2          15              2   \n",
       "6  1000004       1    4           7              1   \n",
       "9  1000005       1    2          20              2   \n",
       "\n",
       "   Stay_In_Current_City_Years  Marital_Status  Product_Category_1  \\\n",
       "0                         2.0               0                  34   \n",
       "4                         4.0               0                  76   \n",
       "5                         3.0               0                  29   \n",
       "6                         2.0               1                  13   \n",
       "9                         1.0               1                 106   \n",
       "\n",
       "   Total_Purchase_Amount  \n",
       "0                 333481  \n",
       "4                 810353  \n",
       "5                 341635  \n",
       "6                 205987  \n",
       "9                 821001  "
      ]
     },
     "execution_count": 32,
     "metadata": {},
     "output_type": "execute_result"
    }
   ],
   "source": [
    "df3.drop_duplicates(keep='first', inplace=True)\n",
    "df3.head()"
   ]
  },
  {
   "cell_type": "code",
   "execution_count": 33,
   "metadata": {
    "colab": {
     "base_uri": "https://localhost:8080/",
     "height": 202
    },
    "colab_type": "code",
    "id": "w1Qqi7ppc8oa",
    "outputId": "6d778a95-417e-4d22-8b29-0abb7a66aef7"
   },
   "outputs": [
    {
     "data": {
      "text/html": [
       "<div>\n",
       "<style scoped>\n",
       "    .dataframe tbody tr th:only-of-type {\n",
       "        vertical-align: middle;\n",
       "    }\n",
       "\n",
       "    .dataframe tbody tr th {\n",
       "        vertical-align: top;\n",
       "    }\n",
       "\n",
       "    .dataframe thead th {\n",
       "        text-align: right;\n",
       "    }\n",
       "</style>\n",
       "<table border=\"1\" class=\"dataframe\">\n",
       "  <thead>\n",
       "    <tr style=\"text-align: right;\">\n",
       "      <th></th>\n",
       "      <th>User_ID</th>\n",
       "      <th>Product_Category_2</th>\n",
       "      <th>Product_Category_3</th>\n",
       "    </tr>\n",
       "  </thead>\n",
       "  <tbody>\n",
       "    <tr>\n",
       "      <th>0</th>\n",
       "      <td>1000001</td>\n",
       "      <td>21.0</td>\n",
       "      <td>14.0</td>\n",
       "    </tr>\n",
       "    <tr>\n",
       "      <th>1</th>\n",
       "      <td>1000002</td>\n",
       "      <td>54.0</td>\n",
       "      <td>26.0</td>\n",
       "    </tr>\n",
       "    <tr>\n",
       "      <th>2</th>\n",
       "      <td>1000003</td>\n",
       "      <td>23.0</td>\n",
       "      <td>13.0</td>\n",
       "    </tr>\n",
       "    <tr>\n",
       "      <th>3</th>\n",
       "      <td>1000004</td>\n",
       "      <td>12.0</td>\n",
       "      <td>9.0</td>\n",
       "    </tr>\n",
       "    <tr>\n",
       "      <th>4</th>\n",
       "      <td>1000005</td>\n",
       "      <td>58.0</td>\n",
       "      <td>16.0</td>\n",
       "    </tr>\n",
       "  </tbody>\n",
       "</table>\n",
       "</div>"
      ],
      "text/plain": [
       "   User_ID  Product_Category_2  Product_Category_3\n",
       "0  1000001                21.0                14.0\n",
       "1  1000002                54.0                26.0\n",
       "2  1000003                23.0                13.0\n",
       "3  1000004                12.0                 9.0\n",
       "4  1000005                58.0                16.0"
      ]
     },
     "execution_count": 33,
     "metadata": {},
     "output_type": "execute_result"
    }
   ],
   "source": [
    "df4.head()"
   ]
  },
  {
   "cell_type": "code",
   "execution_count": 34,
   "metadata": {
    "colab": {
     "base_uri": "https://localhost:8080/",
     "height": 202
    },
    "colab_type": "code",
    "id": "1QCUUAY7boZo",
    "outputId": "34fa4812-466f-4c90-e07d-a430a0feb663"
   },
   "outputs": [
    {
     "data": {
      "text/html": [
       "<div>\n",
       "<style scoped>\n",
       "    .dataframe tbody tr th:only-of-type {\n",
       "        vertical-align: middle;\n",
       "    }\n",
       "\n",
       "    .dataframe tbody tr th {\n",
       "        vertical-align: top;\n",
       "    }\n",
       "\n",
       "    .dataframe thead th {\n",
       "        text-align: right;\n",
       "    }\n",
       "</style>\n",
       "<table border=\"1\" class=\"dataframe\">\n",
       "  <thead>\n",
       "    <tr style=\"text-align: right;\">\n",
       "      <th></th>\n",
       "      <th>User_ID</th>\n",
       "      <th>Gender</th>\n",
       "      <th>Age</th>\n",
       "      <th>Occupation</th>\n",
       "      <th>City_Category</th>\n",
       "      <th>Stay_In_Current_City_Years</th>\n",
       "      <th>Marital_Status</th>\n",
       "      <th>Product_Category_1</th>\n",
       "      <th>Total_Purchase_Amount</th>\n",
       "      <th>Product_Category_2</th>\n",
       "      <th>Product_Category_3</th>\n",
       "    </tr>\n",
       "  </thead>\n",
       "  <tbody>\n",
       "    <tr>\n",
       "      <th>0</th>\n",
       "      <td>1000001</td>\n",
       "      <td>0</td>\n",
       "      <td>0</td>\n",
       "      <td>10</td>\n",
       "      <td>2</td>\n",
       "      <td>2.0</td>\n",
       "      <td>0</td>\n",
       "      <td>34</td>\n",
       "      <td>333481</td>\n",
       "      <td>21.0</td>\n",
       "      <td>14.0</td>\n",
       "    </tr>\n",
       "    <tr>\n",
       "      <th>1</th>\n",
       "      <td>1000002</td>\n",
       "      <td>1</td>\n",
       "      <td>6</td>\n",
       "      <td>16</td>\n",
       "      <td>0</td>\n",
       "      <td>4.0</td>\n",
       "      <td>0</td>\n",
       "      <td>76</td>\n",
       "      <td>810353</td>\n",
       "      <td>54.0</td>\n",
       "      <td>26.0</td>\n",
       "    </tr>\n",
       "    <tr>\n",
       "      <th>2</th>\n",
       "      <td>1000003</td>\n",
       "      <td>1</td>\n",
       "      <td>2</td>\n",
       "      <td>15</td>\n",
       "      <td>2</td>\n",
       "      <td>3.0</td>\n",
       "      <td>0</td>\n",
       "      <td>29</td>\n",
       "      <td>341635</td>\n",
       "      <td>23.0</td>\n",
       "      <td>13.0</td>\n",
       "    </tr>\n",
       "    <tr>\n",
       "      <th>3</th>\n",
       "      <td>1000004</td>\n",
       "      <td>1</td>\n",
       "      <td>4</td>\n",
       "      <td>7</td>\n",
       "      <td>1</td>\n",
       "      <td>2.0</td>\n",
       "      <td>1</td>\n",
       "      <td>13</td>\n",
       "      <td>205987</td>\n",
       "      <td>12.0</td>\n",
       "      <td>9.0</td>\n",
       "    </tr>\n",
       "    <tr>\n",
       "      <th>4</th>\n",
       "      <td>1000005</td>\n",
       "      <td>1</td>\n",
       "      <td>2</td>\n",
       "      <td>20</td>\n",
       "      <td>2</td>\n",
       "      <td>1.0</td>\n",
       "      <td>1</td>\n",
       "      <td>106</td>\n",
       "      <td>821001</td>\n",
       "      <td>58.0</td>\n",
       "      <td>16.0</td>\n",
       "    </tr>\n",
       "  </tbody>\n",
       "</table>\n",
       "</div>"
      ],
      "text/plain": [
       "   User_ID  Gender  Age  Occupation  City_Category  \\\n",
       "0  1000001       0    0          10              2   \n",
       "1  1000002       1    6          16              0   \n",
       "2  1000003       1    2          15              2   \n",
       "3  1000004       1    4           7              1   \n",
       "4  1000005       1    2          20              2   \n",
       "\n",
       "   Stay_In_Current_City_Years  Marital_Status  Product_Category_1  \\\n",
       "0                         2.0               0                  34   \n",
       "1                         4.0               0                  76   \n",
       "2                         3.0               0                  29   \n",
       "3                         2.0               1                  13   \n",
       "4                         1.0               1                 106   \n",
       "\n",
       "   Total_Purchase_Amount  Product_Category_2  Product_Category_3  \n",
       "0                 333481                21.0                14.0  \n",
       "1                 810353                54.0                26.0  \n",
       "2                 341635                23.0                13.0  \n",
       "3                 205987                12.0                 9.0  \n",
       "4                 821001                58.0                16.0  "
      ]
     },
     "execution_count": 34,
     "metadata": {},
     "output_type": "execute_result"
    }
   ],
   "source": [
    "df5 = pd.merge(df3, df4, how='inner', on='User_ID')\n",
    "df5.head()"
   ]
  },
  {
   "cell_type": "code",
   "execution_count": 35,
   "metadata": {
    "colab": {
     "base_uri": "https://localhost:8080/",
     "height": 34
    },
    "colab_type": "code",
    "id": "ftTWzvUYt_bC",
    "outputId": "480b32e4-c4ad-45d1-84b3-3ae862a1e2c4"
   },
   "outputs": [
    {
     "data": {
      "text/plain": [
       "(5891, 11)"
      ]
     },
     "execution_count": 35,
     "metadata": {},
     "output_type": "execute_result"
    }
   ],
   "source": [
    "df5.shape"
   ]
  },
  {
   "cell_type": "markdown",
   "metadata": {
    "colab_type": "text",
    "id": "VSvqvAYifrCC"
   },
   "source": [
    "#### Dependent Variable - Total Purchase Amount\n",
    "\n",
    "Outcome variable is left skewed."
   ]
  },
  {
   "cell_type": "code",
   "execution_count": 36,
   "metadata": {
    "colab": {
     "base_uri": "https://localhost:8080/",
     "height": 404
    },
    "colab_type": "code",
    "id": "eDO5oXhJdpM_",
    "outputId": "bd3d5337-087e-4156-bb2d-cae9a1c7a5a0"
   },
   "outputs": [
    {
     "data": {
      "image/png": "[encoded data removed]",
      "text/plain": [
       "<Figure size 792x432 with 1 Axes>"
      ]
     },
     "metadata": {
      "needs_background": "light"
     },
     "output_type": "display_data"
    }
   ],
   "source": [
    "plt.figure(figsize=(11,6))\n",
    "\n",
    "sns.distplot(df5.Total_Purchase_Amount, bins = 25)\n",
    "\n",
    "plt.xlabel('Amount spent in Purchase')\n",
    "plt.ylabel('Number of Buyers')\n",
    "plt.title('Purchase amount Distribution')\n",
    "\n",
    "plt.show()"
   ]
  },
  {
   "cell_type": "code",
   "execution_count": 37,
   "metadata": {
    "colab": {
     "base_uri": "https://localhost:8080/",
     "height": 404
    },
    "colab_type": "code",
    "id": "9sXlaod4f1eE",
    "outputId": "9f89f253-3031-4e52-ee15-2b96f8ccdea0"
   },
   "outputs": [
    {
     "data": {
      "image/png": "[encoded data removed]",
      "text/plain": [
       "<Figure size 792x432 with 1 Axes>"
      ]
     },
     "metadata": {
      "needs_background": "light"
     },
     "output_type": "display_data"
    }
   ],
   "source": [
    "# Applying Log Transformation\n",
    "\n",
    "plt.figure(figsize=(11,6))\n",
    "\n",
    "sns.distplot(np.log(df5.Total_Purchase_Amount), bins = 25)\n",
    "\n",
    "plt.xlabel('Amount spent in Purchase')\n",
    "plt.ylabel('Number of Buyers')\n",
    "plt.title('Purchase amount Distribution')\n",
    "\n",
    "plt.show()"
   ]
  },
  {
   "cell_type": "code",
   "execution_count": 38,
   "metadata": {
    "colab": {
     "base_uri": "https://localhost:8080/",
     "height": 458
    },
    "colab_type": "code",
    "id": "XJLEa2m96Y3S",
    "outputId": "3212ac53-bf93-4930-d86d-8acbb07718e3"
   },
   "outputs": [
    {
     "data": {
      "image/png": "[encoded data removed]",
      "text/plain": [
       "<Figure size 864x504 with 1 Axes>"
      ]
     },
     "metadata": {
      "needs_background": "light"
     },
     "output_type": "display_data"
    }
   ],
   "source": [
    "fig, ax = plt.subplots(figsize=(12, 7))\n",
    "\n",
    "ax = sns.boxplot(x = \"City_Category\", y = \"Total_Purchase_Amount\", data = df5)\n",
    "plt.title('Total Purchase Amt by city category')\n",
    "labels = ['C','B','A']\n",
    "ax.set_xticklabels(labels)\n",
    "plt.show()"
   ]
  },
  {
   "cell_type": "code",
   "execution_count": 39,
   "metadata": {
    "colab": {
     "base_uri": "https://localhost:8080/",
     "height": 458
    },
    "colab_type": "code",
    "id": "heYlWQ8L-XL7",
    "outputId": "75501a31-049c-495b-8b56-deae6d882def"
   },
   "outputs": [
    {
     "data": {
      "image/png": "[encoded data removed]",
      "text/plain": [
       "<Figure size 864x504 with 1 Axes>"
      ]
     },
     "metadata": {
      "needs_background": "light"
     },
     "output_type": "display_data"
    }
   ],
   "source": [
    "fig, ax = plt.subplots(figsize=(12, 7))\n",
    "\n",
    "ax = sns.barplot(x = \"City_Category\", y = \"Total_Purchase_Amount\", data = df5)\n",
    "plt.title('Total Purchase Amt by city category')\n",
    "labels = ['C','B','A']\n",
    "ax.set_xticklabels(labels)\n",
    "plt.show()"
   ]
  },
  {
   "cell_type": "markdown",
   "metadata": {
    "colab_type": "text",
    "id": "Co-DgdNmmUNf"
   },
   "source": [
    "### Statistical Tests"
   ]
  },
  {
   "cell_type": "code",
   "execution_count": 40,
   "metadata": {
    "colab": {
     "base_uri": "https://localhost:8080/",
     "height": 34
    },
    "colab_type": "code",
    "id": "nSwXd0Bb5ne_",
    "outputId": "d7d110c1-e11a-47c4-b907-7439531b9db3"
   },
   "outputs": [
    {
     "data": {
      "text/plain": [
       "F_onewayResult(statistic=489.43337469555007, pvalue=2.3325431344630196e-197)"
      ]
     },
     "execution_count": 40,
     "metadata": {},
     "output_type": "execute_result"
    }
   ],
   "source": [
    "import scipy.stats as stats\n",
    "# Group total purchase data by city\n",
    "dfa = df5.loc[:,['City_Category','Total_Purchase_Amount']]\n",
    "groups = dfa.groupby(\"City_Category\").groups\n",
    "# Etract individual groups\n",
    "City_A = dfa['Total_Purchase_Amount'][groups[2]].values\n",
    "City_B = dfa['Total_Purchase_Amount'][groups[1]].values\n",
    "City_C = dfa['Total_Purchase_Amount'][groups[0]].values\n",
    "# Perform the ANOVA\n",
    "stats.f_oneway(City_A, City_B, City_C)\n"
   ]
  },
  {
   "cell_type": "code",
   "execution_count": 41,
   "metadata": {
    "colab": {
     "base_uri": "https://localhost:8080/",
     "height": 69
    },
    "colab_type": "code",
    "id": "xDOi-ZoIF3MS",
    "outputId": "a81247a3-491b-4b91-beb4-a3fefeb33086"
   },
   "outputs": [
    {
     "name": "stdout",
     "output_type": "stream",
     "text": [
      "Count, Mean and standard deviation of Total Purchase Amount of City_A: 1045, 1239874.45 and 1362553.19\n",
      "Count, Mean and standard deviation of Total Purchase Amount of City_B: 1707, 1220522.33 and 1054554.53\n",
      "Count, Mean and standard deviation of Total Purchase Amount of City_C: 3139, 522003.18 and 422754.25\n"
     ]
    }
   ],
   "source": [
    "print('Count, Mean and standard deviation of Total Purchase Amount of City_A: %3d, %3.2f and %3.2f' % (len(City_A), City_A.mean(),np.std(City_A,ddof =1)))\n",
    "print('Count, Mean and standard deviation of Total Purchase Amount of City_B: %3d, %3.2f and %3.2f' % (len(City_B), City_B.mean(),np.std(City_B,ddof =1)))\n",
    "print('Count, Mean and standard deviation of Total Purchase Amount of City_C: %3d, %3.2f and %3.2f' % (len(City_C), City_C.mean(),np.std(City_C,ddof =1)))"
   ]
  },
  {
   "cell_type": "code",
   "execution_count": 42,
   "metadata": {
    "colab": {
     "base_uri": "https://localhost:8080/",
     "height": 34
    },
    "colab_type": "code",
    "id": "rdrdul5aGtci",
    "outputId": "1555917d-0010-4468-823a-e80c0e1cd579"
   },
   "outputs": [
    {
     "data": {
      "text/plain": [
       "F_onewayResult(statistic=62.87507380651762, pvalue=2.6155339946341774e-15)"
      ]
     },
     "execution_count": 42,
     "metadata": {},
     "output_type": "execute_result"
    }
   ],
   "source": [
    "# Group total purchase data by city\n",
    "dfa = df5.loc[:,['Gender','Total_Purchase_Amount']]\n",
    "groups = dfa.groupby(\"Gender\").groups\n",
    "# Etract individual groups\n",
    "F = dfa['Total_Purchase_Amount'][groups[0]].values\n",
    "M = dfa['Total_Purchase_Amount'][groups[1]].values\n",
    "\n",
    "# Perform the ANOVA\n",
    "stats.f_oneway(F,M)\n"
   ]
  },
  {
   "cell_type": "code",
   "execution_count": 43,
   "metadata": {
    "colab": {
     "base_uri": "https://localhost:8080/",
     "height": 52
    },
    "colab_type": "code",
    "id": "T06oEJC8HTw6",
    "outputId": "1378b862-6fdf-4cd8-a6f0-84dbe7c9e1fb"
   },
   "outputs": [
    {
     "name": "stdout",
     "output_type": "stream",
     "text": [
      "Count, Mean and standard deviation of Total Purchase Amount of Females: 1666, 699054.03 and 795738.05\n",
      "Count, Mean and standard deviation of Total Purchase Amount of Males: 4225, 911963.16 and 975397.76\n"
     ]
    }
   ],
   "source": [
    "print('Count, Mean and standard deviation of Total Purchase Amount of Females: %3d, %3.2f and %3.2f' % (len(F), F.mean(),np.std(F,ddof =1)))\n",
    "print('Count, Mean and standard deviation of Total Purchase Amount of Males: %3d, %3.2f and %3.2f' % (len(M), M.mean(),np.std(M,ddof =1)))\n"
   ]
  },
  {
   "cell_type": "code",
   "execution_count": 44,
   "metadata": {
    "colab": {
     "base_uri": "https://localhost:8080/",
     "height": 34
    },
    "colab_type": "code",
    "id": "Ua0f-2IzDCe8",
    "outputId": "5be372cb-16b7-4357-9336-5969883f7dcc"
   },
   "outputs": [
    {
     "data": {
      "text/plain": [
       "F_onewayResult(statistic=1376.6587765751206, pvalue=0.0)"
      ]
     },
     "execution_count": 44,
     "metadata": {},
     "output_type": "execute_result"
    }
   ],
   "source": [
    "# Group total purchase data by city\n",
    "dfa = df.loc[:,['City_Category','Purchase']]\n",
    "groups = df.groupby(\"City_Category\").groups\n",
    "# Etract individual groups\n",
    "City_A = dfa['Purchase'][groups['A']].values\n",
    "City_B = dfa['Purchase'][groups['B']].values\n",
    "City_C = dfa['Purchase'][groups['C']].values\n",
    "# Perform the ANOVA\n",
    "stats.f_oneway(City_A, City_B, City_C)"
   ]
  },
  {
   "cell_type": "code",
   "execution_count": 45,
   "metadata": {
    "colab": {
     "base_uri": "https://localhost:8080/",
     "height": 69
    },
    "colab_type": "code",
    "id": "v9-wWP1B8jTi",
    "outputId": "51d181bd-6867-414d-9a60-e4427465df8a"
   },
   "outputs": [
    {
     "name": "stdout",
     "output_type": "stream",
     "text": [
      "Count, Mean and standard deviation of Total Purchase Amount of City_A: 144638, 8958.01 and 4866.90\n",
      "Count, Mean and standard deviation of Total Purchase Amount of City_B: 226493, 9198.66 and 4927.06\n",
      "Count, Mean and standard deviation of Total Purchase Amount of City_C: 166446, 9844.44 and 5109.47\n"
     ]
    }
   ],
   "source": [
    "print('Count, Mean and standard deviation of Total Purchase Amount of City_A: %3d, %3.2f and %3.2f' % (len(City_A), City_A.mean(),np.std(City_A,ddof =1)))\n",
    "print('Count, Mean and standard deviation of Total Purchase Amount of City_B: %3d, %3.2f and %3.2f' % (len(City_B), City_B.mean(),np.std(City_B,ddof =1)))\n",
    "print('Count, Mean and standard deviation of Total Purchase Amount of City_C: %3d, %3.2f and %3.2f' % (len(City_C), City_C.mean(),np.std(City_C,ddof =1)))"
   ]
  },
  {
   "cell_type": "code",
   "execution_count": 46,
   "metadata": {
    "colab": {
     "base_uri": "https://localhost:8080/",
     "height": 34
    },
    "colab_type": "code",
    "id": "c_9LgN7OJ0B8",
    "outputId": "b6fbaba8-afe5-40ce-8e2a-d43361cba5a9"
   },
   "outputs": [
    {
     "data": {
      "text/plain": [
       "F_onewayResult(statistic=17.468284183553315, pvalue=3.806902405716732e-20)"
      ]
     },
     "execution_count": 46,
     "metadata": {},
     "output_type": "execute_result"
    }
   ],
   "source": [
    "#'0-17':0, '18-25':1, '26-35':2, '36-45':3, '46-50':4, '51-55':5, '55':6\n",
    "\n",
    "# Group total purchase data by city\n",
    "dfa = df5.loc[:,['Age','Total_Purchase_Amount']]\n",
    "groups = dfa.groupby(\"Age\").groups\n",
    "# Etract individual groups\n",
    "#F = dfa['Total_Purchase_Amount'][groups[0]].values\n",
    "#M = dfa['Total_Purchase_Amount'][groups[1]].values\n",
    "\n",
    "kids = dfa['Total_Purchase_Amount'][groups[0]].values\n",
    "ya = dfa['Total_Purchase_Amount'][groups[1]].values\n",
    "a = dfa['Total_Purchase_Amount'][groups[2]].values\n",
    "ma = dfa['Total_Purchase_Amount'][groups[3]].values\n",
    "o = dfa['Total_Purchase_Amount'][groups[4]].values\n",
    "o2 = dfa['Total_Purchase_Amount'][groups[5]].values\n",
    "sc = dfa['Total_Purchase_Amount'][groups[6]].values\n",
    "\n",
    "# Perform the ANOVA\n",
    "stats.f_oneway(kids,ya,a,ma,o,o2,sc)\n"
   ]
  },
  {
   "cell_type": "code",
   "execution_count": 47,
   "metadata": {
    "colab": {
     "base_uri": "https://localhost:8080/",
     "height": 138
    },
    "colab_type": "code",
    "id": "dqg-9BIOLJL9",
    "outputId": "cb9a28a9-0e0f-44f4-eaba-ca08c958fce2"
   },
   "outputs": [
    {
     "name": "stdout",
     "output_type": "stream",
     "text": [
      "Count, Mean and standard deviation of Total Purchase Amount of 0-17: 218, 608527.55 and 675160.70\n",
      "Count, Mean and standard deviation of Total Purchase Amount of 18-25: 1069, 843469.86 and 878749.50\n",
      "Count, Mean and standard deviation of Total Purchase Amount of 26-35: 2053, 974061.91 and 1019680.54\n",
      "Count, Mean and standard deviation of Total Purchase Amount of 36-45: 1167, 866023.62 and 971746.58\n",
      "Count, Mean and standard deviation of Total Purchase Amount of 46-50: 531, 778565.39 and 917390.70\n",
      "Count, Mean and standard deviation of Total Purchase Amount of 51-55: 481, 752408.22 and 783468.85\n",
      "Count, Mean and standard deviation of Total Purchase Amount of 55+: 372, 531222.69 and 611004.99\n"
     ]
    }
   ],
   "source": [
    "print('Count, Mean and standard deviation of Total Purchase Amount of 0-17: %3d, %3.2f and %3.2f' % (len(kids), kids.mean(),np.std(kids,ddof =1)))\n",
    "print('Count, Mean and standard deviation of Total Purchase Amount of 18-25: %3d, %3.2f and %3.2f' % (len(ya), ya.mean(),np.std(ya,ddof =1)))\n",
    "print('Count, Mean and standard deviation of Total Purchase Amount of 26-35: %3d, %3.2f and %3.2f' % (len(a), a.mean(),np.std(a,ddof =1)))\n",
    "print('Count, Mean and standard deviation of Total Purchase Amount of 36-45: %3d, %3.2f and %3.2f' % (len(ma), ma.mean(),np.std(ma,ddof =1)))\n",
    "print('Count, Mean and standard deviation of Total Purchase Amount of 46-50: %3d, %3.2f and %3.2f' % (len(o), o.mean(),np.std(o,ddof =1)))\n",
    "print('Count, Mean and standard deviation of Total Purchase Amount of 51-55: %3d, %3.2f and %3.2f' % (len(o2), o2.mean(),np.std(o2,ddof =1)))\n",
    "print('Count, Mean and standard deviation of Total Purchase Amount of 55+: %3d, %3.2f and %3.2f' % (len(sc), sc.mean(),np.std(sc,ddof =1)))"
   ]
  },
  {
   "cell_type": "code",
   "execution_count": 48,
   "metadata": {
    "colab": {
     "base_uri": "https://localhost:8080/",
     "height": 69
    },
    "colab_type": "code",
    "id": "QUVRx_p2BHV8",
    "outputId": "23e7812f-890b-403e-dbeb-f448d7722970"
   },
   "outputs": [
    {
     "name": "stdout",
     "output_type": "stream",
     "text": [
      "                     sum_sq      df           F         PR(>F)\n",
      "City_Category  6.034081e+14     1.0  785.514617  2.315083e-162\n",
      "Residual       4.523748e+15  5889.0         NaN            NaN\n"
     ]
    }
   ],
   "source": [
    "import statsmodels.api         as     sm\n",
    "from   statsmodels.formula.api import ols\n",
    " \n",
    "mod = ols('Total_Purchase_Amount ~ City_Category', data = df5).fit()\n",
    "aov_table = sm.stats.anova_lm(mod, typ=2)\n",
    "print(aov_table)"
   ]
  },
  {
   "cell_type": "code",
   "execution_count": 49,
   "metadata": {
    "colab": {
     "base_uri": "https://localhost:8080/",
     "height": 69
    },
    "colab_type": "code",
    "id": "tFijTnM9ErS7",
    "outputId": "e72b3fab-cab6-4115-f41d-bd92d089f7a9"
   },
   "outputs": [
    {
     "name": "stdout",
     "output_type": "stream",
     "text": [
      "                     df        sum_sq       mean_sq            F  PR(>F)\n",
      "City_Category       2.0  6.796357e+10  3.398179e+10  1376.658777     0.0\n",
      "Residual       537574.0  1.326961e+13  2.468425e+07          NaN     NaN\n"
     ]
    }
   ],
   "source": [
    "import statsmodels.api         as     sm\n",
    "from   statsmodels.formula.api import ols\n",
    " \n",
    "mod = ols('Purchase ~ City_Category', data = df).fit()\n",
    "aov_table = sm.stats.anova_lm(mod, typ=1)\n",
    "print(aov_table)"
   ]
  },
  {
   "cell_type": "code",
   "execution_count": 50,
   "metadata": {
    "colab": {
     "base_uri": "https://localhost:8080/",
     "height": 433
    },
    "colab_type": "code",
    "id": "bn9Nzc6H0xp_",
    "outputId": "fae47667-cf69-43fe-8ea5-5dcd8c3b514d"
   },
   "outputs": [
    {
     "data": {
      "image/png": "[encoded data removed]",
      "text/plain": [
       "<Figure size 864x504 with 1 Axes>"
      ]
     },
     "metadata": {},
     "output_type": "display_data"
    }
   ],
   "source": [
    "\n",
    "explode = (0.1, 0, 0)\n",
    "fig1, ax1 = plt.subplots(figsize=(12,7))\n",
    "\n",
    "\n",
    "colors = ['#0066cc','#00cc99','#ffeb99']\n",
    "dict1 = {'fontsize': 15} \n",
    "\n",
    "ax1.pie(df5['City_Category'].value_counts(), explode=explode, labels=['C','B','A'], autopct='%1.1f%%',colors=colors)\n",
    "plt.legend()\n",
    "plt.title('City Categories',fontdict=dict1)\n",
    "plt.show()"
   ]
  },
  {
   "cell_type": "code",
   "execution_count": 51,
   "metadata": {
    "colab": {
     "base_uri": "https://localhost:8080/",
     "height": 472
    },
    "colab_type": "code",
    "id": "4zmgFq2Pahrw",
    "outputId": "9623bfb4-d061-4429-d82c-f80c13a6d780"
   },
   "outputs": [
    {
     "data": {
      "text/plain": [
       "[Text(0, 0, 'C'), Text(0, 0, 'B'), Text(0, 0, 'A')]"
      ]
     },
     "execution_count": 51,
     "metadata": {},
     "output_type": "execute_result"
    },
    {
     "data": {
      "image/png": "[encoded data removed]",
      "text/plain": [
       "<Figure size 864x504 with 1 Axes>"
      ]
     },
     "metadata": {
      "needs_background": "light"
     },
     "output_type": "display_data"
    }
   ],
   "source": [
    "fig, ax = plt.subplots(figsize=(12, 7))\n",
    "\n",
    "ax = sns.violinplot(x='City_Category',y='Total_Purchase_Amount',hue='Marital_Status',\n",
    "               data=df5)\n",
    "\n",
    "labels = ['C','B','A']\n",
    "ax.set_xticklabels(labels)"
   ]
  },
  {
   "cell_type": "code",
   "execution_count": 52,
   "metadata": {
    "colab": {
     "base_uri": "https://localhost:8080/",
     "height": 242
    },
    "colab_type": "code",
    "id": "dbddPthLwh8Q",
    "outputId": "9f2135d1-f16c-4571-d094-350c862f5749"
   },
   "outputs": [
    {
     "data": {
      "text/plain": [
       "<Figure size 864x504 with 0 Axes>"
      ]
     },
     "metadata": {},
     "output_type": "display_data"
    },
    {
     "data": {
      "image/png": "[encoded data removed]",
      "text/plain": [
       "<Figure size 648x216 with 3 Axes>"
      ]
     },
     "metadata": {
      "needs_background": "light"
     },
     "output_type": "display_data"
    }
   ],
   "source": [
    "plt.figure(figsize=(12,7))\n",
    "g = sns.FacetGrid(df5,col=\"City_Category\")\n",
    "g.map(sns.barplot, \"Gender\", \"Total_Purchase_Amount\");"
   ]
  },
  {
   "cell_type": "code",
   "execution_count": 53,
   "metadata": {
    "colab": {
     "base_uri": "https://localhost:8080/",
     "height": 657
    },
    "colab_type": "code",
    "id": "qEOAGeGO1o4x",
    "outputId": "0b5e7ff6-e142-40e1-d0d8-530aca7d813b"
   },
   "outputs": [
    {
     "data": {
      "image/png": "[encoded data removed]",
      "text/plain": [
       "<Figure size 1512x648 with 21 Axes>"
      ]
     },
     "metadata": {
      "needs_background": "light"
     },
     "output_type": "display_data"
    }
   ],
   "source": [
    "g = sns.FacetGrid(df5,col=\"Age\",row=\"City_Category\")\n",
    "g.map(sns.barplot, \"Gender\", \"Total_Purchase_Amount\");"
   ]
  },
  {
   "cell_type": "code",
   "execution_count": 54,
   "metadata": {
    "colab": {
     "base_uri": "https://localhost:8080/",
     "height": 446
    },
    "colab_type": "code",
    "id": "ORVTvbYJb-7A",
    "outputId": "3f041e5c-60be-4c51-a785-8383573f70d8"
   },
   "outputs": [
    {
     "data": {
      "image/png": "[encoded data removed]",
      "text/plain": [
       "<Figure size 864x504 with 1 Axes>"
      ]
     },
     "metadata": {
      "needs_background": "light"
     },
     "output_type": "display_data"
    }
   ],
   "source": [
    "plt.figure(figsize=(12,7))\n",
    "sns.countplot(df5['Occupation'])\n",
    "plt.show()"
   ]
  },
  {
   "cell_type": "code",
   "execution_count": 55,
   "metadata": {
    "colab": {
     "base_uri": "https://localhost:8080/",
     "height": 458
    },
    "colab_type": "code",
    "id": "lVG6EUQRcLP1",
    "outputId": "4804f2a6-382e-48dd-c6b4-fdbcc73bf0ea"
   },
   "outputs": [
    {
     "data": {
      "image/png": "[encoded data removed]",
      "text/plain": [
       "<Figure size 864x504 with 1 Axes>"
      ]
     },
     "metadata": {
      "needs_background": "light"
     },
     "output_type": "display_data"
    }
   ],
   "source": [
    "plt.figure(figsize=(12,7))\n",
    "occupation_id = list(range(0, 21))\n",
    "money_spent = []\n",
    "for oid in occupation_id:\n",
    "    money_spent.append(df5[df5['Occupation'] == oid]['Total_Purchase_Amount'].mean())\n",
    "\n",
    "y_pos = np.arange(21)\n",
    "\n",
    "oi_df = pd.DataFrame({'ID':y_pos,'Money_Spent':money_spent})\n",
    "oi_df = oi_df.sort_values(['Money_Spent'],ascending=False)\n",
    "sns.barplot(oi_df['ID'],oi_df['Money_Spent'], alpha=0.5, order=oi_df['ID'])\n",
    "plt.ylabel('Money Spent')\n",
    "plt.title('Occupation ID')\n",
    "\n",
    "plt.show()\n"
   ]
  },
  {
   "cell_type": "code",
   "execution_count": 56,
   "metadata": {
    "colab": {
     "base_uri": "https://localhost:8080/",
     "height": 300
    },
    "colab_type": "code",
    "id": "7FmXHgJujoS-",
    "outputId": "6bfcf9a2-53d0-4409-c432-07b15e697c43"
   },
   "outputs": [
    {
     "data": {
      "text/plain": [
       "<matplotlib.axes._subplots.AxesSubplot at 0xbaacd9fac8>"
      ]
     },
     "execution_count": 56,
     "metadata": {},
     "output_type": "execute_result"
    },
    {
     "data": {
      "image/png": "[encoded data removed]",
      "text/plain": [
       "<Figure size 432x288 with 1 Axes>"
      ]
     },
     "metadata": {
      "needs_background": "light"
     },
     "output_type": "display_data"
    }
   ],
   "source": [
    "sns.countplot(df5['Gender'])"
   ]
  },
  {
   "cell_type": "code",
   "execution_count": 57,
   "metadata": {
    "colab": {
     "base_uri": "https://localhost:8080/",
     "height": 282
    },
    "colab_type": "code",
    "id": "PszhVVR3jqN7",
    "outputId": "b8d19dc3-4224-49ee-a909-03b80018bc3b"
   },
   "outputs": [
    {
     "data": {
      "image/png": "[encoded data removed]",
      "text/plain": [
       "<Figure size 432x288 with 1 Axes>"
      ]
     },
     "metadata": {
      "needs_background": "light"
     },
     "output_type": "display_data"
    }
   ],
   "source": [
    "sns.barplot('Gender', 'Total_Purchase_Amount', data = df5)\n",
    "plt.show()"
   ]
  },
  {
   "cell_type": "code",
   "execution_count": 58,
   "metadata": {
    "colab": {
     "base_uri": "https://localhost:8080/",
     "height": 301
    },
    "colab_type": "code",
    "id": "rLSFLNRwj9Nl",
    "outputId": "451ac266-b43a-4f4b-9ddd-1496a1cba817"
   },
   "outputs": [
    {
     "data": {
      "text/plain": [
       "<matplotlib.axes._subplots.AxesSubplot at 0xbab13cb940>"
      ]
     },
     "execution_count": 58,
     "metadata": {},
     "output_type": "execute_result"
    },
    {
     "data": {
      "image/png": "[encoded data removed]",
      "text/plain": [
       "<Figure size 432x288 with 1 Axes>"
      ]
     },
     "metadata": {
      "needs_background": "light"
     },
     "output_type": "display_data"
    }
   ],
   "source": [
    "sns.countplot(df5['Marital_Status'])"
   ]
  },
  {
   "cell_type": "code",
   "execution_count": 59,
   "metadata": {
    "colab": {
     "base_uri": "https://localhost:8080/",
     "height": 284
    },
    "colab_type": "code",
    "id": "Ekg2hSIBj_J8",
    "outputId": "62a54027-aa1b-47d3-e0ad-f0e9159c6610"
   },
   "outputs": [
    {
     "data": {
      "image/png": "[encoded data removed]",
      "text/plain": [
       "<Figure size 432x288 with 1 Axes>"
      ]
     },
     "metadata": {
      "needs_background": "light"
     },
     "output_type": "display_data"
    }
   ],
   "source": [
    "sns.barplot('Marital_Status', 'Total_Purchase_Amount', data = df5)\n",
    "plt.show()"
   ]
  },
  {
   "cell_type": "markdown",
   "metadata": {
    "colab_type": "text",
    "id": "W66j-LYGke09"
   },
   "source": [
    "#### Marital status vs gender - Count"
   ]
  },
  {
   "cell_type": "code",
   "execution_count": 60,
   "metadata": {
    "colab": {
     "base_uri": "https://localhost:8080/",
     "height": 433
    },
    "colab_type": "code",
    "id": "_SXS_dIVkKHD",
    "outputId": "6e79d371-2acf-48af-84fb-a37d9099e8ec"
   },
   "outputs": [
    {
     "data": {
      "image/png": "[encoded data removed]",
      "text/plain": [
       "<Figure size 504x504 with 1 Axes>"
      ]
     },
     "metadata": {},
     "output_type": "display_data"
    }
   ],
   "source": [
    "out_vals = df5.Marital_Status.value_counts()\n",
    "in_vals = np.array([df5[df5.Marital_Status==x]['Gender'].value_counts() for x in [0,1]]).flatten()\n",
    "\n",
    "fig, ax = plt.subplots(figsize=(7, 7))\n",
    "\n",
    "size = 0.3\n",
    "cmap = plt.get_cmap(\"tab20c\")\n",
    "outer_colors = cmap(np.arange(2)*4)\n",
    "inner_colors = cmap(np.array([1, 2, 5, 6]))\n",
    "\n",
    "ax.pie(out_vals, radius=1, colors=outer_colors,\n",
    "       wedgeprops=dict(width=size, edgecolor='w'), labels=['Single', 'Married'],\n",
    "       textprops={'fontsize': 15}, startangle=50)\n",
    "\n",
    "ax.pie(in_vals, radius=1-size, colors=inner_colors,\n",
    "       wedgeprops=dict(width=size, edgecolor='w'), labels=['M', 'F', 'M', 'F'],\n",
    "       labeldistance=0.75, textprops={'fontsize': 12, 'weight': 'bold'}, startangle=50)\n",
    "\n",
    "ax.set(aspect=\"equal\")\n",
    "plt.title('Count - Marital Status / Gender', fontsize=16)\n",
    "plt.show()"
   ]
  },
  {
   "cell_type": "markdown",
   "metadata": {
    "colab_type": "text",
    "id": "0US5C4PSksKp"
   },
   "source": [
    "#### Marital vs Gender vs Purchase"
   ]
  },
  {
   "cell_type": "code",
   "execution_count": 61,
   "metadata": {
    "colab": {
     "base_uri": "https://localhost:8080/",
     "height": 433
    },
    "colab_type": "code",
    "id": "VOD42-4kkk-G",
    "outputId": "2eb4bc42-4cb7-4ebf-b627-2c13d153e51b"
   },
   "outputs": [
    {
     "data": {
      "image/png": "[encoded data removed]",
      "text/plain": [
       "<Figure size 504x504 with 1 Axes>"
      ]
     },
     "metadata": {},
     "output_type": "display_data"
    }
   ],
   "source": [
    "out_vals = [df5[df5.Marital_Status==x]['Total_Purchase_Amount'].mean() for x in [0,1]]\n",
    "\n",
    "m_p = [df5[df5.Marital_Status==x & (df5.Gender=='M')]['Total_Purchase_Amount'].mean() for x in [0,1]]\n",
    "f_p = [df5[df5.Marital_Status==x & (df5.Gender=='F')]['Total_Purchase_Amount'].mean() for x in [0,1]]\n",
    "\n",
    "\n",
    "in_vals = np.array([m_p,f_p]).flatten()\n",
    "\n",
    "fig, ax = plt.subplots(figsize=(7, 7))\n",
    "\n",
    "size = 0.3\n",
    "cmap = plt.get_cmap(\"tab20c\")\n",
    "outer_colors = cmap(np.arange(2)*4)\n",
    "inner_colors = cmap(np.array([1, 2, 5, 6]))\n",
    "\n",
    "ax.pie(out_vals, radius=1, colors=outer_colors,\n",
    "       wedgeprops=dict(width=size, edgecolor='w'), labels=['Single', 'Married'],\n",
    "       textprops={'fontsize': 15}, startangle=50)\n",
    "\n",
    "ax.pie(in_vals, radius=1-size, colors=inner_colors,\n",
    "       wedgeprops=dict(width=size, edgecolor='w'), labels=['M', 'F', 'M', 'F'],\n",
    "       labeldistance=0.75, textprops={'fontsize': 12, 'weight': 'bold'}, startangle=50)\n",
    "\n",
    "ax.set(aspect=\"equal\")\n",
    "plt.title('Purchase - Marital Status / Gender', fontsize=16)\n",
    "plt.show()"
   ]
  },
  {
   "cell_type": "code",
   "execution_count": 62,
   "metadata": {
    "colab": {
     "base_uri": "https://localhost:8080/",
     "height": 446
    },
    "colab_type": "code",
    "id": "lCIunFMclHLv",
    "outputId": "fd59160d-c3ff-4e30-f6ab-d0c861704c33"
   },
   "outputs": [
    {
     "data": {
      "image/png": "[encoded data removed]",
      "text/plain": [
       "<Figure size 864x504 with 1 Axes>"
      ]
     },
     "metadata": {
      "needs_background": "light"
     },
     "output_type": "display_data"
    }
   ],
   "source": [
    "fig, ax = plt.subplots(figsize=(12, 7))\n",
    "\n",
    "ax = sns.countplot(df5['Age'])\n",
    "labels=['0-17','18-25','26-35','36-45','46-50','51-55','55+']\n",
    "\n",
    "ax.set_xticklabels(labels)\n",
    "plt.show()\n"
   ]
  },
  {
   "cell_type": "code",
   "execution_count": 63,
   "metadata": {
    "colab": {},
    "colab_type": "code",
    "id": "4FCOZTs7eum3"
   },
   "outputs": [],
   "source": [
    "from sklearn import linear_model\n",
    "from sklearn.linear_model import LinearRegression\n",
    "from sklearn.linear_model import Ridge\n",
    "from sklearn.linear_model import Lasso\n",
    "from sklearn.model_selection import GridSearchCV\n",
    "\n",
    "from sklearn.tree import DecisionTreeRegressor\n",
    "from sklearn.ensemble import RandomForestRegressor"
   ]
  },
  {
   "cell_type": "code",
   "execution_count": 64,
   "metadata": {
    "colab": {},
    "colab_type": "code",
    "id": "e3llp8zQNy9D"
   },
   "outputs": [],
   "source": [
    "from sklearn.ensemble import GradientBoostingRegressor"
   ]
  },
  {
   "cell_type": "code",
   "execution_count": 65,
   "metadata": {
    "colab": {},
    "colab_type": "code",
    "id": "uOvkyXuDev8x"
   },
   "outputs": [],
   "source": [
    "\n",
    "X = df5.drop(['User_ID','Total_Purchase_Amount'],axis=1)\n",
    "Y = df5['Total_Purchase_Amount']"
   ]
  },
  {
   "cell_type": "code",
   "execution_count": 66,
   "metadata": {
    "colab": {
     "base_uri": "https://localhost:8080/",
     "height": 86
    },
    "colab_type": "code",
    "id": "2pmtZFEKF46T",
    "outputId": "01e2565c-839c-434d-aa3a-6c11f1621ba2"
   },
   "outputs": [
    {
     "data": {
      "text/plain": [
       "Index(['User_ID', 'Gender', 'Age', 'Occupation', 'City_Category',\n",
       "       'Stay_In_Current_City_Years', 'Marital_Status', 'Product_Category_1',\n",
       "       'Total_Purchase_Amount', 'Product_Category_2', 'Product_Category_3'],\n",
       "      dtype='object')"
      ]
     },
     "execution_count": 66,
     "metadata": {},
     "output_type": "execute_result"
    }
   ],
   "source": [
    "df5.columns"
   ]
  },
  {
   "cell_type": "code",
   "execution_count": 67,
   "metadata": {
    "colab": {},
    "colab_type": "code",
    "id": "ZJW3KXp5Fx6Q"
   },
   "outputs": [],
   "source": [
    "#X = df5[['Gender', 'Age','Product_Category_1', 'Product_Category_2', 'Product_Category_3']]\n",
    "#Y = df5['Total_Purchase_Amount']"
   ]
  },
  {
   "cell_type": "code",
   "execution_count": 68,
   "metadata": {
    "colab": {},
    "colab_type": "code",
    "id": "zIHDHZqOvkfy"
   },
   "outputs": [],
   "source": [
    "#from sklearn.preprocessing import StandardScaler\n",
    "#sc=StandardScaler()\n",
    "#X=sc.fit_transform(X)"
   ]
  },
  {
   "cell_type": "code",
   "execution_count": 69,
   "metadata": {
    "colab": {},
    "colab_type": "code",
    "id": "tPWu9o05gYWG"
   },
   "outputs": [],
   "source": [
    "# Split into train and test\n",
    "\n",
    "from sklearn.model_selection import train_test_split\n",
    "\n",
    "X_train, X_test, Y_train, Y_test = train_test_split(X, Y, train_size=0.7, test_size = 0.3, random_state=100)"
   ]
  },
  {
   "cell_type": "code",
   "execution_count": 70,
   "metadata": {
    "colab": {
     "base_uri": "https://localhost:8080/",
     "height": 34
    },
    "colab_type": "code",
    "id": "QxxGYzIdhSRx",
    "outputId": "3307259a-083b-44d7-845a-306a4c11bf48"
   },
   "outputs": [
    {
     "data": {
      "text/plain": [
       "LinearRegression(copy_X=True, fit_intercept=True, n_jobs=None, normalize=False)"
      ]
     },
     "execution_count": 70,
     "metadata": {},
     "output_type": "execute_result"
    }
   ],
   "source": [
    "# Building a baseline model with all the features\n",
    "\n",
    "# Instantiate\n",
    "lm = LinearRegression()\n",
    "\n",
    "# fit\n",
    "lm.fit(X_train, Y_train)"
   ]
  },
  {
   "cell_type": "code",
   "execution_count": 71,
   "metadata": {
    "colab": {
     "base_uri": "https://localhost:8080/",
     "height": 86
    },
    "colab_type": "code",
    "id": "jZ7c7GJEkLHd",
    "outputId": "0c0c04a3-5666-40ed-ca46-bd29e29f49ae"
   },
   "outputs": [
    {
     "name": "stdout",
     "output_type": "stream",
     "text": [
      "[4.95033507e+04 5.04361304e+03 2.13446552e+02 1.52356863e+03\n",
      " 8.17729455e+02 3.27264383e+01 6.02872468e+03 1.18083080e+03\n",
      " 6.61484170e+03]\n",
      "-10510.621019367594\n"
     ]
    }
   ],
   "source": [
    "# print coefficients and intercept\n",
    "print(lm.coef_)\n",
    "print(lm.intercept_)"
   ]
  },
  {
   "cell_type": "code",
   "execution_count": 72,
   "metadata": {
    "colab": {},
    "colab_type": "code",
    "id": "QBOI_XykkPr-"
   },
   "outputs": [],
   "source": [
    "# predict \n",
    "y_pred = lm.predict(X_test)"
   ]
  },
  {
   "cell_type": "code",
   "execution_count": 73,
   "metadata": {
    "colab": {
     "base_uri": "https://localhost:8080/",
     "height": 86
    },
    "colab_type": "code",
    "id": "rz_tfWQhpvhD",
    "outputId": "4c876a34-e375-43d4-8df1-0198f8d8e323"
   },
   "outputs": [
    {
     "name": "stdout",
     "output_type": "stream",
     "text": [
      "Mean Absolute Error = 96438.03903685848\n",
      "Mean Squared Error = 28091823197.884235\n",
      "R Square Value = 0.9688350076756642\n",
      "RMSE Value = 167606.15501193336\n"
     ]
    }
   ],
   "source": [
    "from sklearn.metrics import mean_squared_error, r2_score, mean_absolute_error\n",
    "\n",
    "mae = mean_absolute_error(Y_test, y_pred)\n",
    "mse = mean_squared_error(Y_test, y_pred)\n",
    "r_squared = r2_score(Y_test, y_pred)\n",
    "print('Mean Absolute Error =' ,mae)\n",
    "print('Mean Squared Error =' ,mse)\n",
    "print('R Square Value =',r_squared)\n",
    "print(\"RMSE Value =\",np.sqrt(mse))"
   ]
  },
  {
   "cell_type": "markdown",
   "metadata": {
    "colab_type": "text",
    "id": "G3Scv06l4d2F"
   },
   "source": [
    "#### A better metric to look at is adjusted r-squared, which penalises a model for having more features, and thus weighs both the goodness of fit and model complexity. \n",
    "#### Using statsmodels library for this."
   ]
  },
  {
   "cell_type": "code",
   "execution_count": 74,
   "metadata": {
    "colab": {},
    "colab_type": "code",
    "id": "_FEUY65P4Hac"
   },
   "outputs": [],
   "source": [
    "import statsmodels.api as sm  "
   ]
  },
  {
   "cell_type": "code",
   "execution_count": 75,
   "metadata": {
    "colab": {},
    "colab_type": "code",
    "id": "tUNalf67CnCa"
   },
   "outputs": [],
   "source": [
    "#xtrain = sm.add_constant(X_train) \n",
    "xtrain=X_train"
   ]
  },
  {
   "cell_type": "code",
   "execution_count": 76,
   "metadata": {
    "colab": {
     "base_uri": "https://localhost:8080/",
     "height": 572
    },
    "colab_type": "code",
    "id": "8Ojc6tb-4pCm",
    "outputId": "af7ca9da-c59f-4ba0-eb5d-8c2d1418e1df"
   },
   "outputs": [
    {
     "name": "stdout",
     "output_type": "stream",
     "text": [
      "                                  OLS Regression Results                                  \n",
      "==========================================================================================\n",
      "Dep. Variable:     Total_Purchase_Amount   R-squared (uncentered):                   0.982\n",
      "Model:                               OLS   Adj. R-squared (uncentered):              0.982\n",
      "Method:                    Least Squares   F-statistic:                          2.491e+04\n",
      "Date:                   Tue, 03 Dec 2019   Prob (F-statistic):                        0.00\n",
      "Time:                           19:52:52   Log-Likelihood:                         -55475.\n",
      "No. Observations:                   4123   AIC:                                  1.110e+05\n",
      "Df Residuals:                       4114   BIC:                                  1.110e+05\n",
      "Df Model:                              9                                                  \n",
      "Covariance Type:               nonrobust                                                  \n",
      "==============================================================================================\n",
      "                                 coef    std err          t      P>|t|      [0.025      0.975]\n",
      "----------------------------------------------------------------------------------------------\n",
      "Gender                      4.661e+04   5509.647      8.460      0.000    3.58e+04    5.74e+04\n",
      "Age                         3948.8742   1634.618      2.416      0.016     744.138    7153.610\n",
      "Occupation                    72.7814    405.976      0.179      0.858    -723.151     868.713\n",
      "City_Category                403.8186   3570.690      0.113      0.910   -6596.665    7404.302\n",
      "Stay_In_Current_City_Years  -250.6105   1850.096     -0.135      0.892   -3877.799    3376.578\n",
      "Marital_Status              -568.0949   5624.917     -0.101      0.920   -1.16e+04    1.05e+04\n",
      "Product_Category_1          6036.7689    222.417     27.142      0.000    5600.711    6472.827\n",
      "Product_Category_2          1162.1897    519.427      2.237      0.025     143.833    2180.547\n",
      "Product_Category_3          6611.9597    538.822     12.271      0.000    5555.577    7668.343\n",
      "==============================================================================\n",
      "Omnibus:                      996.584   Durbin-Watson:                   2.013\n",
      "Prob(Omnibus):                  0.000   Jarque-Bera (JB):            34489.416\n",
      "Skew:                          -0.444   Prob(JB):                         0.00\n",
      "Kurtosis:                      17.141   Cond. No.                         373.\n",
      "==============================================================================\n",
      "\n",
      "Warnings:\n",
      "[1] Standard Errors assume that the covariance matrix of the errors is correctly specified.\n"
     ]
    }
   ],
   "source": [
    "lm_ols = sm.OLS(Y_train, xtrain).fit()   \n",
    "print(lm_ols.summary())"
   ]
  },
  {
   "cell_type": "code",
   "execution_count": 77,
   "metadata": {
    "colab": {
     "base_uri": "https://localhost:8080/",
     "height": 208
    },
    "colab_type": "code",
    "id": "kSBqSCA249wC",
    "outputId": "6d1097fd-521d-44ed-dff9-c2a7ac17ddf7"
   },
   "outputs": [
    {
     "name": "stdout",
     "output_type": "stream",
     "text": [
      "Parameters:  Gender                        46612.606463\n",
      "Age                            3948.874181\n",
      "Occupation                       72.781385\n",
      "City_Category                   403.818633\n",
      "Stay_In_Current_City_Years     -250.610536\n",
      "Marital_Status                 -568.094871\n",
      "Product_Category_1             6036.768867\n",
      "Product_Category_2             1162.189708\n",
      "Product_Category_3             6611.959696\n",
      "dtype: float64\n",
      "R2:  0.9819775673970916\n"
     ]
    }
   ],
   "source": [
    "print('Parameters: ', lm_ols.params)\n",
    "print('R2: ', lm_ols.rsquared)"
   ]
  },
  {
   "cell_type": "code",
   "execution_count": 78,
   "metadata": {
    "colab": {},
    "colab_type": "code",
    "id": "U74jurMI_LXZ"
   },
   "outputs": [],
   "source": [
    "#import statsmodels.formula.api as smf\n",
    "#lm_ols = smf.ols(formula='Total_Purchase_Amount ~ Product', data=df5).fit()\n",
    "#lm_ols.conf_int()"
   ]
  },
  {
   "cell_type": "markdown",
   "metadata": {
    "colab_type": "text",
    "id": "wX7JkVBv8b2F"
   },
   "source": [
    "#### Decision Tree Model"
   ]
  },
  {
   "cell_type": "code",
   "execution_count": 79,
   "metadata": {
    "colab": {
     "base_uri": "https://localhost:8080/",
     "height": 104
    },
    "colab_type": "code",
    "id": "fBl9y7Lt0gvm",
    "outputId": "473d55e7-ed01-47a6-8aac-1353ed3f2569"
   },
   "outputs": [
    {
     "data": {
      "text/plain": [
       "DecisionTreeRegressor(criterion='mse', max_depth=5, max_features=None,\n",
       "                      max_leaf_nodes=None, min_impurity_decrease=0.0,\n",
       "                      min_impurity_split=None, min_samples_leaf=1,\n",
       "                      min_samples_split=2, min_weight_fraction_leaf=0.0,\n",
       "                      presort=False, random_state=100, splitter='best')"
      ]
     },
     "execution_count": 79,
     "metadata": {},
     "output_type": "execute_result"
    }
   ],
   "source": [
    "dt_model = DecisionTreeRegressor(max_depth=5,random_state=100)\n",
    "dt_model.fit(X_train, Y_train)"
   ]
  },
  {
   "cell_type": "code",
   "execution_count": 80,
   "metadata": {
    "colab": {},
    "colab_type": "code",
    "id": "1uHBQYKx7O-v"
   },
   "outputs": [],
   "source": [
    "y_pred = dt_model.predict(X_test)"
   ]
  },
  {
   "cell_type": "code",
   "execution_count": 81,
   "metadata": {
    "colab": {
     "base_uri": "https://localhost:8080/",
     "height": 69
    },
    "colab_type": "code",
    "id": "KsKV42pv1vXT",
    "outputId": "273a58f1-24e1-4284-cc6f-7cbd8b3749e4"
   },
   "outputs": [
    {
     "name": "stdout",
     "output_type": "stream",
     "text": [
      "Mean Squared error with Decision tree Regresssion is:  36855412698.59551\n",
      "R2 score with Simple Decision tree Regresssion is:  0.9591127052960925\n",
      "Root Mean Squared error(RMSE) with Decision tree Regresssion is:  191977.635933448\n"
     ]
    }
   ],
   "source": [
    "print(\"Mean Squared error with Decision tree Regresssion is: \", mean_squared_error(Y_test, y_pred))\n",
    "print(\"R2 score with Simple Decision tree Regresssion is: \", r2_score(Y_test, y_pred))\n",
    "print(\"Root Mean Squared error(RMSE) with Decision tree Regresssion is: \", np.sqrt(mean_squared_error(Y_test, y_pred)))"
   ]
  },
  {
   "cell_type": "code",
   "execution_count": 82,
   "metadata": {
    "colab": {
     "base_uri": "https://localhost:8080/",
     "height": 190
    },
    "colab_type": "code",
    "id": "UyQT9_O00g2O",
    "outputId": "e5aafcff-80c8-4f25-e832-2249d0429b0f"
   },
   "outputs": [
    {
     "name": "stdout",
     "output_type": "stream",
     "text": [
      "                                 Imp\n",
      "Gender                      0.000000\n",
      "Age                         0.000000\n",
      "Occupation                  0.000000\n",
      "City_Category               0.000000\n",
      "Stay_In_Current_City_Years  0.000000\n",
      "Marital_Status              0.000000\n",
      "Product_Category_1          0.849460\n",
      "Product_Category_2          0.149319\n",
      "Product_Category_3          0.001221\n"
     ]
    }
   ],
   "source": [
    "print (pd.DataFrame(dt_model.feature_importances_, columns = [\"Imp\"], index = ['Gender', 'Age', 'Occupation', 'City_Category',\n",
    "                                                                              'Stay_In_Current_City_Years', 'Marital_Status', 'Product_Category_1',\n",
    "                                                                              'Product_Category_2', 'Product_Category_3']))"
   ]
  },
  {
   "cell_type": "code",
   "execution_count": 83,
   "metadata": {
    "colab": {},
    "colab_type": "code",
    "id": "-V4zUz1rHnL0"
   },
   "outputs": [],
   "source": [
    "rf=RandomForestRegressor()\n",
    "y_pred=rf.fit(X_train, Y_train).predict(X_test)"
   ]
  },
  {
   "cell_type": "code",
   "execution_count": 84,
   "metadata": {
    "colab": {
     "base_uri": "https://localhost:8080/",
     "height": 69
    },
    "colab_type": "code",
    "id": "JG6G8MqTN6xR",
    "outputId": "855f9521-eb94-45cb-edbe-2d87bba8221b"
   },
   "outputs": [
    {
     "name": "stdout",
     "output_type": "stream",
     "text": [
      "Mean Squared error with RandomForest Regresssion is:  39825210004.36088\n",
      "R2 score with Simple RandomForest Regresssion is:  0.9558180202346408\n",
      "Root Mean Squared error(RMSE) with RandomForest Regresssion is:  199562.54659720315\n"
     ]
    }
   ],
   "source": [
    "print(\"Mean Squared error with RandomForest Regresssion is: \", mean_squared_error(Y_test, y_pred))\n",
    "print(\"R2 score with Simple RandomForest Regresssion is: \", r2_score(Y_test, y_pred))\n",
    "print(\"Root Mean Squared error(RMSE) with RandomForest Regresssion is: \", np.sqrt(mean_squared_error(Y_test, y_pred)))"
   ]
  },
  {
   "cell_type": "code",
   "execution_count": 85,
   "metadata": {
    "colab": {},
    "colab_type": "code",
    "id": "_nKxS5msH-gk"
   },
   "outputs": [],
   "source": [
    "gb=GradientBoostingRegressor()\n",
    "y_pred=gb.fit(X_train, Y_train).predict(X_test)"
   ]
  },
  {
   "cell_type": "code",
   "execution_count": 86,
   "metadata": {
    "colab": {
     "base_uri": "https://localhost:8080/",
     "height": 69
    },
    "colab_type": "code",
    "id": "-_s7Or-pOABF",
    "outputId": "292ddbcd-2ce5-40dd-f1fe-c627b91979ca"
   },
   "outputs": [
    {
     "name": "stdout",
     "output_type": "stream",
     "text": [
      "Mean Squared error with GradientBoosting Regresssion is:  34605540948.35233\n",
      "R2 score with Simple GradientBoosting Regresssion is:  0.9616087069024372\n",
      "Root Mean Squared error(RMSE) with GradientBoosting Regresssion is:  186025.64594257518\n"
     ]
    }
   ],
   "source": [
    "print(\"Mean Squared error with GradientBoosting Regresssion is: \", mean_squared_error(Y_test, y_pred))\n",
    "print(\"R2 score with Simple GradientBoosting Regresssion is: \", r2_score(Y_test, y_pred))\n",
    "print(\"Root Mean Squared error(RMSE) with GradientBoosting Regresssion is: \", np.sqrt(mean_squared_error(Y_test, y_pred)))"
   ]
  },
  {
   "cell_type": "markdown",
   "metadata": {
    "colab_type": "text",
    "id": "jmA-E8WTeVQf"
   },
   "source": [
    "## Revisiting Feature Engineering\n",
    "### Extracting new features :\n",
    "#### Product Category 1 seems to be the Category Type and 2 & 3 seems to be the sub category types of the product bought by the user.\n",
    "#### We calculate the total number of products bought by the user from each category"
   ]
  },
  {
   "cell_type": "code",
   "execution_count": 87,
   "metadata": {
    "colab": {
     "base_uri": "https://localhost:8080/",
     "height": 202
    },
    "colab_type": "code",
    "id": "BdvcTBzWH_BI",
    "outputId": "796be1c1-f51d-462e-f24d-cb293226aafd"
   },
   "outputs": [
    {
     "data": {
      "text/html": [
       "<div>\n",
       "<style scoped>\n",
       "    .dataframe tbody tr th:only-of-type {\n",
       "        vertical-align: middle;\n",
       "    }\n",
       "\n",
       "    .dataframe tbody tr th {\n",
       "        vertical-align: top;\n",
       "    }\n",
       "\n",
       "    .dataframe thead th {\n",
       "        text-align: right;\n",
       "    }\n",
       "</style>\n",
       "<table border=\"1\" class=\"dataframe\">\n",
       "  <thead>\n",
       "    <tr style=\"text-align: right;\">\n",
       "      <th></th>\n",
       "      <th>User_ID</th>\n",
       "      <th>Product_ID</th>\n",
       "      <th>Gender</th>\n",
       "      <th>Age</th>\n",
       "      <th>Occupation</th>\n",
       "      <th>City_Category</th>\n",
       "      <th>Stay_In_Current_City_Years</th>\n",
       "      <th>Marital_Status</th>\n",
       "      <th>Product_Category_1</th>\n",
       "      <th>Product_Category_2</th>\n",
       "      <th>Product_Category_3</th>\n",
       "      <th>Purchase</th>\n",
       "    </tr>\n",
       "  </thead>\n",
       "  <tbody>\n",
       "    <tr>\n",
       "      <th>0</th>\n",
       "      <td>1000001</td>\n",
       "      <td>P00069042</td>\n",
       "      <td>0</td>\n",
       "      <td>0</td>\n",
       "      <td>10</td>\n",
       "      <td>2</td>\n",
       "      <td>2.0</td>\n",
       "      <td>0</td>\n",
       "      <td>3</td>\n",
       "      <td>0.0</td>\n",
       "      <td>0.0</td>\n",
       "      <td>8370</td>\n",
       "    </tr>\n",
       "    <tr>\n",
       "      <th>1</th>\n",
       "      <td>1000001</td>\n",
       "      <td>P00248942</td>\n",
       "      <td>0</td>\n",
       "      <td>0</td>\n",
       "      <td>10</td>\n",
       "      <td>2</td>\n",
       "      <td>2.0</td>\n",
       "      <td>0</td>\n",
       "      <td>1</td>\n",
       "      <td>6.0</td>\n",
       "      <td>14.0</td>\n",
       "      <td>15200</td>\n",
       "    </tr>\n",
       "    <tr>\n",
       "      <th>2</th>\n",
       "      <td>1000001</td>\n",
       "      <td>P00087842</td>\n",
       "      <td>0</td>\n",
       "      <td>0</td>\n",
       "      <td>10</td>\n",
       "      <td>2</td>\n",
       "      <td>2.0</td>\n",
       "      <td>0</td>\n",
       "      <td>12</td>\n",
       "      <td>0.0</td>\n",
       "      <td>0.0</td>\n",
       "      <td>1422</td>\n",
       "    </tr>\n",
       "    <tr>\n",
       "      <th>3</th>\n",
       "      <td>1000001</td>\n",
       "      <td>P00085442</td>\n",
       "      <td>0</td>\n",
       "      <td>0</td>\n",
       "      <td>10</td>\n",
       "      <td>2</td>\n",
       "      <td>2.0</td>\n",
       "      <td>0</td>\n",
       "      <td>12</td>\n",
       "      <td>14.0</td>\n",
       "      <td>0.0</td>\n",
       "      <td>1057</td>\n",
       "    </tr>\n",
       "    <tr>\n",
       "      <th>4</th>\n",
       "      <td>1000002</td>\n",
       "      <td>P00285442</td>\n",
       "      <td>1</td>\n",
       "      <td>6</td>\n",
       "      <td>16</td>\n",
       "      <td>0</td>\n",
       "      <td>4.0</td>\n",
       "      <td>0</td>\n",
       "      <td>8</td>\n",
       "      <td>0.0</td>\n",
       "      <td>0.0</td>\n",
       "      <td>7969</td>\n",
       "    </tr>\n",
       "  </tbody>\n",
       "</table>\n",
       "</div>"
      ],
      "text/plain": [
       "   User_ID Product_ID  Gender  Age  Occupation  City_Category  \\\n",
       "0  1000001  P00069042       0    0          10              2   \n",
       "1  1000001  P00248942       0    0          10              2   \n",
       "2  1000001  P00087842       0    0          10              2   \n",
       "3  1000001  P00085442       0    0          10              2   \n",
       "4  1000002  P00285442       1    6          16              0   \n",
       "\n",
       "   Stay_In_Current_City_Years  Marital_Status  Product_Category_1  \\\n",
       "0                         2.0               0                   3   \n",
       "1                         2.0               0                   1   \n",
       "2                         2.0               0                  12   \n",
       "3                         2.0               0                  12   \n",
       "4                         4.0               0                   8   \n",
       "\n",
       "   Product_Category_2  Product_Category_3  Purchase  \n",
       "0                 0.0                 0.0      8370  \n",
       "1                 6.0                14.0     15200  \n",
       "2                 0.0                 0.0      1422  \n",
       "3                14.0                 0.0      1057  \n",
       "4                 0.0                 0.0      7969  "
      ]
     },
     "execution_count": 87,
     "metadata": {},
     "output_type": "execute_result"
    }
   ],
   "source": [
    "import copy\n",
    "df32 = copy.deepcopy(df2)\n",
    "df32.head()"
   ]
  },
  {
   "cell_type": "code",
   "execution_count": 88,
   "metadata": {
    "colab": {
     "base_uri": "https://localhost:8080/",
     "height": 222
    },
    "colab_type": "code",
    "id": "cztwY8P6I8Gs",
    "outputId": "fe0898eb-1d33-4882-cd62-d44e7fd9792b"
   },
   "outputs": [
    {
     "data": {
      "text/html": [
       "<div>\n",
       "<style scoped>\n",
       "    .dataframe tbody tr th:only-of-type {\n",
       "        vertical-align: middle;\n",
       "    }\n",
       "\n",
       "    .dataframe tbody tr th {\n",
       "        vertical-align: top;\n",
       "    }\n",
       "\n",
       "    .dataframe thead th {\n",
       "        text-align: right;\n",
       "    }\n",
       "</style>\n",
       "<table border=\"1\" class=\"dataframe\">\n",
       "  <thead>\n",
       "    <tr style=\"text-align: right;\">\n",
       "      <th></th>\n",
       "      <th>User_ID</th>\n",
       "      <th>Product_ID</th>\n",
       "      <th>Gender</th>\n",
       "      <th>Age</th>\n",
       "      <th>Occupation</th>\n",
       "      <th>City_Category</th>\n",
       "      <th>Stay_In_Current_City_Years</th>\n",
       "      <th>Marital_Status</th>\n",
       "      <th>Product_Category_1</th>\n",
       "      <th>Product_Category_2</th>\n",
       "      <th>Product_Category_3</th>\n",
       "      <th>Purchase</th>\n",
       "      <th>Total_Purchase_Amount</th>\n",
       "      <th>User_Purchase_Count</th>\n",
       "    </tr>\n",
       "  </thead>\n",
       "  <tbody>\n",
       "    <tr>\n",
       "      <th>0</th>\n",
       "      <td>1000001</td>\n",
       "      <td>P00069042</td>\n",
       "      <td>0</td>\n",
       "      <td>0</td>\n",
       "      <td>10</td>\n",
       "      <td>2</td>\n",
       "      <td>2.0</td>\n",
       "      <td>0</td>\n",
       "      <td>3</td>\n",
       "      <td>0.0</td>\n",
       "      <td>0.0</td>\n",
       "      <td>8370</td>\n",
       "      <td>333481</td>\n",
       "      <td>34</td>\n",
       "    </tr>\n",
       "    <tr>\n",
       "      <th>1</th>\n",
       "      <td>1000001</td>\n",
       "      <td>P00248942</td>\n",
       "      <td>0</td>\n",
       "      <td>0</td>\n",
       "      <td>10</td>\n",
       "      <td>2</td>\n",
       "      <td>2.0</td>\n",
       "      <td>0</td>\n",
       "      <td>1</td>\n",
       "      <td>6.0</td>\n",
       "      <td>14.0</td>\n",
       "      <td>15200</td>\n",
       "      <td>333481</td>\n",
       "      <td>34</td>\n",
       "    </tr>\n",
       "    <tr>\n",
       "      <th>2</th>\n",
       "      <td>1000001</td>\n",
       "      <td>P00087842</td>\n",
       "      <td>0</td>\n",
       "      <td>0</td>\n",
       "      <td>10</td>\n",
       "      <td>2</td>\n",
       "      <td>2.0</td>\n",
       "      <td>0</td>\n",
       "      <td>12</td>\n",
       "      <td>0.0</td>\n",
       "      <td>0.0</td>\n",
       "      <td>1422</td>\n",
       "      <td>333481</td>\n",
       "      <td>34</td>\n",
       "    </tr>\n",
       "    <tr>\n",
       "      <th>3</th>\n",
       "      <td>1000001</td>\n",
       "      <td>P00085442</td>\n",
       "      <td>0</td>\n",
       "      <td>0</td>\n",
       "      <td>10</td>\n",
       "      <td>2</td>\n",
       "      <td>2.0</td>\n",
       "      <td>0</td>\n",
       "      <td>12</td>\n",
       "      <td>14.0</td>\n",
       "      <td>0.0</td>\n",
       "      <td>1057</td>\n",
       "      <td>333481</td>\n",
       "      <td>34</td>\n",
       "    </tr>\n",
       "    <tr>\n",
       "      <th>4</th>\n",
       "      <td>1000002</td>\n",
       "      <td>P00285442</td>\n",
       "      <td>1</td>\n",
       "      <td>6</td>\n",
       "      <td>16</td>\n",
       "      <td>0</td>\n",
       "      <td>4.0</td>\n",
       "      <td>0</td>\n",
       "      <td>8</td>\n",
       "      <td>0.0</td>\n",
       "      <td>0.0</td>\n",
       "      <td>7969</td>\n",
       "      <td>810353</td>\n",
       "      <td>76</td>\n",
       "    </tr>\n",
       "  </tbody>\n",
       "</table>\n",
       "</div>"
      ],
      "text/plain": [
       "   User_ID Product_ID  Gender  Age  Occupation  City_Category  \\\n",
       "0  1000001  P00069042       0    0          10              2   \n",
       "1  1000001  P00248942       0    0          10              2   \n",
       "2  1000001  P00087842       0    0          10              2   \n",
       "3  1000001  P00085442       0    0          10              2   \n",
       "4  1000002  P00285442       1    6          16              0   \n",
       "\n",
       "   Stay_In_Current_City_Years  Marital_Status  Product_Category_1  \\\n",
       "0                         2.0               0                   3   \n",
       "1                         2.0               0                   1   \n",
       "2                         2.0               0                  12   \n",
       "3                         2.0               0                  12   \n",
       "4                         4.0               0                   8   \n",
       "\n",
       "   Product_Category_2  Product_Category_3  Purchase  Total_Purchase_Amount  \\\n",
       "0                 0.0                 0.0      8370                 333481   \n",
       "1                 6.0                14.0     15200                 333481   \n",
       "2                 0.0                 0.0      1422                 333481   \n",
       "3                14.0                 0.0      1057                 333481   \n",
       "4                 0.0                 0.0      7969                 810353   \n",
       "\n",
       "   User_Purchase_Count  \n",
       "0                   34  \n",
       "1                   34  \n",
       "2                   34  \n",
       "3                   34  \n",
       "4                   76  "
      ]
     },
     "execution_count": 88,
     "metadata": {},
     "output_type": "execute_result"
    }
   ],
   "source": [
    "df32['Total_Purchase_Amount']=df32.groupby('User_ID').Purchase.transform('sum')\n",
    "\n",
    "df32['User_Purchase_Count']=df32.groupby('User_ID').Product_Category_1.transform('count')\n",
    "\n",
    "\n",
    "df32.head()"
   ]
  },
  {
   "cell_type": "code",
   "execution_count": 89,
   "metadata": {
    "colab": {
     "base_uri": "https://localhost:8080/",
     "height": 202
    },
    "colab_type": "code",
    "id": "flR8nAYFJQlK",
    "outputId": "aa493392-c68e-4d2c-83bc-0a2cca55a75d"
   },
   "outputs": [
    {
     "data": {
      "text/html": [
       "<div>\n",
       "<style scoped>\n",
       "    .dataframe tbody tr th:only-of-type {\n",
       "        vertical-align: middle;\n",
       "    }\n",
       "\n",
       "    .dataframe tbody tr th {\n",
       "        vertical-align: top;\n",
       "    }\n",
       "\n",
       "    .dataframe thead th {\n",
       "        text-align: right;\n",
       "    }\n",
       "</style>\n",
       "<table border=\"1\" class=\"dataframe\">\n",
       "  <thead>\n",
       "    <tr style=\"text-align: right;\">\n",
       "      <th></th>\n",
       "      <th>User_ID</th>\n",
       "      <th>Gender</th>\n",
       "      <th>Age</th>\n",
       "      <th>Occupation</th>\n",
       "      <th>City_Category</th>\n",
       "      <th>Stay_In_Current_City_Years</th>\n",
       "      <th>Marital_Status</th>\n",
       "      <th>Product_Category_1</th>\n",
       "      <th>Total_Purchase_Amount</th>\n",
       "      <th>User_Purchase_Count</th>\n",
       "    </tr>\n",
       "  </thead>\n",
       "  <tbody>\n",
       "    <tr>\n",
       "      <th>0</th>\n",
       "      <td>1000001</td>\n",
       "      <td>0</td>\n",
       "      <td>0</td>\n",
       "      <td>10</td>\n",
       "      <td>2</td>\n",
       "      <td>2.0</td>\n",
       "      <td>0</td>\n",
       "      <td>3</td>\n",
       "      <td>333481</td>\n",
       "      <td>34</td>\n",
       "    </tr>\n",
       "    <tr>\n",
       "      <th>1</th>\n",
       "      <td>1000001</td>\n",
       "      <td>0</td>\n",
       "      <td>0</td>\n",
       "      <td>10</td>\n",
       "      <td>2</td>\n",
       "      <td>2.0</td>\n",
       "      <td>0</td>\n",
       "      <td>1</td>\n",
       "      <td>333481</td>\n",
       "      <td>34</td>\n",
       "    </tr>\n",
       "    <tr>\n",
       "      <th>2</th>\n",
       "      <td>1000001</td>\n",
       "      <td>0</td>\n",
       "      <td>0</td>\n",
       "      <td>10</td>\n",
       "      <td>2</td>\n",
       "      <td>2.0</td>\n",
       "      <td>0</td>\n",
       "      <td>12</td>\n",
       "      <td>333481</td>\n",
       "      <td>34</td>\n",
       "    </tr>\n",
       "    <tr>\n",
       "      <th>3</th>\n",
       "      <td>1000001</td>\n",
       "      <td>0</td>\n",
       "      <td>0</td>\n",
       "      <td>10</td>\n",
       "      <td>2</td>\n",
       "      <td>2.0</td>\n",
       "      <td>0</td>\n",
       "      <td>12</td>\n",
       "      <td>333481</td>\n",
       "      <td>34</td>\n",
       "    </tr>\n",
       "    <tr>\n",
       "      <th>4</th>\n",
       "      <td>1000002</td>\n",
       "      <td>1</td>\n",
       "      <td>6</td>\n",
       "      <td>16</td>\n",
       "      <td>0</td>\n",
       "      <td>4.0</td>\n",
       "      <td>0</td>\n",
       "      <td>8</td>\n",
       "      <td>810353</td>\n",
       "      <td>76</td>\n",
       "    </tr>\n",
       "  </tbody>\n",
       "</table>\n",
       "</div>"
      ],
      "text/plain": [
       "   User_ID  Gender  Age  Occupation  City_Category  \\\n",
       "0  1000001       0    0          10              2   \n",
       "1  1000001       0    0          10              2   \n",
       "2  1000001       0    0          10              2   \n",
       "3  1000001       0    0          10              2   \n",
       "4  1000002       1    6          16              0   \n",
       "\n",
       "   Stay_In_Current_City_Years  Marital_Status  Product_Category_1  \\\n",
       "0                         2.0               0                   3   \n",
       "1                         2.0               0                   1   \n",
       "2                         2.0               0                  12   \n",
       "3                         2.0               0                  12   \n",
       "4                         4.0               0                   8   \n",
       "\n",
       "   Total_Purchase_Amount  User_Purchase_Count  \n",
       "0                 333481                   34  \n",
       "1                 333481                   34  \n",
       "2                 333481                   34  \n",
       "3                 333481                   34  \n",
       "4                 810353                   76  "
      ]
     },
     "execution_count": 89,
     "metadata": {},
     "output_type": "execute_result"
    }
   ],
   "source": [
    "df32.drop(['Product_ID','Product_Category_2', 'Product_Category_3', 'Purchase'],axis=1,inplace=True)\n",
    "df32.head()"
   ]
  },
  {
   "cell_type": "code",
   "execution_count": 90,
   "metadata": {
    "colab": {
     "base_uri": "https://localhost:8080/",
     "height": 202
    },
    "colab_type": "code",
    "id": "puYAHaQmJruQ",
    "outputId": "6f13896b-e01f-4ef7-9494-f15a5cc84e1d"
   },
   "outputs": [
    {
     "data": {
      "text/html": [
       "<div>\n",
       "<style scoped>\n",
       "    .dataframe tbody tr th:only-of-type {\n",
       "        vertical-align: middle;\n",
       "    }\n",
       "\n",
       "    .dataframe tbody tr th {\n",
       "        vertical-align: top;\n",
       "    }\n",
       "\n",
       "    .dataframe thead th {\n",
       "        text-align: right;\n",
       "    }\n",
       "</style>\n",
       "<table border=\"1\" class=\"dataframe\">\n",
       "  <thead>\n",
       "    <tr style=\"text-align: right;\">\n",
       "      <th></th>\n",
       "      <th>Cat_1</th>\n",
       "      <th>Cat_2</th>\n",
       "      <th>Cat_3</th>\n",
       "      <th>Cat_4</th>\n",
       "      <th>Cat_5</th>\n",
       "      <th>Cat_6</th>\n",
       "      <th>Cat_7</th>\n",
       "      <th>Cat_8</th>\n",
       "      <th>Cat_9</th>\n",
       "      <th>Cat_10</th>\n",
       "      <th>Cat_11</th>\n",
       "      <th>Cat_12</th>\n",
       "      <th>Cat_13</th>\n",
       "      <th>Cat_14</th>\n",
       "      <th>Cat_15</th>\n",
       "      <th>Cat_16</th>\n",
       "      <th>Cat_17</th>\n",
       "      <th>Cat_18</th>\n",
       "    </tr>\n",
       "  </thead>\n",
       "  <tbody>\n",
       "    <tr>\n",
       "      <th>0</th>\n",
       "      <td>0</td>\n",
       "      <td>0</td>\n",
       "      <td>1</td>\n",
       "      <td>0</td>\n",
       "      <td>0</td>\n",
       "      <td>0</td>\n",
       "      <td>0</td>\n",
       "      <td>0</td>\n",
       "      <td>0</td>\n",
       "      <td>0</td>\n",
       "      <td>0</td>\n",
       "      <td>0</td>\n",
       "      <td>0</td>\n",
       "      <td>0</td>\n",
       "      <td>0</td>\n",
       "      <td>0</td>\n",
       "      <td>0</td>\n",
       "      <td>0</td>\n",
       "    </tr>\n",
       "    <tr>\n",
       "      <th>1</th>\n",
       "      <td>1</td>\n",
       "      <td>0</td>\n",
       "      <td>0</td>\n",
       "      <td>0</td>\n",
       "      <td>0</td>\n",
       "      <td>0</td>\n",
       "      <td>0</td>\n",
       "      <td>0</td>\n",
       "      <td>0</td>\n",
       "      <td>0</td>\n",
       "      <td>0</td>\n",
       "      <td>0</td>\n",
       "      <td>0</td>\n",
       "      <td>0</td>\n",
       "      <td>0</td>\n",
       "      <td>0</td>\n",
       "      <td>0</td>\n",
       "      <td>0</td>\n",
       "    </tr>\n",
       "    <tr>\n",
       "      <th>2</th>\n",
       "      <td>0</td>\n",
       "      <td>0</td>\n",
       "      <td>0</td>\n",
       "      <td>0</td>\n",
       "      <td>0</td>\n",
       "      <td>0</td>\n",
       "      <td>0</td>\n",
       "      <td>0</td>\n",
       "      <td>0</td>\n",
       "      <td>0</td>\n",
       "      <td>0</td>\n",
       "      <td>1</td>\n",
       "      <td>0</td>\n",
       "      <td>0</td>\n",
       "      <td>0</td>\n",
       "      <td>0</td>\n",
       "      <td>0</td>\n",
       "      <td>0</td>\n",
       "    </tr>\n",
       "    <tr>\n",
       "      <th>3</th>\n",
       "      <td>0</td>\n",
       "      <td>0</td>\n",
       "      <td>0</td>\n",
       "      <td>0</td>\n",
       "      <td>0</td>\n",
       "      <td>0</td>\n",
       "      <td>0</td>\n",
       "      <td>0</td>\n",
       "      <td>0</td>\n",
       "      <td>0</td>\n",
       "      <td>0</td>\n",
       "      <td>1</td>\n",
       "      <td>0</td>\n",
       "      <td>0</td>\n",
       "      <td>0</td>\n",
       "      <td>0</td>\n",
       "      <td>0</td>\n",
       "      <td>0</td>\n",
       "    </tr>\n",
       "    <tr>\n",
       "      <th>4</th>\n",
       "      <td>0</td>\n",
       "      <td>0</td>\n",
       "      <td>0</td>\n",
       "      <td>0</td>\n",
       "      <td>0</td>\n",
       "      <td>0</td>\n",
       "      <td>0</td>\n",
       "      <td>1</td>\n",
       "      <td>0</td>\n",
       "      <td>0</td>\n",
       "      <td>0</td>\n",
       "      <td>0</td>\n",
       "      <td>0</td>\n",
       "      <td>0</td>\n",
       "      <td>0</td>\n",
       "      <td>0</td>\n",
       "      <td>0</td>\n",
       "      <td>0</td>\n",
       "    </tr>\n",
       "  </tbody>\n",
       "</table>\n",
       "</div>"
      ],
      "text/plain": [
       "   Cat_1  Cat_2  Cat_3  Cat_4  Cat_5  Cat_6  Cat_7  Cat_8  Cat_9  Cat_10  \\\n",
       "0      0      0      1      0      0      0      0      0      0       0   \n",
       "1      1      0      0      0      0      0      0      0      0       0   \n",
       "2      0      0      0      0      0      0      0      0      0       0   \n",
       "3      0      0      0      0      0      0      0      0      0       0   \n",
       "4      0      0      0      0      0      0      0      1      0       0   \n",
       "\n",
       "   Cat_11  Cat_12  Cat_13  Cat_14  Cat_15  Cat_16  Cat_17  Cat_18  \n",
       "0       0       0       0       0       0       0       0       0  \n",
       "1       0       0       0       0       0       0       0       0  \n",
       "2       0       1       0       0       0       0       0       0  \n",
       "3       0       1       0       0       0       0       0       0  \n",
       "4       0       0       0       0       0       0       0       0  "
      ]
     },
     "execution_count": 90,
     "metadata": {},
     "output_type": "execute_result"
    }
   ],
   "source": [
    "dummies = pd.DataFrame(pd.get_dummies(df32['Product_Category_1']).values,columns = ['Cat_'+str(i) for i in range(1,19)])\n",
    "dummies.head()"
   ]
  },
  {
   "cell_type": "code",
   "execution_count": 91,
   "metadata": {
    "colab": {
     "base_uri": "https://localhost:8080/",
     "height": 202
    },
    "colab_type": "code",
    "id": "P79dCdj1UU1s",
    "outputId": "b1716421-35c3-4e44-c8b6-4aebf5db21c9"
   },
   "outputs": [
    {
     "data": {
      "text/html": [
       "<div>\n",
       "<style scoped>\n",
       "    .dataframe tbody tr th:only-of-type {\n",
       "        vertical-align: middle;\n",
       "    }\n",
       "\n",
       "    .dataframe tbody tr th {\n",
       "        vertical-align: top;\n",
       "    }\n",
       "\n",
       "    .dataframe thead th {\n",
       "        text-align: right;\n",
       "    }\n",
       "</style>\n",
       "<table border=\"1\" class=\"dataframe\">\n",
       "  <thead>\n",
       "    <tr style=\"text-align: right;\">\n",
       "      <th></th>\n",
       "      <th>User_ID</th>\n",
       "      <th>Cat_1</th>\n",
       "      <th>Cat_2</th>\n",
       "      <th>Cat_3</th>\n",
       "      <th>Cat_4</th>\n",
       "      <th>Cat_5</th>\n",
       "      <th>Cat_6</th>\n",
       "      <th>Cat_7</th>\n",
       "      <th>Cat_8</th>\n",
       "      <th>Cat_9</th>\n",
       "      <th>Cat_10</th>\n",
       "      <th>Cat_11</th>\n",
       "      <th>Cat_12</th>\n",
       "      <th>Cat_13</th>\n",
       "      <th>Cat_14</th>\n",
       "      <th>Cat_15</th>\n",
       "      <th>Cat_16</th>\n",
       "      <th>Cat_17</th>\n",
       "      <th>Cat_18</th>\n",
       "    </tr>\n",
       "  </thead>\n",
       "  <tbody>\n",
       "    <tr>\n",
       "      <th>0</th>\n",
       "      <td>1000001</td>\n",
       "      <td>0</td>\n",
       "      <td>0</td>\n",
       "      <td>1</td>\n",
       "      <td>0</td>\n",
       "      <td>0</td>\n",
       "      <td>0</td>\n",
       "      <td>0</td>\n",
       "      <td>0</td>\n",
       "      <td>0</td>\n",
       "      <td>0</td>\n",
       "      <td>0</td>\n",
       "      <td>0</td>\n",
       "      <td>0</td>\n",
       "      <td>0</td>\n",
       "      <td>0</td>\n",
       "      <td>0</td>\n",
       "      <td>0</td>\n",
       "      <td>0</td>\n",
       "    </tr>\n",
       "    <tr>\n",
       "      <th>1</th>\n",
       "      <td>1000001</td>\n",
       "      <td>1</td>\n",
       "      <td>0</td>\n",
       "      <td>0</td>\n",
       "      <td>0</td>\n",
       "      <td>0</td>\n",
       "      <td>0</td>\n",
       "      <td>0</td>\n",
       "      <td>0</td>\n",
       "      <td>0</td>\n",
       "      <td>0</td>\n",
       "      <td>0</td>\n",
       "      <td>0</td>\n",
       "      <td>0</td>\n",
       "      <td>0</td>\n",
       "      <td>0</td>\n",
       "      <td>0</td>\n",
       "      <td>0</td>\n",
       "      <td>0</td>\n",
       "    </tr>\n",
       "    <tr>\n",
       "      <th>2</th>\n",
       "      <td>1000001</td>\n",
       "      <td>0</td>\n",
       "      <td>0</td>\n",
       "      <td>0</td>\n",
       "      <td>0</td>\n",
       "      <td>0</td>\n",
       "      <td>0</td>\n",
       "      <td>0</td>\n",
       "      <td>0</td>\n",
       "      <td>0</td>\n",
       "      <td>0</td>\n",
       "      <td>0</td>\n",
       "      <td>1</td>\n",
       "      <td>0</td>\n",
       "      <td>0</td>\n",
       "      <td>0</td>\n",
       "      <td>0</td>\n",
       "      <td>0</td>\n",
       "      <td>0</td>\n",
       "    </tr>\n",
       "    <tr>\n",
       "      <th>3</th>\n",
       "      <td>1000001</td>\n",
       "      <td>0</td>\n",
       "      <td>0</td>\n",
       "      <td>0</td>\n",
       "      <td>0</td>\n",
       "      <td>0</td>\n",
       "      <td>0</td>\n",
       "      <td>0</td>\n",
       "      <td>0</td>\n",
       "      <td>0</td>\n",
       "      <td>0</td>\n",
       "      <td>0</td>\n",
       "      <td>1</td>\n",
       "      <td>0</td>\n",
       "      <td>0</td>\n",
       "      <td>0</td>\n",
       "      <td>0</td>\n",
       "      <td>0</td>\n",
       "      <td>0</td>\n",
       "    </tr>\n",
       "    <tr>\n",
       "      <th>4</th>\n",
       "      <td>1000002</td>\n",
       "      <td>0</td>\n",
       "      <td>0</td>\n",
       "      <td>0</td>\n",
       "      <td>0</td>\n",
       "      <td>0</td>\n",
       "      <td>0</td>\n",
       "      <td>0</td>\n",
       "      <td>1</td>\n",
       "      <td>0</td>\n",
       "      <td>0</td>\n",
       "      <td>0</td>\n",
       "      <td>0</td>\n",
       "      <td>0</td>\n",
       "      <td>0</td>\n",
       "      <td>0</td>\n",
       "      <td>0</td>\n",
       "      <td>0</td>\n",
       "      <td>0</td>\n",
       "    </tr>\n",
       "  </tbody>\n",
       "</table>\n",
       "</div>"
      ],
      "text/plain": [
       "   User_ID  Cat_1  Cat_2  Cat_3  Cat_4  Cat_5  Cat_6  Cat_7  Cat_8  Cat_9  \\\n",
       "0  1000001      0      0      1      0      0      0      0      0      0   \n",
       "1  1000001      1      0      0      0      0      0      0      0      0   \n",
       "2  1000001      0      0      0      0      0      0      0      0      0   \n",
       "3  1000001      0      0      0      0      0      0      0      0      0   \n",
       "4  1000002      0      0      0      0      0      0      0      1      0   \n",
       "\n",
       "   Cat_10  Cat_11  Cat_12  Cat_13  Cat_14  Cat_15  Cat_16  Cat_17  Cat_18  \n",
       "0       0       0       0       0       0       0       0       0       0  \n",
       "1       0       0       0       0       0       0       0       0       0  \n",
       "2       0       0       1       0       0       0       0       0       0  \n",
       "3       0       0       1       0       0       0       0       0       0  \n",
       "4       0       0       0       0       0       0       0       0       0  "
      ]
     },
     "execution_count": 91,
     "metadata": {},
     "output_type": "execute_result"
    }
   ],
   "source": [
    "dummies = pd.concat([df32['User_ID'], dummies], axis=1)\n",
    "dummies.head()"
   ]
  },
  {
   "cell_type": "code",
   "execution_count": 92,
   "metadata": {
    "colab": {
     "base_uri": "https://localhost:8080/",
     "height": 202
    },
    "colab_type": "code",
    "id": "Wiu649maUVHP",
    "outputId": "2094ed72-e8a9-416a-cb3b-e2ca215d8369"
   },
   "outputs": [
    {
     "data": {
      "text/html": [
       "<div>\n",
       "<style scoped>\n",
       "    .dataframe tbody tr th:only-of-type {\n",
       "        vertical-align: middle;\n",
       "    }\n",
       "\n",
       "    .dataframe tbody tr th {\n",
       "        vertical-align: top;\n",
       "    }\n",
       "\n",
       "    .dataframe thead th {\n",
       "        text-align: right;\n",
       "    }\n",
       "</style>\n",
       "<table border=\"1\" class=\"dataframe\">\n",
       "  <thead>\n",
       "    <tr style=\"text-align: right;\">\n",
       "      <th></th>\n",
       "      <th>User_ID</th>\n",
       "      <th>Cat_1</th>\n",
       "      <th>Cat_2</th>\n",
       "      <th>Cat_3</th>\n",
       "      <th>Cat_4</th>\n",
       "      <th>Cat_5</th>\n",
       "      <th>Cat_6</th>\n",
       "      <th>Cat_7</th>\n",
       "      <th>Cat_8</th>\n",
       "      <th>Cat_9</th>\n",
       "      <th>Cat_10</th>\n",
       "      <th>Cat_11</th>\n",
       "      <th>Cat_12</th>\n",
       "      <th>Cat_13</th>\n",
       "      <th>Cat_14</th>\n",
       "      <th>Cat_15</th>\n",
       "      <th>Cat_16</th>\n",
       "      <th>Cat_17</th>\n",
       "      <th>Cat_18</th>\n",
       "    </tr>\n",
       "  </thead>\n",
       "  <tbody>\n",
       "    <tr>\n",
       "      <th>0</th>\n",
       "      <td>1000001</td>\n",
       "      <td>4</td>\n",
       "      <td>1</td>\n",
       "      <td>11</td>\n",
       "      <td>2</td>\n",
       "      <td>2</td>\n",
       "      <td>1</td>\n",
       "      <td>0</td>\n",
       "      <td>8</td>\n",
       "      <td>0</td>\n",
       "      <td>0</td>\n",
       "      <td>0</td>\n",
       "      <td>3</td>\n",
       "      <td>0</td>\n",
       "      <td>1</td>\n",
       "      <td>0</td>\n",
       "      <td>1</td>\n",
       "      <td>0</td>\n",
       "      <td>0</td>\n",
       "    </tr>\n",
       "    <tr>\n",
       "      <th>1</th>\n",
       "      <td>1000002</td>\n",
       "      <td>31</td>\n",
       "      <td>1</td>\n",
       "      <td>0</td>\n",
       "      <td>0</td>\n",
       "      <td>13</td>\n",
       "      <td>6</td>\n",
       "      <td>0</td>\n",
       "      <td>25</td>\n",
       "      <td>0</td>\n",
       "      <td>0</td>\n",
       "      <td>0</td>\n",
       "      <td>0</td>\n",
       "      <td>0</td>\n",
       "      <td>0</td>\n",
       "      <td>0</td>\n",
       "      <td>0</td>\n",
       "      <td>0</td>\n",
       "      <td>0</td>\n",
       "    </tr>\n",
       "    <tr>\n",
       "      <th>2</th>\n",
       "      <td>1000003</td>\n",
       "      <td>15</td>\n",
       "      <td>2</td>\n",
       "      <td>1</td>\n",
       "      <td>0</td>\n",
       "      <td>9</td>\n",
       "      <td>0</td>\n",
       "      <td>0</td>\n",
       "      <td>1</td>\n",
       "      <td>0</td>\n",
       "      <td>0</td>\n",
       "      <td>0</td>\n",
       "      <td>0</td>\n",
       "      <td>0</td>\n",
       "      <td>0</td>\n",
       "      <td>0</td>\n",
       "      <td>0</td>\n",
       "      <td>0</td>\n",
       "      <td>1</td>\n",
       "    </tr>\n",
       "    <tr>\n",
       "      <th>3</th>\n",
       "      <td>1000004</td>\n",
       "      <td>13</td>\n",
       "      <td>0</td>\n",
       "      <td>0</td>\n",
       "      <td>0</td>\n",
       "      <td>0</td>\n",
       "      <td>0</td>\n",
       "      <td>0</td>\n",
       "      <td>0</td>\n",
       "      <td>0</td>\n",
       "      <td>0</td>\n",
       "      <td>0</td>\n",
       "      <td>0</td>\n",
       "      <td>0</td>\n",
       "      <td>0</td>\n",
       "      <td>0</td>\n",
       "      <td>0</td>\n",
       "      <td>0</td>\n",
       "      <td>0</td>\n",
       "    </tr>\n",
       "    <tr>\n",
       "      <th>4</th>\n",
       "      <td>1000005</td>\n",
       "      <td>18</td>\n",
       "      <td>2</td>\n",
       "      <td>1</td>\n",
       "      <td>3</td>\n",
       "      <td>20</td>\n",
       "      <td>6</td>\n",
       "      <td>5</td>\n",
       "      <td>44</td>\n",
       "      <td>0</td>\n",
       "      <td>0</td>\n",
       "      <td>2</td>\n",
       "      <td>0</td>\n",
       "      <td>0</td>\n",
       "      <td>1</td>\n",
       "      <td>1</td>\n",
       "      <td>3</td>\n",
       "      <td>0</td>\n",
       "      <td>0</td>\n",
       "    </tr>\n",
       "  </tbody>\n",
       "</table>\n",
       "</div>"
      ],
      "text/plain": [
       "   User_ID  Cat_1  Cat_2  Cat_3  Cat_4  Cat_5  Cat_6  Cat_7  Cat_8  Cat_9  \\\n",
       "0  1000001      4      1     11      2      2      1      0      8      0   \n",
       "1  1000002     31      1      0      0     13      6      0     25      0   \n",
       "2  1000003     15      2      1      0      9      0      0      1      0   \n",
       "3  1000004     13      0      0      0      0      0      0      0      0   \n",
       "4  1000005     18      2      1      3     20      6      5     44      0   \n",
       "\n",
       "   Cat_10  Cat_11  Cat_12  Cat_13  Cat_14  Cat_15  Cat_16  Cat_17  Cat_18  \n",
       "0       0       0       3       0       1       0       1       0       0  \n",
       "1       0       0       0       0       0       0       0       0       0  \n",
       "2       0       0       0       0       0       0       0       0       1  \n",
       "3       0       0       0       0       0       0       0       0       0  \n",
       "4       0       2       0       0       1       1       3       0       0  "
      ]
     },
     "execution_count": 92,
     "metadata": {},
     "output_type": "execute_result"
    }
   ],
   "source": [
    "dummies = dummies.groupby('User_ID').apply(lambda x : x.astype(int).sum()).drop('User_ID',axis=1).reset_index()\n",
    "dummies.head()"
   ]
  },
  {
   "cell_type": "code",
   "execution_count": 93,
   "metadata": {
    "colab": {
     "base_uri": "https://localhost:8080/",
     "height": 202
    },
    "colab_type": "code",
    "id": "GLhk61IcQpYR",
    "outputId": "364af1e2-16f4-4e28-8d30-a6abf0153477"
   },
   "outputs": [
    {
     "data": {
      "text/html": [
       "<div>\n",
       "<style scoped>\n",
       "    .dataframe tbody tr th:only-of-type {\n",
       "        vertical-align: middle;\n",
       "    }\n",
       "\n",
       "    .dataframe tbody tr th {\n",
       "        vertical-align: top;\n",
       "    }\n",
       "\n",
       "    .dataframe thead th {\n",
       "        text-align: right;\n",
       "    }\n",
       "</style>\n",
       "<table border=\"1\" class=\"dataframe\">\n",
       "  <thead>\n",
       "    <tr style=\"text-align: right;\">\n",
       "      <th></th>\n",
       "      <th>User_ID</th>\n",
       "      <th>Gender</th>\n",
       "      <th>Age</th>\n",
       "      <th>Occupation</th>\n",
       "      <th>City_Category</th>\n",
       "      <th>Stay_In_Current_City_Years</th>\n",
       "      <th>Marital_Status</th>\n",
       "      <th>Total_Purchase_Amount</th>\n",
       "      <th>User_Purchase_Count</th>\n",
       "    </tr>\n",
       "  </thead>\n",
       "  <tbody>\n",
       "    <tr>\n",
       "      <th>0</th>\n",
       "      <td>1000001</td>\n",
       "      <td>0</td>\n",
       "      <td>0</td>\n",
       "      <td>10</td>\n",
       "      <td>2</td>\n",
       "      <td>2.0</td>\n",
       "      <td>0</td>\n",
       "      <td>333481</td>\n",
       "      <td>34</td>\n",
       "    </tr>\n",
       "    <tr>\n",
       "      <th>4</th>\n",
       "      <td>1000002</td>\n",
       "      <td>1</td>\n",
       "      <td>6</td>\n",
       "      <td>16</td>\n",
       "      <td>0</td>\n",
       "      <td>4.0</td>\n",
       "      <td>0</td>\n",
       "      <td>810353</td>\n",
       "      <td>76</td>\n",
       "    </tr>\n",
       "    <tr>\n",
       "      <th>5</th>\n",
       "      <td>1000003</td>\n",
       "      <td>1</td>\n",
       "      <td>2</td>\n",
       "      <td>15</td>\n",
       "      <td>2</td>\n",
       "      <td>3.0</td>\n",
       "      <td>0</td>\n",
       "      <td>341635</td>\n",
       "      <td>29</td>\n",
       "    </tr>\n",
       "    <tr>\n",
       "      <th>6</th>\n",
       "      <td>1000004</td>\n",
       "      <td>1</td>\n",
       "      <td>4</td>\n",
       "      <td>7</td>\n",
       "      <td>1</td>\n",
       "      <td>2.0</td>\n",
       "      <td>1</td>\n",
       "      <td>205987</td>\n",
       "      <td>13</td>\n",
       "    </tr>\n",
       "    <tr>\n",
       "      <th>9</th>\n",
       "      <td>1000005</td>\n",
       "      <td>1</td>\n",
       "      <td>2</td>\n",
       "      <td>20</td>\n",
       "      <td>2</td>\n",
       "      <td>1.0</td>\n",
       "      <td>1</td>\n",
       "      <td>821001</td>\n",
       "      <td>106</td>\n",
       "    </tr>\n",
       "  </tbody>\n",
       "</table>\n",
       "</div>"
      ],
      "text/plain": [
       "   User_ID  Gender  Age  Occupation  City_Category  \\\n",
       "0  1000001       0    0          10              2   \n",
       "4  1000002       1    6          16              0   \n",
       "5  1000003       1    2          15              2   \n",
       "6  1000004       1    4           7              1   \n",
       "9  1000005       1    2          20              2   \n",
       "\n",
       "   Stay_In_Current_City_Years  Marital_Status  Total_Purchase_Amount  \\\n",
       "0                         2.0               0                 333481   \n",
       "4                         4.0               0                 810353   \n",
       "5                         3.0               0                 341635   \n",
       "6                         2.0               1                 205987   \n",
       "9                         1.0               1                 821001   \n",
       "\n",
       "   User_Purchase_Count  \n",
       "0                   34  \n",
       "4                   76  \n",
       "5                   29  \n",
       "6                   13  \n",
       "9                  106  "
      ]
     },
     "execution_count": 93,
     "metadata": {},
     "output_type": "execute_result"
    }
   ],
   "source": [
    "df32.drop('Product_Category_1',axis=1,inplace=True)\n",
    "df32.drop_duplicates(keep='first', inplace=True)\n",
    "df32.head()"
   ]
  },
  {
   "cell_type": "code",
   "execution_count": 94,
   "metadata": {
    "colab": {
     "base_uri": "https://localhost:8080/",
     "height": 222
    },
    "colab_type": "code",
    "id": "6rAajdj7RKza",
    "outputId": "6aa11015-164f-4067-c67b-bac9ae8cebf0"
   },
   "outputs": [
    {
     "data": {
      "text/html": [
       "<div>\n",
       "<style scoped>\n",
       "    .dataframe tbody tr th:only-of-type {\n",
       "        vertical-align: middle;\n",
       "    }\n",
       "\n",
       "    .dataframe tbody tr th {\n",
       "        vertical-align: top;\n",
       "    }\n",
       "\n",
       "    .dataframe thead th {\n",
       "        text-align: right;\n",
       "    }\n",
       "</style>\n",
       "<table border=\"1\" class=\"dataframe\">\n",
       "  <thead>\n",
       "    <tr style=\"text-align: right;\">\n",
       "      <th></th>\n",
       "      <th>User_ID</th>\n",
       "      <th>Gender</th>\n",
       "      <th>Age</th>\n",
       "      <th>Occupation</th>\n",
       "      <th>City_Category</th>\n",
       "      <th>Stay_In_Current_City_Years</th>\n",
       "      <th>Marital_Status</th>\n",
       "      <th>Total_Purchase_Amount</th>\n",
       "      <th>User_Purchase_Count</th>\n",
       "      <th>Cat_1</th>\n",
       "      <th>...</th>\n",
       "      <th>Cat_9</th>\n",
       "      <th>Cat_10</th>\n",
       "      <th>Cat_11</th>\n",
       "      <th>Cat_12</th>\n",
       "      <th>Cat_13</th>\n",
       "      <th>Cat_14</th>\n",
       "      <th>Cat_15</th>\n",
       "      <th>Cat_16</th>\n",
       "      <th>Cat_17</th>\n",
       "      <th>Cat_18</th>\n",
       "    </tr>\n",
       "  </thead>\n",
       "  <tbody>\n",
       "    <tr>\n",
       "      <th>0</th>\n",
       "      <td>1000001</td>\n",
       "      <td>0</td>\n",
       "      <td>0</td>\n",
       "      <td>10</td>\n",
       "      <td>2</td>\n",
       "      <td>2.0</td>\n",
       "      <td>0</td>\n",
       "      <td>333481</td>\n",
       "      <td>34</td>\n",
       "      <td>4</td>\n",
       "      <td>...</td>\n",
       "      <td>0</td>\n",
       "      <td>0</td>\n",
       "      <td>0</td>\n",
       "      <td>3</td>\n",
       "      <td>0</td>\n",
       "      <td>1</td>\n",
       "      <td>0</td>\n",
       "      <td>1</td>\n",
       "      <td>0</td>\n",
       "      <td>0</td>\n",
       "    </tr>\n",
       "    <tr>\n",
       "      <th>1</th>\n",
       "      <td>1000002</td>\n",
       "      <td>1</td>\n",
       "      <td>6</td>\n",
       "      <td>16</td>\n",
       "      <td>0</td>\n",
       "      <td>4.0</td>\n",
       "      <td>0</td>\n",
       "      <td>810353</td>\n",
       "      <td>76</td>\n",
       "      <td>31</td>\n",
       "      <td>...</td>\n",
       "      <td>0</td>\n",
       "      <td>0</td>\n",
       "      <td>0</td>\n",
       "      <td>0</td>\n",
       "      <td>0</td>\n",
       "      <td>0</td>\n",
       "      <td>0</td>\n",
       "      <td>0</td>\n",
       "      <td>0</td>\n",
       "      <td>0</td>\n",
       "    </tr>\n",
       "    <tr>\n",
       "      <th>2</th>\n",
       "      <td>1000003</td>\n",
       "      <td>1</td>\n",
       "      <td>2</td>\n",
       "      <td>15</td>\n",
       "      <td>2</td>\n",
       "      <td>3.0</td>\n",
       "      <td>0</td>\n",
       "      <td>341635</td>\n",
       "      <td>29</td>\n",
       "      <td>15</td>\n",
       "      <td>...</td>\n",
       "      <td>0</td>\n",
       "      <td>0</td>\n",
       "      <td>0</td>\n",
       "      <td>0</td>\n",
       "      <td>0</td>\n",
       "      <td>0</td>\n",
       "      <td>0</td>\n",
       "      <td>0</td>\n",
       "      <td>0</td>\n",
       "      <td>1</td>\n",
       "    </tr>\n",
       "    <tr>\n",
       "      <th>3</th>\n",
       "      <td>1000004</td>\n",
       "      <td>1</td>\n",
       "      <td>4</td>\n",
       "      <td>7</td>\n",
       "      <td>1</td>\n",
       "      <td>2.0</td>\n",
       "      <td>1</td>\n",
       "      <td>205987</td>\n",
       "      <td>13</td>\n",
       "      <td>13</td>\n",
       "      <td>...</td>\n",
       "      <td>0</td>\n",
       "      <td>0</td>\n",
       "      <td>0</td>\n",
       "      <td>0</td>\n",
       "      <td>0</td>\n",
       "      <td>0</td>\n",
       "      <td>0</td>\n",
       "      <td>0</td>\n",
       "      <td>0</td>\n",
       "      <td>0</td>\n",
       "    </tr>\n",
       "    <tr>\n",
       "      <th>4</th>\n",
       "      <td>1000005</td>\n",
       "      <td>1</td>\n",
       "      <td>2</td>\n",
       "      <td>20</td>\n",
       "      <td>2</td>\n",
       "      <td>1.0</td>\n",
       "      <td>1</td>\n",
       "      <td>821001</td>\n",
       "      <td>106</td>\n",
       "      <td>18</td>\n",
       "      <td>...</td>\n",
       "      <td>0</td>\n",
       "      <td>0</td>\n",
       "      <td>2</td>\n",
       "      <td>0</td>\n",
       "      <td>0</td>\n",
       "      <td>1</td>\n",
       "      <td>1</td>\n",
       "      <td>3</td>\n",
       "      <td>0</td>\n",
       "      <td>0</td>\n",
       "    </tr>\n",
       "  </tbody>\n",
       "</table>\n",
       "<p>5 rows × 27 columns</p>\n",
       "</div>"
      ],
      "text/plain": [
       "   User_ID  Gender  Age  Occupation  City_Category  \\\n",
       "0  1000001       0    0          10              2   \n",
       "1  1000002       1    6          16              0   \n",
       "2  1000003       1    2          15              2   \n",
       "3  1000004       1    4           7              1   \n",
       "4  1000005       1    2          20              2   \n",
       "\n",
       "   Stay_In_Current_City_Years  Marital_Status  Total_Purchase_Amount  \\\n",
       "0                         2.0               0                 333481   \n",
       "1                         4.0               0                 810353   \n",
       "2                         3.0               0                 341635   \n",
       "3                         2.0               1                 205987   \n",
       "4                         1.0               1                 821001   \n",
       "\n",
       "   User_Purchase_Count  Cat_1  ...  Cat_9  Cat_10  Cat_11  Cat_12  Cat_13  \\\n",
       "0                   34      4  ...      0       0       0       3       0   \n",
       "1                   76     31  ...      0       0       0       0       0   \n",
       "2                   29     15  ...      0       0       0       0       0   \n",
       "3                   13     13  ...      0       0       0       0       0   \n",
       "4                  106     18  ...      0       0       2       0       0   \n",
       "\n",
       "   Cat_14  Cat_15  Cat_16  Cat_17  Cat_18  \n",
       "0       1       0       1       0       0  \n",
       "1       0       0       0       0       0  \n",
       "2       0       0       0       0       1  \n",
       "3       0       0       0       0       0  \n",
       "4       1       1       3       0       0  \n",
       "\n",
       "[5 rows x 27 columns]"
      ]
     },
     "execution_count": 94,
     "metadata": {},
     "output_type": "execute_result"
    }
   ],
   "source": [
    "df52 = pd.merge(df32, dummies, how='inner', on='User_ID')\n",
    "df52.head()"
   ]
  },
  {
   "cell_type": "code",
   "execution_count": 95,
   "metadata": {
    "colab": {
     "base_uri": "https://localhost:8080/",
     "height": 34
    },
    "colab_type": "code",
    "id": "EQMt4zTIb7K9",
    "outputId": "7023027f-23d0-44aa-dc74-b2b90c0b05e8"
   },
   "outputs": [
    {
     "data": {
      "text/plain": [
       "(5891, 27)"
      ]
     },
     "execution_count": 95,
     "metadata": {},
     "output_type": "execute_result"
    }
   ],
   "source": [
    "df52.shape"
   ]
  },
  {
   "cell_type": "markdown",
   "metadata": {
    "colab_type": "text",
    "id": "HdplxbVvfnjO"
   },
   "source": [
    "## Model Building"
   ]
  },
  {
   "cell_type": "code",
   "execution_count": 96,
   "metadata": {
    "colab": {},
    "colab_type": "code",
    "id": "2lUbvb0ocEGl"
   },
   "outputs": [],
   "source": [
    "\n",
    "X = df52.drop(['User_ID','Total_Purchase_Amount'],axis=1)\n",
    "Y = df52['Total_Purchase_Amount']\n",
    "\n",
    "#from sklearn.preprocessing import StandardScaler\n",
    "#sc=StandardScaler()\n",
    "#X=sc.fit_transform(X)\n",
    "\n",
    "X_train, X_test, Y_train, Y_test = train_test_split(X, Y, train_size=0.7, test_size = 0.3, random_state=100)\n"
   ]
  },
  {
   "cell_type": "code",
   "execution_count": 97,
   "metadata": {
    "colab": {
     "base_uri": "https://localhost:8080/",
     "height": 34
    },
    "colab_type": "code",
    "id": "IWtRpqhgcXiR",
    "outputId": "860739ea-7d6c-41fb-fa02-718214c650ac"
   },
   "outputs": [
    {
     "data": {
      "text/plain": [
       "LinearRegression(copy_X=True, fit_intercept=True, n_jobs=None, normalize=False)"
      ]
     },
     "execution_count": 97,
     "metadata": {},
     "output_type": "execute_result"
    }
   ],
   "source": [
    "lm = LinearRegression()\n",
    "lm.fit(X_train, Y_train)"
   ]
  },
  {
   "cell_type": "code",
   "execution_count": 98,
   "metadata": {
    "colab": {
     "base_uri": "https://localhost:8080/",
     "height": 86
    },
    "colab_type": "code",
    "id": "zCwDqLC6caAE",
    "outputId": "dbc78339-f570-4922-ea15-cc9433f473e2"
   },
   "outputs": [
    {
     "name": "stdout",
     "output_type": "stream",
     "text": [
      "Mean Absolute Error = 80532.63438108678\n",
      "Mean Squared Error = 20935741926.15665\n",
      "R Square Value = 0.9767739447939396\n",
      "RMSE Value = 144691.88617941452\n"
     ]
    }
   ],
   "source": [
    "y_pred = lm.predict(X_test)\n",
    "\n",
    "mae = mean_absolute_error(Y_test, y_pred)\n",
    "mse = mean_squared_error(Y_test, y_pred)\n",
    "r_squared = r2_score(Y_test, y_pred)\n",
    "print('Mean Absolute Error =' ,mae)\n",
    "print('Mean Squared Error =' ,mse)\n",
    "print('R Square Value =',r_squared)\n",
    "print(\"RMSE Value =\",np.sqrt(mse))"
   ]
  },
  {
   "cell_type": "markdown",
   "metadata": {
    "colab_type": "text",
    "id": "1F1hRJkZdJ1y"
   },
   "source": [
    "After FE, there is an improvement in the RMSE Value. RMSE has reduced from 167606 to 144691."
   ]
  },
  {
   "cell_type": "code",
   "execution_count": 99,
   "metadata": {
    "colab": {
     "base_uri": "https://localhost:8080/",
     "height": 424
    },
    "colab_type": "code",
    "id": "suFOSIPzW5k8",
    "outputId": "015a83dd-2ed0-4f42-b807-755fa2d89631"
   },
   "outputs": [
    {
     "data": {
      "text/plain": [
       "<Figure size 432x288 with 0 Axes>"
      ]
     },
     "metadata": {},
     "output_type": "display_data"
    },
    {
     "data": {
      "image/png": "[encoded data removed]",
      "text/plain": [
       "<Figure size 720x432 with 1 Axes>"
      ]
     },
     "metadata": {
      "needs_background": "light"
     },
     "output_type": "display_data"
    }
   ],
   "source": [
    "# Actual vs Predicted\n",
    "\n",
    "c = [i for i in range(1,1769,1)]         # Generating index \n",
    "\n",
    "fig = plt.figure()\n",
    "plt.figure(figsize = (10,6))\n",
    "\n",
    "plt.plot(c,Y_test, color=\"blue\", linewidth=2.5, linestyle=\"-\")\n",
    "plt.plot(c,y_pred, color=\"red\",  linewidth=2.5, linestyle=\"-\")\n",
    "fig.suptitle('Actual and Predicted', fontsize=20)              # Plot heading \n",
    "plt.xlabel('Index', fontsize=18)                               # X-label\n",
    "plt.ylabel('Total Purchase', fontsize=16)                       # Y-label\n",
    "plt.show()"
   ]
  },
  {
   "cell_type": "code",
   "execution_count": 100,
   "metadata": {
    "colab": {
     "base_uri": "https://localhost:8080/",
     "height": 456
    },
    "colab_type": "code",
    "id": "lTHLk9_zahba",
    "outputId": "029214d8-3547-4272-f634-290206b06714"
   },
   "outputs": [
    {
     "data": {
      "text/plain": [
       "<Figure size 432x288 with 0 Axes>"
      ]
     },
     "metadata": {},
     "output_type": "display_data"
    },
    {
     "data": {
      "image/png": "[encoded data removed]",
      "text/plain": [
       "<Figure size 720x432 with 1 Axes>"
      ]
     },
     "metadata": {
      "needs_background": "light"
     },
     "output_type": "display_data"
    }
   ],
   "source": [
    "fig = plt.figure()\n",
    "plt.figure(figsize = (10,6))\n",
    "plt.scatter(X_test.User_Purchase_Count,Y_test, color=\"blue\", label='Actual')\n",
    "plt.scatter(X_test.User_Purchase_Count,y_pred, color=\"red\", label='Predicted')\n",
    "plt.suptitle('Actual and Predicted', fontsize=20)              # Plot heading \n",
    "plt.legend()\n",
    "plt.xlabel('User Purchase Count', fontsize=18)                               # X-label\n",
    "plt.ylabel('Total Purchase', fontsize=16) \n",
    "\n",
    "plt.show()"
   ]
  },
  {
   "cell_type": "code",
   "execution_count": 101,
   "metadata": {
    "colab": {
     "base_uri": "https://localhost:8080/",
     "height": 398
    },
    "colab_type": "code",
    "id": "hupGhXCjcHy_",
    "outputId": "0a7aabeb-98c9-4bad-e90d-fb3dddc5f466"
   },
   "outputs": [
    {
     "data": {
      "image/png": "[encoded data removed]",
      "text/plain": [
       "<Figure size 720x432 with 1 Axes>"
      ]
     },
     "metadata": {
      "needs_background": "light"
     },
     "output_type": "display_data"
    }
   ],
   "source": [
    "#Scatter plot of Actual VS Predicted values\n",
    "\n",
    "plt.figure(figsize = (10,6))\n",
    "plt.scatter(Y_test, y_pred)\n",
    "plt.plot(y_pred,y_pred, color='magenta', linewidth=2)\n",
    "plt.xlabel('Y Test')\n",
    "plt.ylabel('Predicted Y')\n",
    "plt.show()"
   ]
  },
  {
   "cell_type": "code",
   "execution_count": 102,
   "metadata": {
    "colab": {
     "base_uri": "https://localhost:8080/",
     "height": 884
    },
    "colab_type": "code",
    "id": "9NA4tE8tc3au",
    "outputId": "777c8166-d2ba-46c7-d253-6374e229f336"
   },
   "outputs": [
    {
     "name": "stdout",
     "output_type": "stream",
     "text": [
      "                                  OLS Regression Results                                  \n",
      "==========================================================================================\n",
      "Dep. Variable:     Total_Purchase_Amount   R-squared (uncentered):                   0.986\n",
      "Model:                               OLS   Adj. R-squared (uncentered):              0.986\n",
      "Method:                    Least Squares   F-statistic:                          1.245e+04\n",
      "Date:                   Tue, 03 Dec 2019   Prob (F-statistic):                        0.00\n",
      "Time:                           19:53:06   Log-Likelihood:                         -54884.\n",
      "No. Observations:                   4123   AIC:                                  1.098e+05\n",
      "Df Residuals:                       4099   BIC:                                  1.100e+05\n",
      "Df Model:                             24                                                  \n",
      "Covariance Type:               nonrobust                                                  \n",
      "==============================================================================================\n",
      "                                 coef    std err          t      P>|t|      [0.025      0.975]\n",
      "----------------------------------------------------------------------------------------------\n",
      "Gender                      1.872e+04   4920.191      3.805      0.000    9076.418    2.84e+04\n",
      "Age                         6213.8834   1468.978      4.230      0.000    3333.889    9093.877\n",
      "Occupation                   221.5198    353.597      0.626      0.531    -471.723     914.762\n",
      "City_Category               1512.4923   3122.842      0.484      0.628   -4609.973    7634.958\n",
      "Stay_In_Current_City_Years  4287.0579   1620.394      2.646      0.008    1110.206    7463.909\n",
      "Marital_Status               517.4400   4896.057      0.106      0.916   -9081.490    1.01e+04\n",
      "User_Purchase_Count         8869.7040    623.595     14.224      0.000    7647.119    1.01e+04\n",
      "Cat_1                       3766.5262    654.127      5.758      0.000    2484.082    5048.970\n",
      "Cat_2                       7473.0492   1058.179      7.062      0.000    5398.443    9547.655\n",
      "Cat_3                       2247.9137    910.531      2.469      0.014     462.779    4033.049\n",
      "Cat_4                      -1.224e+04   1215.775    -10.069      0.000   -1.46e+04   -9857.769\n",
      "Cat_5                      -3301.6123    638.283     -5.173      0.000   -4552.993   -2050.231\n",
      "Cat_6                       7832.5759   1028.743      7.614      0.000    5815.681    9849.471\n",
      "Cat_7                       8102.6683   1593.843      5.084      0.000    4977.871    1.12e+04\n",
      "Cat_8                      -1811.2821    686.126     -2.640      0.008   -3156.462    -466.102\n",
      "Cat_9                       1.914e+04   9602.725      1.993      0.046     310.300     3.8e+04\n",
      "Cat_10                      1.501e+04   2107.681      7.120      0.000    1.09e+04    1.91e+04\n",
      "Cat_11                     -6063.4926    705.458     -8.595      0.000   -7446.574   -4680.411\n",
      "Cat_12                     -8541.1925   1848.302     -4.621      0.000   -1.22e+04   -4917.517\n",
      "Cat_13                     -4878.9482   2091.005     -2.333      0.020   -8978.453    -779.444\n",
      "Cat_14                     -7124.0745   3700.241     -1.925      0.054   -1.44e+04     130.408\n",
      "Cat_15                      1190.7687   1800.312      0.661      0.508   -2338.821    4720.358\n",
      "Cat_16                      5276.3013   1332.877      3.959      0.000    2663.138    7889.464\n",
      "Cat_17                     -8347.8620   6018.894     -1.387      0.166   -2.01e+04    3452.438\n",
      "Cat_18                     -8852.8191   2023.243     -4.376      0.000   -1.28e+04   -4886.165\n",
      "==============================================================================\n",
      "Omnibus:                     1988.226   Durbin-Watson:                   1.991\n",
      "Prob(Omnibus):                  0.000   Jarque-Bera (JB):            91144.256\n",
      "Skew:                          -1.571   Prob(JB):                         0.00\n",
      "Kurtosis:                      25.818   Cond. No.                     1.84e+16\n",
      "==============================================================================\n",
      "\n",
      "Warnings:\n",
      "[1] Standard Errors assume that the covariance matrix of the errors is correctly specified.\n",
      "[2] The smallest eigenvalue is 2.81e-25. This might indicate that there are\n",
      "strong multicollinearity problems or that the design matrix is singular.\n"
     ]
    }
   ],
   "source": [
    "lm_ols = sm.OLS(Y_train, X_train).fit()   \n",
    "print(lm_ols.summary())"
   ]
  },
  {
   "cell_type": "code",
   "execution_count": 103,
   "metadata": {
    "colab": {
     "base_uri": "https://localhost:8080/",
     "height": 190
    },
    "colab_type": "code",
    "id": "VdARaSSj8wP2",
    "outputId": "10512345-0264-4e1b-c5e8-aa7d3ea0438c"
   },
   "outputs": [
    {
     "name": "stdout",
     "output_type": "stream",
     "text": [
      "The model performance for training set\n",
      "--------------------------------------\n",
      "RMSE is 145925.54404142607\n",
      "R square is 0.975\n",
      "\n",
      "\n",
      "The model performance for testing set\n",
      "--------------------------------------\n",
      "RMSE is 144691.88617941452\n",
      "R square is 0.977\n"
     ]
    }
   ],
   "source": [
    "lin_model = LinearRegression()\n",
    "\n",
    "lin_model.fit(X_train, Y_train)\n",
    "\n",
    "\n",
    "# model evaluation for training set\n",
    "\n",
    "y_train_predict = lin_model.predict(X_train)\n",
    "\n",
    "rmse = (np.sqrt(mean_squared_error(Y_train, y_train_predict)))\n",
    "print(\"The model performance for training set\")\n",
    "\n",
    "print(\"--------------------------------------\")\n",
    "\n",
    "print('RMSE is {}'.format(rmse))\n",
    "\n",
    "print('R square is %1.3f' %lin_model.score(X_train, Y_train))\n",
    "\n",
    "#print('R2 score is {}'.format(r2))\n",
    "\n",
    "print(\"\\n\")\n",
    "\n",
    "# model evaluation for testing set\n",
    "\n",
    "y_test_predict = lin_model.predict(X_test)\n",
    "\n",
    "rmse = (np.sqrt(mean_squared_error(Y_test, y_test_predict)))\n",
    "\n",
    "print(\"The model performance for testing set\")\n",
    "\n",
    "print(\"--------------------------------------\")\n",
    "\n",
    "print('RMSE is {}'.format(rmse))\n",
    "\n",
    "print('R square is %1.3f' %lin_model.score(X_test, Y_test))"
   ]
  },
  {
   "cell_type": "code",
   "execution_count": 104,
   "metadata": {
    "colab": {
     "base_uri": "https://localhost:8080/",
     "height": 294
    },
    "colab_type": "code",
    "id": "4lX2qSzlPGea",
    "outputId": "175bbeb5-9db5-4d79-aea3-cd348b41092c"
   },
   "outputs": [
    {
     "data": {
      "image/png": "[encoded data removed]",
      "text/plain": [
       "<Figure size 432x288 with 1 Axes>"
      ]
     },
     "metadata": {
      "needs_background": "light"
     },
     "output_type": "display_data"
    }
   ],
   "source": [
    "#Called, Q-Q plot\n",
    "stats.probplot(lm_ols.resid, plot= plt)\n",
    "plt.title(\"Model1 Residuals Probability Plot\")\n",
    "plt.show()"
   ]
  },
  {
   "cell_type": "code",
   "execution_count": 105,
   "metadata": {
    "colab": {
     "base_uri": "https://localhost:8080/",
     "height": 34
    },
    "colab_type": "code",
    "id": "0jzig9Uw5gjM",
    "outputId": "f2956671-4eff-4544-ee42-bbe9f97c3566"
   },
   "outputs": [
    {
     "name": "stdout",
     "output_type": "stream",
     "text": [
      "[('F statistic', 0.7347943760969017), ('p-value', 0.9999999999980457)]\n"
     ]
    }
   ],
   "source": [
    "import statsmodels.stats.api     as     sms\n",
    "from   statsmodels.compat        import lzip\n",
    "\n",
    "residuals = lm_ols.resid\n",
    "name = ['F statistic', 'p-value']\n",
    "\n",
    "test = sms.het_goldfeldquandt(residuals, lm_ols.model.exog)\n",
    "\n",
    "print(lzip(name, test))"
   ]
  },
  {
   "cell_type": "code",
   "execution_count": null,
   "metadata": {
    "colab": {
     "base_uri": "https://localhost:8080/",
     "height": 310
    },
    "colab_type": "code",
    "id": "IYGRlDUG5lOo",
    "outputId": "58c67d7d-38bc-4ffe-a94a-4d2cdc7e7eb8"
   },
   "outputs": [],
   "source": [
    "# Plot the residuals after fitting a linear model\n",
    "#ax = sns.residplot(Y_, residuals, lowess = True, color = \"g\")\n",
    "#ax.set(xlabel='Fitted Value', ylabel='Residuals', title = 'Residual Vs Fitted values PLOT \\n')\n",
    "#plt.show()"
   ]
  },
  {
   "cell_type": "markdown",
   "metadata": {
    "colab_type": "text",
    "id": "NX8NLL0cPfi8"
   },
   "source": [
    "#### Decision Tree Model"
   ]
  },
  {
   "cell_type": "code",
   "execution_count": null,
   "metadata": {
    "colab": {
     "base_uri": "https://localhost:8080/",
     "height": 104
    },
    "colab_type": "code",
    "id": "yhLYN9fKPaGs",
    "outputId": "81d29aae-3f9c-42e7-d804-a16e51367a6b"
   },
   "outputs": [],
   "source": [
    "dt_model = DecisionTreeRegressor(max_depth=5,random_state=100)\n",
    "dt_model.fit(X_train, Y_train)"
   ]
  },
  {
   "cell_type": "code",
   "execution_count": null,
   "metadata": {
    "colab": {},
    "colab_type": "code",
    "id": "9svreNcVPaG4"
   },
   "outputs": [],
   "source": [
    "y_pred = dt_model.predict(X_test)"
   ]
  },
  {
   "cell_type": "code",
   "execution_count": null,
   "metadata": {
    "colab": {
     "base_uri": "https://localhost:8080/",
     "height": 69
    },
    "colab_type": "code",
    "id": "mLfrD7lWPaHA",
    "outputId": "cec6b999-fd47-4ca2-a680-5d2c345df591"
   },
   "outputs": [],
   "source": [
    "print(\"Mean Squared error with Decision tree Regresssion is: \", mean_squared_error(Y_test, y_pred))\n",
    "print(\"R2 score with Simple Decision tree Regresssion is: \", r2_score(Y_test, y_pred))\n",
    "print(\"Root Mean Squared error(RMSE) with Decision tree Regresssion is: \", np.sqrt(mean_squared_error(Y_test, y_pred)))"
   ]
  },
  {
   "cell_type": "code",
   "execution_count": null,
   "metadata": {
    "colab": {},
    "colab_type": "code",
    "id": "v2NGZl6qPaHI"
   },
   "outputs": [],
   "source": [
    "#print (pd.DataFrame(dt_model.feature_importances_, columns = [\"Imp\"],index=X_train.columns))"
   ]
  },
  {
   "cell_type": "code",
   "execution_count": null,
   "metadata": {
    "colab": {},
    "colab_type": "code",
    "id": "7yVXU_SSPaHM"
   },
   "outputs": [],
   "source": [
    "rf=RandomForestRegressor()\n",
    "\n",
    "y_pred=rf.fit(X_train, Y_train).predict(X_test)"
   ]
  },
  {
   "cell_type": "code",
   "execution_count": null,
   "metadata": {
    "colab": {
     "base_uri": "https://localhost:8080/",
     "height": 69
    },
    "colab_type": "code",
    "id": "Eqct-QpSPaHQ",
    "outputId": "7d7d9a46-91cd-4ae1-de5e-baa85630de54"
   },
   "outputs": [],
   "source": [
    "print(\"Mean Squared error with RandomForest Regresssion is: \", mean_squared_error(Y_test, y_pred))\n",
    "print(\"R2 score with Simple RandomForest Regresssion is: \", r2_score(Y_test, y_pred))\n",
    "print(\"Root Mean Squared error(RMSE) with RandomForest Regresssion is: \", np.sqrt(mean_squared_error(Y_test, y_pred)))"
   ]
  },
  {
   "cell_type": "code",
   "execution_count": null,
   "metadata": {
    "colab": {
     "base_uri": "https://localhost:8080/",
     "height": 468
    },
    "colab_type": "code",
    "id": "GhdhExNpRZ2g",
    "outputId": "bf7543ed-19d7-4ccf-9b2a-99a2b69652d6"
   },
   "outputs": [],
   "source": [
    "print (pd.DataFrame(rf.feature_importances_, columns = [\"Imp\"],index=X_train.columns).sort_values('Imp',ascending=False))"
   ]
  },
  {
   "cell_type": "code",
   "execution_count": null,
   "metadata": {
    "colab": {},
    "colab_type": "code",
    "id": "uWCHeoKv-6TF"
   },
   "outputs": [],
   "source": [
    "fi = pd.DataFrame(rf.feature_importances_, columns = [\"Imp\"],index=X_train.columns).sort_values('Imp',ascending=False)"
   ]
  },
  {
   "cell_type": "code",
   "execution_count": null,
   "metadata": {
    "colab": {
     "base_uri": "https://localhost:8080/",
     "height": 816
    },
    "colab_type": "code",
    "id": "lOAlyKWv_J4d",
    "outputId": "262a4b2b-5eaf-4ea5-b00d-1992b4c752ab"
   },
   "outputs": [],
   "source": [
    "fi"
   ]
  },
  {
   "cell_type": "code",
   "execution_count": null,
   "metadata": {
    "colab": {
     "base_uri": "https://localhost:8080/",
     "height": 173
    },
    "colab_type": "code",
    "id": "KQq-yjqCPaHS",
    "outputId": "2ff946fc-b4b1-492f-e87d-47ca595a3240"
   },
   "outputs": [],
   "source": [
    "gb=GradientBoostingRegressor(max_depth=2)\n",
    "gb.fit(X_train, Y_train)"
   ]
  },
  {
   "cell_type": "code",
   "execution_count": null,
   "metadata": {
    "colab": {},
    "colab_type": "code",
    "id": "Hft1xQZm3hCx"
   },
   "outputs": [],
   "source": [
    "y_pred=gb.fit(X_train, Y_train).predict(X_test)"
   ]
  },
  {
   "cell_type": "code",
   "execution_count": null,
   "metadata": {
    "colab": {
     "base_uri": "https://localhost:8080/",
     "height": 69
    },
    "colab_type": "code",
    "id": "5Uup7ELuPaHV",
    "outputId": "6e698e3c-20aa-4b95-e82e-0f2b12b54862"
   },
   "outputs": [],
   "source": [
    "print(\"Mean Squared error with GradientBoosting Regresssion is: \", mean_squared_error(Y_test, y_pred))\n",
    "print(\"R2 score with GradientBoosting Regresssion is: \", r2_score(Y_test, y_pred))\n",
    "print(\"Root Mean Squared error(RMSE) with GradientBoosting Regresssion is: \", np.sqrt(mean_squared_error(Y_test, y_pred)))"
   ]
  }
 ],
 "metadata": {
  "colab": {
   "collapsed_sections": [],
   "name": "Black Friday Sales DS-Models.ipynb",
   "provenance": []
  },
  "kernelspec": {
   "display_name": "Python 3",
   "language": "python",
   "name": "python3"
  },
  "language_info": {
   "codemirror_mode": {
    "name": "ipython",
    "version": 3
   },
   "file_extension": ".py",
   "mimetype": "text/x-python",
   "name": "python",
   "nbconvert_exporter": "python",
   "pygments_lexer": "ipython3",
   "version": "3.7.1"
  }
 },
 "nbformat": 4,
 "nbformat_minor": 1
}
